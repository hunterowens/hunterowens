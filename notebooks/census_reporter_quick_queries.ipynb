{
 "cells": [
  {
   "cell_type": "code",
   "execution_count": 5,
   "metadata": {
    "collapsed": true
   },
   "outputs": [],
   "source": [
    "import requests\n",
    "import pandas as pd"
   ]
  },
  {
   "cell_type": "code",
   "execution_count": 6,
   "metadata": {
    "collapsed": true
   },
   "outputs": [],
   "source": [
    "zips = [90049, 60608, 60615]"
   ]
  },
  {
   "cell_type": "code",
   "execution_count": 7,
   "metadata": {
    "collapsed": true
   },
   "outputs": [],
   "source": [
    "API_URL=\"http://api.censusreporter.org/1.0/data/show/{release}?table_ids={table_ids}&geo_ids={geoids}\"\n"
   ]
  },
  {
   "cell_type": "code",
   "execution_count": 8,
   "metadata": {
    "collapsed": true
   },
   "outputs": [],
   "source": [
    "def get_data(tables=None, geoids=None, release='latest'):\n",
    "    if geoids is None:\n",
    "        geoids = ['040|01000US']\n",
    "    if tables is None:\n",
    "        tables = ['B01001']\n",
    "\n",
    "    url = API_URL.format(table_ids=','.join(tables).upper(), \n",
    "                         geoids=','.join(geoids), \n",
    "                         release=release)\n",
    "    response = requests.get(url)\n",
    "    return response.json()"
   ]
  },
  {
   "cell_type": "code",
   "execution_count": 9,
   "metadata": {
    "collapsed": true
   },
   "outputs": [],
   "source": [
    "def prep_for_pandas(json_data,include_moe=False):\n",
    "    \"\"\"Given a dict of dicts as they come from a Census Reporter API call, set it up to be amenable to pandas.DataFrame.from_dict\"\"\"\n",
    "    result = {}\n",
    "    for geoid, tables in json_data.items():\n",
    "        flat = {}\n",
    "        for table,values in tables.items():\n",
    "            for kind, columns in values.items():\n",
    "                if kind == 'estimate':\n",
    "                    flat.update(columns)\n",
    "                elif kind == 'error' and include_moe:\n",
    "                    renamed = dict((k+\"_moe\",v) for k,v in columns.items())\n",
    "                    flat.update(renamed)\n",
    "        result[geoid] = flat\n",
    "    return result\n"
   ]
  },
  {
   "cell_type": "code",
   "execution_count": 19,
   "metadata": {
    "collapsed": false
   },
   "outputs": [],
   "source": [
    "response = get_data(geoids = [\"86000US\" + str(z) for z in zips], tables = ['B17001'])\n",
    "df = pd.DataFrame.from_dict(prep_for_pandas(response['data']),orient='index')"
   ]
  },
  {
   "cell_type": "code",
   "execution_count": 20,
   "metadata": {
    "collapsed": false
   },
   "outputs": [
    {
     "data": {
      "text/html": [
       "<div>\n",
       "<table border=\"1\" class=\"dataframe\">\n",
       "  <thead>\n",
       "    <tr style=\"text-align: right;\">\n",
       "      <th></th>\n",
       "      <th>B17001010</th>\n",
       "      <th>B17001049</th>\n",
       "      <th>B17001033</th>\n",
       "      <th>B17001053</th>\n",
       "      <th>B17001031</th>\n",
       "      <th>B17001018</th>\n",
       "      <th>B17001005</th>\n",
       "      <th>B17001020</th>\n",
       "      <th>B17001057</th>\n",
       "      <th>B17001041</th>\n",
       "      <th>...</th>\n",
       "      <th>B17001052</th>\n",
       "      <th>B17001035</th>\n",
       "      <th>B17001008</th>\n",
       "      <th>B17001024</th>\n",
       "      <th>B17001042</th>\n",
       "      <th>B17001014</th>\n",
       "      <th>B17001059</th>\n",
       "      <th>B17001055</th>\n",
       "      <th>B17001017</th>\n",
       "      <th>B17001037</th>\n",
       "    </tr>\n",
       "  </thead>\n",
       "  <tbody>\n",
       "    <tr>\n",
       "      <th>86000US60608</th>\n",
       "      <td>1329</td>\n",
       "      <td>1662</td>\n",
       "      <td>1721</td>\n",
       "      <td>1857</td>\n",
       "      <td>50017</td>\n",
       "      <td>1123</td>\n",
       "      <td>230</td>\n",
       "      <td>1229</td>\n",
       "      <td>2658</td>\n",
       "      <td>3988</td>\n",
       "      <td>...</td>\n",
       "      <td>494</td>\n",
       "      <td>1845</td>\n",
       "      <td>102</td>\n",
       "      <td>1376</td>\n",
       "      <td>3085</td>\n",
       "      <td>802</td>\n",
       "      <td>1336</td>\n",
       "      <td>3076</td>\n",
       "      <td>10976</td>\n",
       "      <td>203</td>\n",
       "    </tr>\n",
       "    <tr>\n",
       "      <th>86000US60615</th>\n",
       "      <td>1776</td>\n",
       "      <td>653</td>\n",
       "      <td>966</td>\n",
       "      <td>1157</td>\n",
       "      <td>30199</td>\n",
       "      <td>341</td>\n",
       "      <td>54</td>\n",
       "      <td>378</td>\n",
       "      <td>2245</td>\n",
       "      <td>2008</td>\n",
       "      <td>...</td>\n",
       "      <td>198</td>\n",
       "      <td>925</td>\n",
       "      <td>24</td>\n",
       "      <td>948</td>\n",
       "      <td>1504</td>\n",
       "      <td>256</td>\n",
       "      <td>975</td>\n",
       "      <td>2214</td>\n",
       "      <td>5029</td>\n",
       "      <td>257</td>\n",
       "    </tr>\n",
       "    <tr>\n",
       "      <th>86000US90049</th>\n",
       "      <td>85</td>\n",
       "      <td>794</td>\n",
       "      <td>671</td>\n",
       "      <td>1060</td>\n",
       "      <td>32561</td>\n",
       "      <td>0</td>\n",
       "      <td>0</td>\n",
       "      <td>18</td>\n",
       "      <td>2353</td>\n",
       "      <td>2365</td>\n",
       "      <td>...</td>\n",
       "      <td>204</td>\n",
       "      <td>916</td>\n",
       "      <td>0</td>\n",
       "      <td>205</td>\n",
       "      <td>1878</td>\n",
       "      <td>102</td>\n",
       "      <td>1618</td>\n",
       "      <td>2509</td>\n",
       "      <td>1313</td>\n",
       "      <td>247</td>\n",
       "    </tr>\n",
       "  </tbody>\n",
       "</table>\n",
       "<p>3 rows × 59 columns</p>\n",
       "</div>"
      ],
      "text/plain": [
       "              B17001010  B17001049  B17001033  B17001053  B17001031  \\\n",
       "86000US60608       1329       1662       1721       1857      50017   \n",
       "86000US60615       1776        653        966       1157      30199   \n",
       "86000US90049         85        794        671       1060      32561   \n",
       "\n",
       "              B17001018  B17001005  B17001020  B17001057  B17001041  \\\n",
       "86000US60608       1123        230       1229       2658       3988   \n",
       "86000US60615        341         54        378       2245       2008   \n",
       "86000US90049          0          0         18       2353       2365   \n",
       "\n",
       "                ...      B17001052  B17001035  B17001008  B17001024  \\\n",
       "86000US60608    ...            494       1845        102       1376   \n",
       "86000US60615    ...            198        925         24        948   \n",
       "86000US90049    ...            204        916          0        205   \n",
       "\n",
       "              B17001042  B17001014  B17001059  B17001055  B17001017  B17001037  \n",
       "86000US60608       3085        802       1336       3076      10976        203  \n",
       "86000US60615       1504        256        975       2214       5029        257  \n",
       "86000US90049       1878        102       1618       2509       1313        247  \n",
       "\n",
       "[3 rows x 59 columns]"
      ]
     },
     "execution_count": 20,
     "metadata": {},
     "output_type": "execute_result"
    }
   ],
   "source": [
    "df"
   ]
  },
  {
   "cell_type": "code",
   "execution_count": null,
   "metadata": {
    "collapsed": true
   },
   "outputs": [],
   "source": []
  }
 ],
 "metadata": {
  "kernelspec": {
   "display_name": "Python 3",
   "language": "python",
   "name": "python3"
  },
  "language_info": {
   "codemirror_mode": {
    "name": "ipython",
    "version": 3
   },
   "file_extension": ".py",
   "mimetype": "text/x-python",
   "name": "python",
   "nbconvert_exporter": "python",
   "pygments_lexer": "ipython3",
   "version": "3.5.1"
  }
 },
 "nbformat": 4,
 "nbformat_minor": 0
}

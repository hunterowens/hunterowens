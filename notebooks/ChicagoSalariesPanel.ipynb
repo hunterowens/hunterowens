{
 "cells": [
  {
   "cell_type": "code",
   "execution_count": 21,
   "metadata": {
    "collapsed": true
   },
   "outputs": [],
   "source": [
    "import pandas as pd\n",
    "import datetime"
   ]
  },
  {
   "cell_type": "code",
   "execution_count": 4,
   "metadata": {
    "collapsed": false
   },
   "outputs": [],
   "source": [
    "UNIQUE_IDS=[('June 1 2015','8a9j-uaug'),('June 9 2014','8c7s-25ji'),('January 13 2014','hcfc-b6bn'),\n",
    "           ('October 3 2013','ika2-ij72'), ('September 16 2013','4pid-t6mp'), ('April 24 2013','xgyw-pv8f'), \n",
    "           ('October 8 2012','vkgi-mmv8'), ('August 31 2012','vpki-baq8'),('April 19 2012','rumj-qya8')]\n",
    "## NB Febuary 2013 required city of chicago login. \n",
    "BASE_URL = 'https://data.cityofchicago.org/api/views/'\n",
    "CSV_REQ = '/rows.csv?accessType=DOWNLOAD'"
   ]
  },
  {
   "cell_type": "code",
   "execution_count": 32,
   "metadata": {
    "collapsed": true
   },
   "outputs": [],
   "source": [
    "panel_dict = {}\n",
    "for uid in UNIQUE_IDS:\n",
    "    panel_dict[datetime.datetime.strptime(uid[0],'%B %d %Y')] = pd.read_csv(BASE_URL + uid[1] + CSV_REQ)"
   ]
  },
  {
   "cell_type": "code",
   "execution_count": 33,
   "metadata": {
    "collapsed": false
   },
   "outputs": [],
   "source": [
    "pf = pd.Panel(panel_dict)"
   ]
  },
  {
   "cell_type": "code",
   "execution_count": 36,
   "metadata": {
    "collapsed": false
   },
   "outputs": [
    {
     "data": {
      "text/plain": [
       "<class 'pandas.core.panel.Panel'>\n",
       "Dimensions: 9 (items) x 33545 (major_axis) x 4 (minor_axis)\n",
       "Items axis: 2012-04-19 00:00:00 to 2015-06-01 00:00:00\n",
       "Major_axis axis: 0 to 33544\n",
       "Minor_axis axis: Name to Employee Annual Salary"
      ]
     },
     "execution_count": 36,
     "metadata": {},
     "output_type": "execute_result"
    }
   ],
   "source": []
  },
  {
   "cell_type": "code",
   "execution_count": null,
   "metadata": {
    "collapsed": true
   },
   "outputs": [],
   "source": []
  }
 ],
 "metadata": {
  "kernelspec": {
   "display_name": "Python 2",
   "language": "python",
   "name": "python2"
  },
  "language_info": {
   "codemirror_mode": {
    "name": "ipython",
    "version": 2
   },
   "file_extension": ".py",
   "mimetype": "text/x-python",
   "name": "python",
   "nbconvert_exporter": "python",
   "pygments_lexer": "ipython2",
   "version": "2.7.9"
  }
 },
 "nbformat": 4,
 "nbformat_minor": 0
}

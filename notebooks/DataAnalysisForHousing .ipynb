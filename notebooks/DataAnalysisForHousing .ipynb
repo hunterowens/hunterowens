{
 "cells": [
  {
   "cell_type": "markdown",
   "metadata": {},
   "source": [
    "# AB 1568 Data Research \n",
    "\n",
    "- What happened to the money dedicated to CRAs, approximately $1.7b?\n",
    "- If EIFDs raised sales taxes how likely are eligible voters to support MORE taxes? (Stage whisper: how much more sales tax are folks willing to pay? L.A. Co. is at 9.75%) **Effect of Sales tax on growth/housing?** \n",
    "- How big are EIFD-eligible areas in the most affected counties. How many people need to sign up? \n",
    "- Percentage of counties eligible for EIFD \n",
    "- Estimate effects of rent on sample EIFD \n",
    "- Possible amount raised for highest EIFDS "
   ]
  },
  {
   "cell_type": "code",
   "execution_count": 3,
   "metadata": {
    "collapsed": true
   },
   "outputs": [],
   "source": [
    "import pandas as pd"
   ]
  },
  {
   "cell_type": "markdown",
   "metadata": {},
   "source": [
    "* EFID-elidblge are in SB 375 Infill locations. \n",
    "\n",
    "```html\n",
    "21061.3.  \"Infill site\" means a site in an urbanized area that\n",
    "meets either of the following criteria:\n",
    "   (a) The site has not been previously developed for urban uses and\n",
    "both of the following apply:\n",
    "       (1) The site is immediately adjacent to parcels that are developed\n",
    "with qualified urban uses, or at least 75 percent of the perimeter\n",
    "of the site adjoins parcels that are developed with qualified urban\n",
    "uses, and the remaining 25 percent of the site adjoins parcels that\n",
    "have previously been developed for qualified urban uses.\n",
    "       (2) No parcel within the site has been created within the past 10\n",
    "years unless the parcel was created as a result of the plan of a\n",
    "redevelopment agency.\n",
    "   (b) The site has been previously developed for qualified urban\n",
    "uses.\n",
    "```"
   ]
  },
  {
   "cell_type": "markdown",
   "metadata": {},
   "source": [
    "## Source Data\n",
    "* [Parcels](http://egis3.lacounty.gov/dataportal/2015/09/11/california-statewide-parcel-boundaries/)\n",
    "* [LA County Parcels](https://data.lacounty.gov/Parcel-/Assessor-Parcels-Data-2006-thru-2017/9trm-uz8i) "
   ]
  },
  {
   "cell_type": "code",
   "execution_count": 4,
   "metadata": {
    "collapsed": false
   },
   "outputs": [
    {
     "name": "stderr",
     "output_type": "stream",
     "text": [
      "/Users/hunterowens/anaconda3/lib/python3.5/site-packages/IPython/core/interactiveshell.py:2902: DtypeWarning: Columns (37) have mixed types. Specify dtype option on import or set low_memory=False.\n",
      "  interactivity=interactivity, compiler=compiler, result=result)\n"
     ]
    }
   ],
   "source": [
    "parcels_2016 = pd.read_csv('./data/2016_parcels.csv')"
   ]
  },
  {
   "cell_type": "code",
   "execution_count": 5,
   "metadata": {
    "collapsed": false
   },
   "outputs": [
    {
     "data": {
      "text/html": [
       "<div>\n",
       "<table border=\"1\" class=\"dataframe\">\n",
       "  <thead>\n",
       "    <tr style=\"text-align: right;\">\n",
       "      <th></th>\n",
       "      <th>ZIPcode</th>\n",
       "      <th>TaxRateArea_CITY</th>\n",
       "      <th>AIN</th>\n",
       "      <th>RollYear</th>\n",
       "      <th>TaxRateArea</th>\n",
       "      <th>AssessorID</th>\n",
       "      <th>PropertyLocation</th>\n",
       "      <th>PropertyType</th>\n",
       "      <th>PropertyUseCode</th>\n",
       "      <th>GeneralUseType</th>\n",
       "      <th>...</th>\n",
       "      <th>HouseFraction</th>\n",
       "      <th>StreetDirection</th>\n",
       "      <th>StreetName</th>\n",
       "      <th>UnitNo</th>\n",
       "      <th>City</th>\n",
       "      <th>ZIPcode5</th>\n",
       "      <th>rowID</th>\n",
       "      <th>CENTER_LAT</th>\n",
       "      <th>CENTER_LON</th>\n",
       "      <th>Location 1</th>\n",
       "    </tr>\n",
       "  </thead>\n",
       "  <tbody>\n",
       "    <tr>\n",
       "      <th>0</th>\n",
       "      <td></td>\n",
       "      <td>LOS ANGELES</td>\n",
       "      <td>2513002030</td>\n",
       "      <td>2016</td>\n",
       "      <td>16</td>\n",
       "      <td>2513-002-030</td>\n",
       "      <td>NaN</td>\n",
       "      <td>VAC</td>\n",
       "      <td>010V</td>\n",
       "      <td>Residential</td>\n",
       "      <td>...</td>\n",
       "      <td></td>\n",
       "      <td></td>\n",
       "      <td></td>\n",
       "      <td></td>\n",
       "      <td></td>\n",
       "      <td>NaN</td>\n",
       "      <td>20162513002030</td>\n",
       "      <td>34.303785</td>\n",
       "      <td>-118.431512</td>\n",
       "      <td>(34.30378543, -118.43151154)</td>\n",
       "    </tr>\n",
       "    <tr>\n",
       "      <th>1</th>\n",
       "      <td></td>\n",
       "      <td>BURBANK</td>\n",
       "      <td>2482012004</td>\n",
       "      <td>2016</td>\n",
       "      <td>2530</td>\n",
       "      <td>2482-012-004</td>\n",
       "      <td>NaN</td>\n",
       "      <td>VAC</td>\n",
       "      <td>010V</td>\n",
       "      <td>Residential</td>\n",
       "      <td>...</td>\n",
       "      <td></td>\n",
       "      <td></td>\n",
       "      <td></td>\n",
       "      <td></td>\n",
       "      <td></td>\n",
       "      <td>NaN</td>\n",
       "      <td>20162482012004</td>\n",
       "      <td>34.154597</td>\n",
       "      <td>-118.340920</td>\n",
       "      <td>(34.15459719, -118.34091962)</td>\n",
       "    </tr>\n",
       "    <tr>\n",
       "      <th>2</th>\n",
       "      <td></td>\n",
       "      <td>BURBANK</td>\n",
       "      <td>2485001014</td>\n",
       "      <td>2016</td>\n",
       "      <td>2530</td>\n",
       "      <td>2485-001-014</td>\n",
       "      <td>NaN</td>\n",
       "      <td>VAC</td>\n",
       "      <td>100V</td>\n",
       "      <td>Commercial</td>\n",
       "      <td>...</td>\n",
       "      <td></td>\n",
       "      <td></td>\n",
       "      <td></td>\n",
       "      <td></td>\n",
       "      <td></td>\n",
       "      <td>NaN</td>\n",
       "      <td>20162485001014</td>\n",
       "      <td>34.152521</td>\n",
       "      <td>-118.348560</td>\n",
       "      <td>(34.15252149, -118.34856035)</td>\n",
       "    </tr>\n",
       "    <tr>\n",
       "      <th>3</th>\n",
       "      <td></td>\n",
       "      <td>BURBANK</td>\n",
       "      <td>2485001015</td>\n",
       "      <td>2016</td>\n",
       "      <td>2530</td>\n",
       "      <td>2485-001-015</td>\n",
       "      <td>NaN</td>\n",
       "      <td>VAC</td>\n",
       "      <td>100V</td>\n",
       "      <td>Commercial</td>\n",
       "      <td>...</td>\n",
       "      <td></td>\n",
       "      <td></td>\n",
       "      <td></td>\n",
       "      <td></td>\n",
       "      <td></td>\n",
       "      <td>NaN</td>\n",
       "      <td>20162485001015</td>\n",
       "      <td>34.152521</td>\n",
       "      <td>-118.348439</td>\n",
       "      <td>(34.15252138, -118.34843850)</td>\n",
       "    </tr>\n",
       "    <tr>\n",
       "      <th>4</th>\n",
       "      <td></td>\n",
       "      <td>BURBANK</td>\n",
       "      <td>2485001016</td>\n",
       "      <td>2016</td>\n",
       "      <td>2530</td>\n",
       "      <td>2485-001-016</td>\n",
       "      <td>NaN</td>\n",
       "      <td>VAC</td>\n",
       "      <td>100V</td>\n",
       "      <td>Commercial</td>\n",
       "      <td>...</td>\n",
       "      <td></td>\n",
       "      <td></td>\n",
       "      <td></td>\n",
       "      <td></td>\n",
       "      <td></td>\n",
       "      <td>NaN</td>\n",
       "      <td>20162485001016</td>\n",
       "      <td>34.152522</td>\n",
       "      <td>-118.348274</td>\n",
       "      <td>(34.15252191, -118.34827448)</td>\n",
       "    </tr>\n",
       "  </tbody>\n",
       "</table>\n",
       "<p>5 rows × 51 columns</p>\n",
       "</div>"
      ],
      "text/plain": [
       "  ZIPcode TaxRateArea_CITY         AIN  RollYear  TaxRateArea    AssessorID  \\\n",
       "0              LOS ANGELES  2513002030      2016           16  2513-002-030   \n",
       "1              BURBANK      2482012004      2016         2530  2482-012-004   \n",
       "2              BURBANK      2485001014      2016         2530  2485-001-014   \n",
       "3              BURBANK      2485001015      2016         2530  2485-001-015   \n",
       "4              BURBANK      2485001016      2016         2530  2485-001-016   \n",
       "\n",
       "  PropertyLocation PropertyType PropertyUseCode GeneralUseType  \\\n",
       "0              NaN          VAC            010V    Residential   \n",
       "1              NaN          VAC            010V    Residential   \n",
       "2              NaN          VAC            100V     Commercial   \n",
       "3              NaN          VAC            100V     Commercial   \n",
       "4              NaN          VAC            100V     Commercial   \n",
       "\n",
       "               ...              HouseFraction StreetDirection StreetName  \\\n",
       "0              ...                                                         \n",
       "1              ...                                                         \n",
       "2              ...                                                         \n",
       "3              ...                                                         \n",
       "4              ...                                                         \n",
       "\n",
       "   UnitNo  City  ZIPcode5           rowID  CENTER_LAT  CENTER_LON  \\\n",
       "0                     NaN  20162513002030   34.303785 -118.431512   \n",
       "1                     NaN  20162482012004   34.154597 -118.340920   \n",
       "2                     NaN  20162485001014   34.152521 -118.348560   \n",
       "3                     NaN  20162485001015   34.152521 -118.348439   \n",
       "4                     NaN  20162485001016   34.152522 -118.348274   \n",
       "\n",
       "                     Location 1  \n",
       "0  (34.30378543, -118.43151154)  \n",
       "1  (34.15459719, -118.34091962)  \n",
       "2  (34.15252149, -118.34856035)  \n",
       "3  (34.15252138, -118.34843850)  \n",
       "4  (34.15252191, -118.34827448)  \n",
       "\n",
       "[5 rows x 51 columns]"
      ]
     },
     "execution_count": 5,
     "metadata": {},
     "output_type": "execute_result"
    }
   ],
   "source": [
    "parcels_2016.head()"
   ]
  },
  {
   "cell_type": "markdown",
   "metadata": {},
   "source": [
    "## Percent of LA Count EFID Qualified "
   ]
  },
  {
   "cell_type": "code",
   "execution_count": 6,
   "metadata": {
    "collapsed": false
   },
   "outputs": [
    {
     "data": {
      "text/plain": [
       "0       Residential\n",
       "1        Commercial\n",
       "2     Miscellaneous\n",
       "3        Industrial\n",
       "4     Institutional\n",
       "5      Recreational\n",
       "6          Dry Farm\n",
       "7    Irrigated Farm\n",
       "8         (missing)\n",
       "dtype: object"
      ]
     },
     "execution_count": 6,
     "metadata": {},
     "output_type": "execute_result"
    }
   ],
   "source": [
    "pd.Series(parcels_2016.GeneralUseType.unique())"
   ]
  },
  {
   "cell_type": "code",
   "execution_count": 7,
   "metadata": {
    "collapsed": true
   },
   "outputs": [],
   "source": [
    "parcels_2016['isUrban'] = parcels_2016.GeneralUseType.apply(lambda x: False if x == \"Dry Farm\" or x == \"Irrigated Farm\" else True)    "
   ]
  },
  {
   "cell_type": "code",
   "execution_count": 8,
   "metadata": {
    "collapsed": false
   },
   "outputs": [],
   "source": [
    "values = parcels_2016['isUrban'].value_counts()"
   ]
  },
  {
   "cell_type": "code",
   "execution_count": 12,
   "metadata": {
    "collapsed": false
   },
   "outputs": [],
   "source": [
    "percent_urban = round(((values[1] - values[0]) / parcels_2016['isUrban'].count()) * 100, 2)"
   ]
  },
  {
   "cell_type": "markdown",
   "metadata": {
    "variables": {
     "percent_urban": "95.640000000000001"
    }
   },
   "source": [
    "{{percent_urban}} of the parcels in Los Angeles are EIFD eligble. However, this doesn't mean that certain combination of parcels wouldn't disqualify it for infill development. "
   ]
  },
  {
   "cell_type": "markdown",
   "metadata": {},
   "source": [
    "## How Much Tax Revenue could a total EFID Generate\n",
    "\n",
    "We caculate the value of the increment via the below formula\n",
    " \n",
    "**value of the increment** = [(predicted sales tax gained from the properties + predicted use tax gained from the properties) - (current sales tax gained from the properties + current use tax gained from the properties)] * number of years the increment district is valid for over the properties\n",
    "\n",
    "\n",
    "* [2015-16 Property Tax Revenue for County](http://lacountyannualreport.com/budget/) - Property Taxes $5.682B\n",
    "* [Tax Data](https://www.boe.ca.gov/DataPortal/SUTDRevDistCityCounty.aspx) "
   ]
  },
  {
   "cell_type": "code",
   "execution_count": 13,
   "metadata": {
    "collapsed": true
   },
   "outputs": [],
   "source": [
    "tax_data = pd.read_csv('./data/SUTDRevDistCityCounty.csv')"
   ]
  },
  {
   "cell_type": "code",
   "execution_count": 58,
   "metadata": {
    "collapsed": false
   },
   "outputs": [],
   "source": [
    "filter_county = tax_data.County == \"Los Angeles County\"\n",
    "filter_year = tax_data['Fiscal Year From'] == 2014\n",
    "\n",
    "la_taxes_2015 = tax_data[filter_year & filter_county]"
   ]
  },
  {
   "cell_type": "code",
   "execution_count": 78,
   "metadata": {
    "collapsed": false
   },
   "outputs": [
    {
     "name": "stderr",
     "output_type": "stream",
     "text": [
      "/Users/hunterowens/anaconda3/lib/python3.5/site-packages/ipykernel/__main__.py:1: SettingWithCopyWarning: \n",
      "A value is trying to be set on a copy of a slice from a DataFrame.\n",
      "Try using .loc[row_indexer,col_indexer] = value instead\n",
      "\n",
      "See the caveats in the documentation: http://pandas.pydata.org/pandas-docs/stable/indexing.html#indexing-view-versus-copy\n",
      "  if __name__ == '__main__':\n",
      "/Users/hunterowens/anaconda3/lib/python3.5/site-packages/ipykernel/__main__.py:2: SettingWithCopyWarning: \n",
      "A value is trying to be set on a copy of a slice from a DataFrame.\n",
      "Try using .loc[row_indexer,col_indexer] = value instead\n",
      "\n",
      "See the caveats in the documentation: http://pandas.pydata.org/pandas-docs/stable/indexing.html#indexing-view-versus-copy\n",
      "  from ipykernel import kernelapp as app\n"
     ]
    }
   ],
   "source": [
    "la_taxes_2015['revenue_numeric'] = la_taxes_2015['Revenue Distributed'].map(lambda x: x.replace(\"$\", \" \") \\\n",
    "                                                                                       .replace(\",\",\"\"))\n",
    "la_taxes_2015['revenue_numeric'] = pd.to_numeric(la_taxes_2015['revenue_numeric'])"
   ]
  },
  {
   "cell_type": "markdown",
   "metadata": {},
   "source": [
    "    Total Tax Revenue in Los Angeles due to Sales tax is {{la_taxes_2015['reve"
   ]
  },
  {
   "cell_type": "markdown",
   "metadata": {},
   "source": [
    "## How much housing would that fund "
   ]
  },
  {
   "cell_type": "code",
   "execution_count": null,
   "metadata": {
    "collapsed": true
   },
   "outputs": [],
   "source": []
  }
 ],
 "metadata": {
  "kernelspec": {
   "display_name": "Python 3",
   "language": "python",
   "name": "python3"
  },
  "language_info": {
   "codemirror_mode": {
    "name": "ipython",
    "version": 3
   },
   "file_extension": ".py",
   "mimetype": "text/x-python",
   "name": "python",
   "nbconvert_exporter": "python",
   "pygments_lexer": "ipython3",
   "version": "3.5.3"
  }
 },
 "nbformat": 4,
 "nbformat_minor": 2
}

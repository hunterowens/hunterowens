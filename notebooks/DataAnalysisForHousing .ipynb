{
 "cells": [
  {
   "cell_type": "markdown",
   "metadata": {},
   "source": [
    "# AB 1568 Data Research \n",
    "\n",
    "- What happened to the money dedicated to CRAs, approximately $1.7b?\n",
    "- If EIFDs raised sales taxes how likely are eligible voters to support MORE taxes? (Stage whisper: how much more sales tax are folks willing to pay? L.A. Co. is at 9.75%) **Effect of Sales tax on growth/housing?** \n",
    "- How big are EIFD-eligible areas in the most affected counties. How many people need to sign up? \n",
    "- Percentage of counties eligible for EIFD \n",
    "- Estimate effects of rent on sample EIFD \n",
    "- Possible amount raised for highest EIFDS "
   ]
  },
  {
   "cell_type": "code",
   "execution_count": 110,
   "metadata": {
    "collapsed": false
   },
   "outputs": [
    {
     "data": {
      "text/html": [
       "\n",
       "    <div class=\"bk-root\">\n",
       "        <a href=\"http://bokeh.pydata.org\" target=\"_blank\" class=\"bk-logo bk-logo-small bk-logo-notebook\"></a>\n",
       "        <span id=\"b5cc631a-8377-40c1-b19c-2c63157a53d7\">Loading BokehJS ...</span>\n",
       "    </div>"
      ]
     },
     "metadata": {},
     "output_type": "display_data"
    },
    {
     "data": {
      "application/javascript": [
       "\n",
       "(function(global) {\n",
       "  function now() {\n",
       "    return new Date();\n",
       "  }\n",
       "\n",
       "  var force = \"1\";\n",
       "\n",
       "  if (typeof (window._bokeh_onload_callbacks) === \"undefined\" || force !== \"\") {\n",
       "    window._bokeh_onload_callbacks = [];\n",
       "    window._bokeh_is_loading = undefined;\n",
       "  }\n",
       "\n",
       "\n",
       "  \n",
       "  if (typeof (window._bokeh_timeout) === \"undefined\" || force !== \"\") {\n",
       "    window._bokeh_timeout = Date.now() + 5000;\n",
       "    window._bokeh_failed_load = false;\n",
       "  }\n",
       "\n",
       "  var NB_LOAD_WARNING = {'data': {'text/html':\n",
       "     \"<div style='background-color: #fdd'>\\n\"+\n",
       "     \"<p>\\n\"+\n",
       "     \"BokehJS does not appear to have successfully loaded. If loading BokehJS from CDN, this \\n\"+\n",
       "     \"may be due to a slow or bad network connection. Possible fixes:\\n\"+\n",
       "     \"</p>\\n\"+\n",
       "     \"<ul>\\n\"+\n",
       "     \"<li>re-rerun `output_notebook()` to attempt to load from CDN again, or</li>\\n\"+\n",
       "     \"<li>use INLINE resources instead, as so:</li>\\n\"+\n",
       "     \"</ul>\\n\"+\n",
       "     \"<code>\\n\"+\n",
       "     \"from bokeh.resources import INLINE\\n\"+\n",
       "     \"output_notebook(resources=INLINE)\\n\"+\n",
       "     \"</code>\\n\"+\n",
       "     \"</div>\"}};\n",
       "\n",
       "  function display_loaded() {\n",
       "    if (window.Bokeh !== undefined) {\n",
       "      Bokeh.$(\"#b5cc631a-8377-40c1-b19c-2c63157a53d7\").text(\"BokehJS successfully loaded.\");\n",
       "    } else if (Date.now() < window._bokeh_timeout) {\n",
       "      setTimeout(display_loaded, 100)\n",
       "    }\n",
       "  }\n",
       "\n",
       "  function run_callbacks() {\n",
       "    window._bokeh_onload_callbacks.forEach(function(callback) { callback() });\n",
       "    delete window._bokeh_onload_callbacks\n",
       "    console.info(\"Bokeh: all callbacks have finished\");\n",
       "  }\n",
       "\n",
       "  function load_libs(js_urls, callback) {\n",
       "    window._bokeh_onload_callbacks.push(callback);\n",
       "    if (window._bokeh_is_loading > 0) {\n",
       "      console.log(\"Bokeh: BokehJS is being loaded, scheduling callback at\", now());\n",
       "      return null;\n",
       "    }\n",
       "    if (js_urls == null || js_urls.length === 0) {\n",
       "      run_callbacks();\n",
       "      return null;\n",
       "    }\n",
       "    console.log(\"Bokeh: BokehJS not loaded, scheduling load and callback at\", now());\n",
       "    window._bokeh_is_loading = js_urls.length;\n",
       "    for (var i = 0; i < js_urls.length; i++) {\n",
       "      var url = js_urls[i];\n",
       "      var s = document.createElement('script');\n",
       "      s.src = url;\n",
       "      s.async = false;\n",
       "      s.onreadystatechange = s.onload = function() {\n",
       "        window._bokeh_is_loading--;\n",
       "        if (window._bokeh_is_loading === 0) {\n",
       "          console.log(\"Bokeh: all BokehJS libraries loaded\");\n",
       "          run_callbacks()\n",
       "        }\n",
       "      };\n",
       "      s.onerror = function() {\n",
       "        console.warn(\"failed to load library \" + url);\n",
       "      };\n",
       "      console.log(\"Bokeh: injecting script tag for BokehJS library: \", url);\n",
       "      document.getElementsByTagName(\"head\")[0].appendChild(s);\n",
       "    }\n",
       "  };var element = document.getElementById(\"b5cc631a-8377-40c1-b19c-2c63157a53d7\");\n",
       "  if (element == null) {\n",
       "    console.log(\"Bokeh: ERROR: autoload.js configured with elementid 'b5cc631a-8377-40c1-b19c-2c63157a53d7' but no matching script tag was found. \")\n",
       "    return false;\n",
       "  }\n",
       "\n",
       "  var js_urls = ['https://cdn.pydata.org/bokeh/release/bokeh-0.12.2.min.js', 'https://cdn.pydata.org/bokeh/release/bokeh-widgets-0.12.2.min.js', 'https://cdn.pydata.org/bokeh/release/bokeh-compiler-0.12.2.min.js'];\n",
       "\n",
       "  var inline_js = [\n",
       "    function(Bokeh) {\n",
       "      Bokeh.set_log_level(\"info\");\n",
       "    },\n",
       "    \n",
       "    function(Bokeh) {\n",
       "      \n",
       "      Bokeh.$(\"#b5cc631a-8377-40c1-b19c-2c63157a53d7\").text(\"BokehJS is loading...\");\n",
       "    },\n",
       "    function(Bokeh) {\n",
       "      console.log(\"Bokeh: injecting CSS: https://cdn.pydata.org/bokeh/release/bokeh-0.12.2.min.css\");\n",
       "      Bokeh.embed.inject_css(\"https://cdn.pydata.org/bokeh/release/bokeh-0.12.2.min.css\");\n",
       "      console.log(\"Bokeh: injecting CSS: https://cdn.pydata.org/bokeh/release/bokeh-widgets-0.12.2.min.css\");\n",
       "      Bokeh.embed.inject_css(\"https://cdn.pydata.org/bokeh/release/bokeh-widgets-0.12.2.min.css\");\n",
       "    }\n",
       "  ];\n",
       "\n",
       "  function run_inline_js() {\n",
       "    \n",
       "    if ((window.Bokeh !== undefined) || (force === \"1\")) {\n",
       "      for (var i = 0; i < inline_js.length; i++) {\n",
       "        inline_js[i](window.Bokeh);\n",
       "      }if (force === \"1\") {\n",
       "        display_loaded();\n",
       "      }} else if (Date.now() < window._bokeh_timeout) {\n",
       "      setTimeout(run_inline_js, 100);\n",
       "    } else if (!window._bokeh_failed_load) {\n",
       "      console.log(\"Bokeh: BokehJS failed to load within specified timeout.\");\n",
       "      window._bokeh_failed_load = true;\n",
       "    } else if (!force) {\n",
       "      var cell = $(\"#b5cc631a-8377-40c1-b19c-2c63157a53d7\").parents('.cell').data().cell;\n",
       "      cell.output_area.append_execute_result(NB_LOAD_WARNING)\n",
       "    }\n",
       "\n",
       "  }\n",
       "\n",
       "  if (window._bokeh_is_loading === 0) {\n",
       "    console.log(\"Bokeh: BokehJS loaded, going straight to plotting\");\n",
       "    run_inline_js();\n",
       "  } else {\n",
       "    load_libs(js_urls, function() {\n",
       "      console.log(\"Bokeh: BokehJS plotting callback run at\", now());\n",
       "      run_inline_js();\n",
       "    });\n",
       "  }\n",
       "}(this));"
      ]
     },
     "metadata": {},
     "output_type": "display_data"
    }
   ],
   "source": [
    "import pandas as pd\n",
    "from bokeh.charts import Line, output_file, show\n",
    "from bokeh.io import output_notebook\n",
    "output_notebook()"
   ]
  },
  {
   "cell_type": "markdown",
   "metadata": {},
   "source": [
    "* EFID-elidblge are in SB 375 Infill locations. \n",
    "\n",
    "```html\n",
    "21061.3.  \"Infill site\" means a site in an urbanized area that\n",
    "meets either of the following criteria:\n",
    "   (a) The site has not been previously developed for urban uses and\n",
    "both of the following apply:\n",
    "       (1) The site is immediately adjacent to parcels that are developed\n",
    "with qualified urban uses, or at least 75 percent of the perimeter\n",
    "of the site adjoins parcels that are developed with qualified urban\n",
    "uses, and the remaining 25 percent of the site adjoins parcels that\n",
    "have previously been developed for qualified urban uses.\n",
    "       (2) No parcel within the site has been created within the past 10\n",
    "years unless the parcel was created as a result of the plan of a\n",
    "redevelopment agency.\n",
    "   (b) The site has been previously developed for qualified urban\n",
    "uses.\n",
    "```"
   ]
  },
  {
   "cell_type": "markdown",
   "metadata": {},
   "source": [
    "## Source Data\n",
    "* [Parcels](http://egis3.lacounty.gov/dataportal/2015/09/11/california-statewide-parcel-boundaries/)\n",
    "* [LA County Parcels](https://data.lacounty.gov/Parcel-/Assessor-Parcels-Data-2006-thru-2017/9trm-uz8i) "
   ]
  },
  {
   "cell_type": "code",
   "execution_count": 4,
   "metadata": {
    "collapsed": false
   },
   "outputs": [
    {
     "name": "stderr",
     "output_type": "stream",
     "text": [
      "/Users/hunterowens/anaconda3/lib/python3.5/site-packages/IPython/core/interactiveshell.py:2902: DtypeWarning: Columns (37) have mixed types. Specify dtype option on import or set low_memory=False.\n",
      "  interactivity=interactivity, compiler=compiler, result=result)\n"
     ]
    }
   ],
   "source": [
    "parcels_2016 = pd.read_csv('./data/2016_parcels.csv')"
   ]
  },
  {
   "cell_type": "code",
   "execution_count": 5,
   "metadata": {
    "collapsed": false
   },
   "outputs": [
    {
     "data": {
      "text/html": [
       "<div>\n",
       "<table border=\"1\" class=\"dataframe\">\n",
       "  <thead>\n",
       "    <tr style=\"text-align: right;\">\n",
       "      <th></th>\n",
       "      <th>ZIPcode</th>\n",
       "      <th>TaxRateArea_CITY</th>\n",
       "      <th>AIN</th>\n",
       "      <th>RollYear</th>\n",
       "      <th>TaxRateArea</th>\n",
       "      <th>AssessorID</th>\n",
       "      <th>PropertyLocation</th>\n",
       "      <th>PropertyType</th>\n",
       "      <th>PropertyUseCode</th>\n",
       "      <th>GeneralUseType</th>\n",
       "      <th>...</th>\n",
       "      <th>HouseFraction</th>\n",
       "      <th>StreetDirection</th>\n",
       "      <th>StreetName</th>\n",
       "      <th>UnitNo</th>\n",
       "      <th>City</th>\n",
       "      <th>ZIPcode5</th>\n",
       "      <th>rowID</th>\n",
       "      <th>CENTER_LAT</th>\n",
       "      <th>CENTER_LON</th>\n",
       "      <th>Location 1</th>\n",
       "    </tr>\n",
       "  </thead>\n",
       "  <tbody>\n",
       "    <tr>\n",
       "      <th>0</th>\n",
       "      <td></td>\n",
       "      <td>LOS ANGELES</td>\n",
       "      <td>2513002030</td>\n",
       "      <td>2016</td>\n",
       "      <td>16</td>\n",
       "      <td>2513-002-030</td>\n",
       "      <td>NaN</td>\n",
       "      <td>VAC</td>\n",
       "      <td>010V</td>\n",
       "      <td>Residential</td>\n",
       "      <td>...</td>\n",
       "      <td></td>\n",
       "      <td></td>\n",
       "      <td></td>\n",
       "      <td></td>\n",
       "      <td></td>\n",
       "      <td>NaN</td>\n",
       "      <td>20162513002030</td>\n",
       "      <td>34.303785</td>\n",
       "      <td>-118.431512</td>\n",
       "      <td>(34.30378543, -118.43151154)</td>\n",
       "    </tr>\n",
       "    <tr>\n",
       "      <th>1</th>\n",
       "      <td></td>\n",
       "      <td>BURBANK</td>\n",
       "      <td>2482012004</td>\n",
       "      <td>2016</td>\n",
       "      <td>2530</td>\n",
       "      <td>2482-012-004</td>\n",
       "      <td>NaN</td>\n",
       "      <td>VAC</td>\n",
       "      <td>010V</td>\n",
       "      <td>Residential</td>\n",
       "      <td>...</td>\n",
       "      <td></td>\n",
       "      <td></td>\n",
       "      <td></td>\n",
       "      <td></td>\n",
       "      <td></td>\n",
       "      <td>NaN</td>\n",
       "      <td>20162482012004</td>\n",
       "      <td>34.154597</td>\n",
       "      <td>-118.340920</td>\n",
       "      <td>(34.15459719, -118.34091962)</td>\n",
       "    </tr>\n",
       "    <tr>\n",
       "      <th>2</th>\n",
       "      <td></td>\n",
       "      <td>BURBANK</td>\n",
       "      <td>2485001014</td>\n",
       "      <td>2016</td>\n",
       "      <td>2530</td>\n",
       "      <td>2485-001-014</td>\n",
       "      <td>NaN</td>\n",
       "      <td>VAC</td>\n",
       "      <td>100V</td>\n",
       "      <td>Commercial</td>\n",
       "      <td>...</td>\n",
       "      <td></td>\n",
       "      <td></td>\n",
       "      <td></td>\n",
       "      <td></td>\n",
       "      <td></td>\n",
       "      <td>NaN</td>\n",
       "      <td>20162485001014</td>\n",
       "      <td>34.152521</td>\n",
       "      <td>-118.348560</td>\n",
       "      <td>(34.15252149, -118.34856035)</td>\n",
       "    </tr>\n",
       "    <tr>\n",
       "      <th>3</th>\n",
       "      <td></td>\n",
       "      <td>BURBANK</td>\n",
       "      <td>2485001015</td>\n",
       "      <td>2016</td>\n",
       "      <td>2530</td>\n",
       "      <td>2485-001-015</td>\n",
       "      <td>NaN</td>\n",
       "      <td>VAC</td>\n",
       "      <td>100V</td>\n",
       "      <td>Commercial</td>\n",
       "      <td>...</td>\n",
       "      <td></td>\n",
       "      <td></td>\n",
       "      <td></td>\n",
       "      <td></td>\n",
       "      <td></td>\n",
       "      <td>NaN</td>\n",
       "      <td>20162485001015</td>\n",
       "      <td>34.152521</td>\n",
       "      <td>-118.348439</td>\n",
       "      <td>(34.15252138, -118.34843850)</td>\n",
       "    </tr>\n",
       "    <tr>\n",
       "      <th>4</th>\n",
       "      <td></td>\n",
       "      <td>BURBANK</td>\n",
       "      <td>2485001016</td>\n",
       "      <td>2016</td>\n",
       "      <td>2530</td>\n",
       "      <td>2485-001-016</td>\n",
       "      <td>NaN</td>\n",
       "      <td>VAC</td>\n",
       "      <td>100V</td>\n",
       "      <td>Commercial</td>\n",
       "      <td>...</td>\n",
       "      <td></td>\n",
       "      <td></td>\n",
       "      <td></td>\n",
       "      <td></td>\n",
       "      <td></td>\n",
       "      <td>NaN</td>\n",
       "      <td>20162485001016</td>\n",
       "      <td>34.152522</td>\n",
       "      <td>-118.348274</td>\n",
       "      <td>(34.15252191, -118.34827448)</td>\n",
       "    </tr>\n",
       "  </tbody>\n",
       "</table>\n",
       "<p>5 rows × 51 columns</p>\n",
       "</div>"
      ],
      "text/plain": [
       "  ZIPcode TaxRateArea_CITY         AIN  RollYear  TaxRateArea    AssessorID  \\\n",
       "0              LOS ANGELES  2513002030      2016           16  2513-002-030   \n",
       "1              BURBANK      2482012004      2016         2530  2482-012-004   \n",
       "2              BURBANK      2485001014      2016         2530  2485-001-014   \n",
       "3              BURBANK      2485001015      2016         2530  2485-001-015   \n",
       "4              BURBANK      2485001016      2016         2530  2485-001-016   \n",
       "\n",
       "  PropertyLocation PropertyType PropertyUseCode GeneralUseType  \\\n",
       "0              NaN          VAC            010V    Residential   \n",
       "1              NaN          VAC            010V    Residential   \n",
       "2              NaN          VAC            100V     Commercial   \n",
       "3              NaN          VAC            100V     Commercial   \n",
       "4              NaN          VAC            100V     Commercial   \n",
       "\n",
       "               ...              HouseFraction StreetDirection StreetName  \\\n",
       "0              ...                                                         \n",
       "1              ...                                                         \n",
       "2              ...                                                         \n",
       "3              ...                                                         \n",
       "4              ...                                                         \n",
       "\n",
       "   UnitNo  City  ZIPcode5           rowID  CENTER_LAT  CENTER_LON  \\\n",
       "0                     NaN  20162513002030   34.303785 -118.431512   \n",
       "1                     NaN  20162482012004   34.154597 -118.340920   \n",
       "2                     NaN  20162485001014   34.152521 -118.348560   \n",
       "3                     NaN  20162485001015   34.152521 -118.348439   \n",
       "4                     NaN  20162485001016   34.152522 -118.348274   \n",
       "\n",
       "                     Location 1  \n",
       "0  (34.30378543, -118.43151154)  \n",
       "1  (34.15459719, -118.34091962)  \n",
       "2  (34.15252149, -118.34856035)  \n",
       "3  (34.15252138, -118.34843850)  \n",
       "4  (34.15252191, -118.34827448)  \n",
       "\n",
       "[5 rows x 51 columns]"
      ]
     },
     "execution_count": 5,
     "metadata": {},
     "output_type": "execute_result"
    }
   ],
   "source": [
    "parcels_2016.head()"
   ]
  },
  {
   "cell_type": "markdown",
   "metadata": {},
   "source": [
    "## Percent of LA Count EFID Qualified "
   ]
  },
  {
   "cell_type": "code",
   "execution_count": 6,
   "metadata": {
    "collapsed": false
   },
   "outputs": [
    {
     "data": {
      "text/plain": [
       "0       Residential\n",
       "1        Commercial\n",
       "2     Miscellaneous\n",
       "3        Industrial\n",
       "4     Institutional\n",
       "5      Recreational\n",
       "6          Dry Farm\n",
       "7    Irrigated Farm\n",
       "8         (missing)\n",
       "dtype: object"
      ]
     },
     "execution_count": 6,
     "metadata": {},
     "output_type": "execute_result"
    }
   ],
   "source": [
    "pd.Series(parcels_2016.GeneralUseType.unique())"
   ]
  },
  {
   "cell_type": "code",
   "execution_count": 7,
   "metadata": {
    "collapsed": true
   },
   "outputs": [],
   "source": [
    "parcels_2016['isUrban'] = parcels_2016.GeneralUseType.apply(lambda x: False if x == \"Dry Farm\" or x == \"Irrigated Farm\" else True)    "
   ]
  },
  {
   "cell_type": "code",
   "execution_count": 8,
   "metadata": {
    "collapsed": false
   },
   "outputs": [],
   "source": [
    "values = parcels_2016['isUrban'].value_counts()"
   ]
  },
  {
   "cell_type": "code",
   "execution_count": 12,
   "metadata": {
    "collapsed": false
   },
   "outputs": [],
   "source": [
    "percent_urban = round(((values[1] - values[0]) / parcels_2016['isUrban'].count()) * 100, 2)"
   ]
  },
  {
   "cell_type": "markdown",
   "metadata": {
    "variables": {
     "percent_urban": "95.640000000000001"
    }
   },
   "source": [
    "{{percent_urban}} of the parcels in Los Angeles are EIFD eligble. However, this doesn't mean that certain combination of parcels wouldn't disqualify it for infill development. "
   ]
  },
  {
   "cell_type": "markdown",
   "metadata": {},
   "source": [
    "## How Much Tax Revenue could a total EFID Generate\n",
    "\n",
    "We caculate the value of the increment via the below formula\n",
    " \n",
    "**value of the increment** = [(predicted sales tax gained from the properties + predicted use tax gained from the properties) - (current sales tax gained from the properties + current use tax gained from the properties)] * number of years the increment district is valid for over the properties\n",
    "\n",
    "\n",
    "* [2015-16 Property Tax Revenue for County](http://lacountyannualreport.com/budget/) - Property Taxes $5.682B\n",
    "* [Tax Data](https://www.boe.ca.gov/DataPortal/SUTDRevDistCityCounty.aspx) \n",
    "* \"Statewide property tax revenues are estimated to increase 5.9 percent in 2016‑17 and\n",
    "5.3 percent in 2017‑18\" - [State CAO estimates](http://www.ebudget.ca.gov/2017-18/pdf/BudgetSummary/RevenueEstimates.pdf) \n",
    "* \"Statewise Sales Tax Revenue increased 2.9%\" \n",
    "\n",
    "_Author's Note_: This work is missing some nuance. Notably, the growth curve and tax percentages aren't aligned with the EFID areas. Additionally, we do not subtract from the already allocated tax, ie Measure R & M in LA County, so this will be an overestimate. "
   ]
  },
  {
   "cell_type": "code",
   "execution_count": 13,
   "metadata": {
    "collapsed": true
   },
   "outputs": [],
   "source": [
    "tax_data = pd.read_csv('./data/SUTDRevDistCityCounty.csv')"
   ]
  },
  {
   "cell_type": "code",
   "execution_count": 58,
   "metadata": {
    "collapsed": false
   },
   "outputs": [],
   "source": [
    "## Filter LA County \n",
    "filter_county = tax_data.County == \"Los Angeles County\"\n",
    "filter_year = tax_data['Fiscal Year From'] == 2014\n",
    "\n",
    "la_taxes_2015 = tax_data[filter_year & filter_county]"
   ]
  },
  {
   "cell_type": "code",
   "execution_count": 90,
   "metadata": {
    "collapsed": false
   },
   "outputs": [
    {
     "name": "stderr",
     "output_type": "stream",
     "text": [
      "/Users/hunterowens/anaconda3/lib/python3.5/site-packages/ipykernel/__main__.py:2: SettingWithCopyWarning: \n",
      "A value is trying to be set on a copy of a slice from a DataFrame.\n",
      "Try using .loc[row_indexer,col_indexer] = value instead\n",
      "\n",
      "See the caveats in the documentation: http://pandas.pydata.org/pandas-docs/stable/indexing.html#indexing-view-versus-copy\n",
      "  from ipykernel import kernelapp as app\n",
      "/Users/hunterowens/anaconda3/lib/python3.5/site-packages/ipykernel/__main__.py:3: SettingWithCopyWarning: \n",
      "A value is trying to be set on a copy of a slice from a DataFrame.\n",
      "Try using .loc[row_indexer,col_indexer] = value instead\n",
      "\n",
      "See the caveats in the documentation: http://pandas.pydata.org/pandas-docs/stable/indexing.html#indexing-view-versus-copy\n",
      "  app.launch_new_instance()\n"
     ]
    }
   ],
   "source": [
    "## Make Numeric\n",
    "la_taxes_2015['revenue_numeric'] = la_taxes_2015['Revenue Distributed'].map(lambda x: x.replace(\"$\", \" \") \\\n",
    "                                                                                       .replace(\",\",\"\"))\n",
    "la_taxes_2015['revenue_numeric'] = pd.to_numeric(la_taxes_2015['revenue_numeric'])\n",
    "total_sales_revenue_15 = la_taxes_2015['revenue_numeric'].sum()\n",
    "total_prop_revenue_15 = 5682000000"
   ]
  },
  {
   "cell_type": "markdown",
   "metadata": {
    "variables": {
     "\"{:,}\".format(total_prop_revenue_15)": "5,682,000,000",
     "\"{:,}\".format(total_sales_revenue_15)": "1,115,959,897"
    }
   },
   "source": [
    "        Total Sales Tax Revenue in Los Angeles due to Sales tax is {{\"{:,}\".format(total_sales_revenue_15)}}. Total Prop Tax Revenue is {{\"{:,}\".format(total_prop_revenue_15)}}"
   ]
  },
  {
   "cell_type": "code",
   "execution_count": 105,
   "metadata": {
    "collapsed": false
   },
   "outputs": [],
   "source": [
    "## Calculate Growth expected returns \n",
    "avg_sales_increase = .029\n",
    "avg_prop_increase = .042\n",
    "\n",
    "year_1 = 2015\n",
    "year_2 = 2035\n",
    "\n",
    "sales_revenue = dict()\n",
    "prop_revenue = dict()\n",
    "for year in range(year_1, year_2):\n",
    "    collected_amt_sales = total_sales_revenue_15 * (1 + avg_sales_increase) ** (year - year_1)\n",
    "    sales_revenue[year] = collected_amt_sales\n",
    "    collected_amt_prop = total_prop_revenue_15 * (1 + avg_prop_increase) ** (year - year_1)\n",
    "    prop_revenue[year] = collected_amt_prop"
   ]
  },
  {
   "cell_type": "code",
   "execution_count": 114,
   "metadata": {
    "collapsed": false
   },
   "outputs": [
    {
     "data": {
      "text/html": [
       "\n",
       "\n",
       "    <div class=\"bk-root\">\n",
       "        <div class=\"plotdiv\" id=\"c0589904-4c41-4790-b85e-6027de832f6a\"></div>\n",
       "    </div>\n",
       "<script type=\"text/javascript\">\n",
       "  \n",
       "  (function(global) {\n",
       "    function now() {\n",
       "      return new Date();\n",
       "    }\n",
       "  \n",
       "    var force = \"\";\n",
       "  \n",
       "    if (typeof (window._bokeh_onload_callbacks) === \"undefined\" || force !== \"\") {\n",
       "      window._bokeh_onload_callbacks = [];\n",
       "      window._bokeh_is_loading = undefined;\n",
       "    }\n",
       "  \n",
       "  \n",
       "    \n",
       "    if (typeof (window._bokeh_timeout) === \"undefined\" || force !== \"\") {\n",
       "      window._bokeh_timeout = Date.now() + 0;\n",
       "      window._bokeh_failed_load = false;\n",
       "    }\n",
       "  \n",
       "    var NB_LOAD_WARNING = {'data': {'text/html':\n",
       "       \"<div style='background-color: #fdd'>\\n\"+\n",
       "       \"<p>\\n\"+\n",
       "       \"BokehJS does not appear to have successfully loaded. If loading BokehJS from CDN, this \\n\"+\n",
       "       \"may be due to a slow or bad network connection. Possible fixes:\\n\"+\n",
       "       \"</p>\\n\"+\n",
       "       \"<ul>\\n\"+\n",
       "       \"<li>re-rerun `output_notebook()` to attempt to load from CDN again, or</li>\\n\"+\n",
       "       \"<li>use INLINE resources instead, as so:</li>\\n\"+\n",
       "       \"</ul>\\n\"+\n",
       "       \"<code>\\n\"+\n",
       "       \"from bokeh.resources import INLINE\\n\"+\n",
       "       \"output_notebook(resources=INLINE)\\n\"+\n",
       "       \"</code>\\n\"+\n",
       "       \"</div>\"}};\n",
       "  \n",
       "    function display_loaded() {\n",
       "      if (window.Bokeh !== undefined) {\n",
       "        Bokeh.$(\"#c0589904-4c41-4790-b85e-6027de832f6a\").text(\"BokehJS successfully loaded.\");\n",
       "      } else if (Date.now() < window._bokeh_timeout) {\n",
       "        setTimeout(display_loaded, 100)\n",
       "      }\n",
       "    }\n",
       "  \n",
       "    function run_callbacks() {\n",
       "      window._bokeh_onload_callbacks.forEach(function(callback) { callback() });\n",
       "      delete window._bokeh_onload_callbacks\n",
       "      console.info(\"Bokeh: all callbacks have finished\");\n",
       "    }\n",
       "  \n",
       "    function load_libs(js_urls, callback) {\n",
       "      window._bokeh_onload_callbacks.push(callback);\n",
       "      if (window._bokeh_is_loading > 0) {\n",
       "        console.log(\"Bokeh: BokehJS is being loaded, scheduling callback at\", now());\n",
       "        return null;\n",
       "      }\n",
       "      if (js_urls == null || js_urls.length === 0) {\n",
       "        run_callbacks();\n",
       "        return null;\n",
       "      }\n",
       "      console.log(\"Bokeh: BokehJS not loaded, scheduling load and callback at\", now());\n",
       "      window._bokeh_is_loading = js_urls.length;\n",
       "      for (var i = 0; i < js_urls.length; i++) {\n",
       "        var url = js_urls[i];\n",
       "        var s = document.createElement('script');\n",
       "        s.src = url;\n",
       "        s.async = false;\n",
       "        s.onreadystatechange = s.onload = function() {\n",
       "          window._bokeh_is_loading--;\n",
       "          if (window._bokeh_is_loading === 0) {\n",
       "            console.log(\"Bokeh: all BokehJS libraries loaded\");\n",
       "            run_callbacks()\n",
       "          }\n",
       "        };\n",
       "        s.onerror = function() {\n",
       "          console.warn(\"failed to load library \" + url);\n",
       "        };\n",
       "        console.log(\"Bokeh: injecting script tag for BokehJS library: \", url);\n",
       "        document.getElementsByTagName(\"head\")[0].appendChild(s);\n",
       "      }\n",
       "    };var element = document.getElementById(\"c0589904-4c41-4790-b85e-6027de832f6a\");\n",
       "    if (element == null) {\n",
       "      console.log(\"Bokeh: ERROR: autoload.js configured with elementid 'c0589904-4c41-4790-b85e-6027de832f6a' but no matching script tag was found. \")\n",
       "      return false;\n",
       "    }\n",
       "  \n",
       "    var js_urls = [];\n",
       "  \n",
       "    var inline_js = [\n",
       "      function(Bokeh) {\n",
       "        Bokeh.$(function() {\n",
       "            var docs_json = {\"5805dce9-78fe-4abb-92e8-90fde2438266\":{\"roots\":{\"references\":[{\"attributes\":{\"plot\":{\"id\":\"dd5ab072-0f61-4b99-881d-b86dea7ceab4\",\"subtype\":\"Chart\",\"type\":\"Plot\"}},\"id\":\"68c4fcb6-32c7-4e40-91a0-935e5df8b8b6\",\"type\":\"WheelZoomTool\"},{\"attributes\":{\"axis_label\":\"Languages\",\"formatter\":{\"id\":\"41f5c0e7-6164-4029-af70-21c4033c634b\",\"type\":\"BasicTickFormatter\"},\"plot\":{\"id\":\"dd5ab072-0f61-4b99-881d-b86dea7ceab4\",\"subtype\":\"Chart\",\"type\":\"Plot\"},\"ticker\":{\"id\":\"0dd427fa-a63a-43a6-97a8-a17295cb44e9\",\"type\":\"BasicTicker\"}},\"id\":\"60b341cc-3647-4b8b-90dc-1e333722d7cb\",\"type\":\"LinearAxis\"},{\"attributes\":{},\"id\":\"b1df8d48-1c1f-419f-a624-ab49e2b9f797\",\"type\":\"BasicTickFormatter\"},{\"attributes\":{\"plot\":{\"id\":\"dd5ab072-0f61-4b99-881d-b86dea7ceab4\",\"subtype\":\"Chart\",\"type\":\"Plot\"},\"ticker\":{\"id\":\"82586ed4-8679-424e-82f0-b8f2c0d271f4\",\"type\":\"BasicTicker\"}},\"id\":\"150d3c0b-e81a-434a-a3e1-6e3d646eb653\",\"type\":\"Grid\"},{\"attributes\":{\"overlay\":{\"id\":\"6013acc5-7351-40e1-a034-39bbb700a967\",\"type\":\"BoxAnnotation\"},\"plot\":{\"id\":\"dd5ab072-0f61-4b99-881d-b86dea7ceab4\",\"subtype\":\"Chart\",\"type\":\"Plot\"}},\"id\":\"fb3fedce-2ad8-4ff4-b6eb-51670c9c5afb\",\"type\":\"BoxZoomTool\"},{\"attributes\":{\"plot\":{\"id\":\"dd5ab072-0f61-4b99-881d-b86dea7ceab4\",\"subtype\":\"Chart\",\"type\":\"Plot\"}},\"id\":\"1485b6fe-e704-4132-b49d-00e44ca7e9b3\",\"type\":\"ResetTool\"},{\"attributes\":{\"dimension\":1,\"plot\":{\"id\":\"dd5ab072-0f61-4b99-881d-b86dea7ceab4\",\"subtype\":\"Chart\",\"type\":\"Plot\"},\"ticker\":{\"id\":\"0dd427fa-a63a-43a6-97a8-a17295cb44e9\",\"type\":\"BasicTicker\"}},\"id\":\"63891f27-4d21-43be-a0aa-67157d8c083f\",\"type\":\"Grid\"},{\"attributes\":{},\"id\":\"d47540af-debb-4b8c-9ae3-7dee1db840b5\",\"type\":\"ToolEvents\"},{\"attributes\":{\"plot\":{\"id\":\"dd5ab072-0f61-4b99-881d-b86dea7ceab4\",\"subtype\":\"Chart\",\"type\":\"Plot\"}},\"id\":\"a5d6b8d5-7928-4279-8f6d-f568652badd7\",\"type\":\"HelpTool\"},{\"attributes\":{\"callback\":null,\"column_names\":[\"y_values\",\"x_values\"],\"data\":{\"chart_index\":[{\"series\":\"a\"},{\"series\":\"a\"},{\"series\":\"a\"},{\"series\":\"a\"},{\"series\":\"a\"},{\"series\":\"a\"},{\"series\":\"a\"},{\"series\":\"a\"},{\"series\":\"a\"},{\"series\":\"a\"},{\"series\":\"a\"},{\"series\":\"a\"},{\"series\":\"a\"},{\"series\":\"a\"},{\"series\":\"a\"},{\"series\":\"a\"},{\"series\":\"a\"},{\"series\":\"a\"},{\"series\":\"a\"},{\"series\":\"a\"}],\"series\":[\"a\",\"a\",\"a\",\"a\",\"a\",\"a\",\"a\",\"a\",\"a\",\"a\",\"a\",\"a\",\"a\",\"a\",\"a\",\"a\",\"a\",\"a\",\"a\",\"a\"],\"x_values\":[2015,2016,2017,2018,2019,2020,2021,2022,2023,2024,2025,2026,2027,2028,2029,2030,2031,2032,2033,2034],\"y_values\":[5682000000.0,5920644000.0,6169311048.000001,6428422112.016,6698415840.720673,6979749306.030941,7272898776.884241,7578360525.51338,7896651667.584942,8228311037.623509,8573900101.203698,8934003905.454252,9309232069.483334,9700219816.401632,10107629048.6905,10532149468.735502,10974499746.422394,11435428735.772135,11915716742.674564,12416176845.866898]}},\"id\":\"115b68bf-7d50-4a15-925d-3af07ca2a011\",\"type\":\"ColumnDataSource\"},{\"attributes\":{\"callback\":null,\"end\":2035.9,\"start\":2013.1},\"id\":\"1b65eb8b-5678-416e-b727-4b67bd2f99c6\",\"type\":\"Range1d\"},{\"attributes\":{\"data_source\":{\"id\":\"115b68bf-7d50-4a15-925d-3af07ca2a011\",\"type\":\"ColumnDataSource\"},\"glyph\":{\"id\":\"fcd321a6-71c9-4edc-b2ff-af1d488a3408\",\"type\":\"Line\"},\"hover_glyph\":null,\"nonselection_glyph\":null,\"selection_glyph\":null},\"id\":\"101bc39b-5fe1-4930-93b0-93dcb09fb347\",\"type\":\"GlyphRenderer\"},{\"attributes\":{\"callback\":null,\"end\":13089594530.453587,\"start\":5008582315.41331},\"id\":\"aba929db-f338-4cea-803e-7489bb5406de\",\"type\":\"Range1d\"},{\"attributes\":{},\"id\":\"82586ed4-8679-424e-82f0-b8f2c0d271f4\",\"type\":\"BasicTicker\"},{\"attributes\":{\"line_color\":{\"value\":\"#f22c40\"},\"line_width\":{\"value\":2},\"x\":{\"field\":\"x_values\"},\"y\":{\"field\":\"y_values\"}},\"id\":\"fcd321a6-71c9-4edc-b2ff-af1d488a3408\",\"type\":\"Line\"},{\"attributes\":{\"active_drag\":\"auto\",\"active_scroll\":\"auto\",\"active_tap\":\"auto\",\"tools\":[{\"id\":\"ff1b38c5-0c73-4e9d-80e4-cf35bae74c8c\",\"type\":\"PanTool\"},{\"id\":\"68c4fcb6-32c7-4e40-91a0-935e5df8b8b6\",\"type\":\"WheelZoomTool\"},{\"id\":\"fb3fedce-2ad8-4ff4-b6eb-51670c9c5afb\",\"type\":\"BoxZoomTool\"},{\"id\":\"b38a1c82-6288-4a39-8b11-a021b4e5fd5a\",\"type\":\"SaveTool\"},{\"id\":\"1485b6fe-e704-4132-b49d-00e44ca7e9b3\",\"type\":\"ResetTool\"},{\"id\":\"a5d6b8d5-7928-4279-8f6d-f568652badd7\",\"type\":\"HelpTool\"}]},\"id\":\"a7734b42-0f2a-4ccb-9c35-965f002aef44\",\"type\":\"Toolbar\"},{\"attributes\":{\"plot\":{\"id\":\"dd5ab072-0f61-4b99-881d-b86dea7ceab4\",\"subtype\":\"Chart\",\"type\":\"Plot\"}},\"id\":\"ff1b38c5-0c73-4e9d-80e4-cf35bae74c8c\",\"type\":\"PanTool\"},{\"attributes\":{},\"id\":\"41f5c0e7-6164-4029-af70-21c4033c634b\",\"type\":\"BasicTickFormatter\"},{\"attributes\":{\"plot\":{\"id\":\"dd5ab072-0f61-4b99-881d-b86dea7ceab4\",\"subtype\":\"Chart\",\"type\":\"Plot\"}},\"id\":\"b38a1c82-6288-4a39-8b11-a021b4e5fd5a\",\"type\":\"SaveTool\"},{\"attributes\":{\"below\":[{\"id\":\"982ac445-20d5-41ca-b350-35e4fe003af0\",\"type\":\"LinearAxis\"}],\"left\":[{\"id\":\"60b341cc-3647-4b8b-90dc-1e333722d7cb\",\"type\":\"LinearAxis\"}],\"renderers\":[{\"id\":\"6013acc5-7351-40e1-a034-39bbb700a967\",\"type\":\"BoxAnnotation\"},{\"id\":\"101bc39b-5fe1-4930-93b0-93dcb09fb347\",\"type\":\"GlyphRenderer\"},{\"id\":\"02d09a31-befe-4f64-b763-4961375a15bd\",\"type\":\"Legend\"},{\"id\":\"982ac445-20d5-41ca-b350-35e4fe003af0\",\"type\":\"LinearAxis\"},{\"id\":\"60b341cc-3647-4b8b-90dc-1e333722d7cb\",\"type\":\"LinearAxis\"},{\"id\":\"150d3c0b-e81a-434a-a3e1-6e3d646eb653\",\"type\":\"Grid\"},{\"id\":\"63891f27-4d21-43be-a0aa-67157d8c083f\",\"type\":\"Grid\"}],\"title\":{\"id\":\"954bda11-cb12-4f0b-93f0-b147c1873d2f\",\"type\":\"Title\"},\"tool_events\":{\"id\":\"d47540af-debb-4b8c-9ae3-7dee1db840b5\",\"type\":\"ToolEvents\"},\"toolbar\":{\"id\":\"a7734b42-0f2a-4ccb-9c35-965f002aef44\",\"type\":\"Toolbar\"},\"x_mapper_type\":\"auto\",\"x_range\":{\"id\":\"1b65eb8b-5678-416e-b727-4b67bd2f99c6\",\"type\":\"Range1d\"},\"y_mapper_type\":\"auto\",\"y_range\":{\"id\":\"aba929db-f338-4cea-803e-7489bb5406de\",\"type\":\"Range1d\"}},\"id\":\"dd5ab072-0f61-4b99-881d-b86dea7ceab4\",\"subtype\":\"Chart\",\"type\":\"Plot\"},{\"attributes\":{},\"id\":\"0dd427fa-a63a-43a6-97a8-a17295cb44e9\",\"type\":\"BasicTicker\"},{\"attributes\":{\"bottom_units\":\"screen\",\"fill_alpha\":{\"value\":0.5},\"fill_color\":{\"value\":\"lightgrey\"},\"left_units\":\"screen\",\"level\":\"overlay\",\"line_alpha\":{\"value\":1.0},\"line_color\":{\"value\":\"black\"},\"line_dash\":[4,4],\"line_width\":{\"value\":2},\"plot\":null,\"render_mode\":\"css\",\"right_units\":\"screen\",\"top_units\":\"screen\"},\"id\":\"6013acc5-7351-40e1-a034-39bbb700a967\",\"type\":\"BoxAnnotation\"},{\"attributes\":{\"axis_label\":\"index\",\"formatter\":{\"id\":\"b1df8d48-1c1f-419f-a624-ab49e2b9f797\",\"type\":\"BasicTickFormatter\"},\"plot\":{\"id\":\"dd5ab072-0f61-4b99-881d-b86dea7ceab4\",\"subtype\":\"Chart\",\"type\":\"Plot\"},\"ticker\":{\"id\":\"82586ed4-8679-424e-82f0-b8f2c0d271f4\",\"type\":\"BasicTicker\"}},\"id\":\"982ac445-20d5-41ca-b350-35e4fe003af0\",\"type\":\"LinearAxis\"},{\"attributes\":{\"plot\":null,\"text\":\"Projected Property Tax Revenue Increase\"},\"id\":\"954bda11-cb12-4f0b-93f0-b147c1873d2f\",\"type\":\"Title\"},{\"attributes\":{\"legends\":[[\"a\",[{\"id\":\"101bc39b-5fe1-4930-93b0-93dcb09fb347\",\"type\":\"GlyphRenderer\"}]]],\"location\":\"top_left\",\"plot\":{\"id\":\"dd5ab072-0f61-4b99-881d-b86dea7ceab4\",\"subtype\":\"Chart\",\"type\":\"Plot\"}},\"id\":\"02d09a31-befe-4f64-b763-4961375a15bd\",\"type\":\"Legend\"}],\"root_ids\":[\"dd5ab072-0f61-4b99-881d-b86dea7ceab4\"]},\"title\":\"Bokeh Application\",\"version\":\"0.12.2\"}};\n",
       "            var render_items = [{\"docid\":\"5805dce9-78fe-4abb-92e8-90fde2438266\",\"elementid\":\"c0589904-4c41-4790-b85e-6027de832f6a\",\"modelid\":\"dd5ab072-0f61-4b99-881d-b86dea7ceab4\"}];\n",
       "            \n",
       "            Bokeh.embed.embed_items(docs_json, render_items);\n",
       "        });\n",
       "      },\n",
       "      function(Bokeh) {\n",
       "      }\n",
       "    ];\n",
       "  \n",
       "    function run_inline_js() {\n",
       "      \n",
       "      if ((window.Bokeh !== undefined) || (force === \"1\")) {\n",
       "        for (var i = 0; i < inline_js.length; i++) {\n",
       "          inline_js[i](window.Bokeh);\n",
       "        }if (force === \"1\") {\n",
       "          display_loaded();\n",
       "        }} else if (Date.now() < window._bokeh_timeout) {\n",
       "        setTimeout(run_inline_js, 100);\n",
       "      } else if (!window._bokeh_failed_load) {\n",
       "        console.log(\"Bokeh: BokehJS failed to load within specified timeout.\");\n",
       "        window._bokeh_failed_load = true;\n",
       "      } else if (!force) {\n",
       "        var cell = $(\"#c0589904-4c41-4790-b85e-6027de832f6a\").parents('.cell').data().cell;\n",
       "        cell.output_area.append_execute_result(NB_LOAD_WARNING)\n",
       "      }\n",
       "  \n",
       "    }\n",
       "  \n",
       "    if (window._bokeh_is_loading === 0) {\n",
       "      console.log(\"Bokeh: BokehJS loaded, going straight to plotting\");\n",
       "      run_inline_js();\n",
       "    } else {\n",
       "      load_libs(js_urls, function() {\n",
       "        console.log(\"Bokeh: BokehJS plotting callback run at\", now());\n",
       "        run_inline_js();\n",
       "      });\n",
       "    }\n",
       "  }(this));\n",
       "</script>"
      ]
     },
     "metadata": {},
     "output_type": "display_data"
    }
   ],
   "source": [
    "line = Line(pd.Series(prop_revenue), title=\"Projected Property Tax Revenue Increase\", legend=\"top_left\", ylabel='Languages')\n",
    "show(line)"
   ]
  },
  {
   "cell_type": "markdown",
   "metadata": {},
   "source": [
    "## How much housing would that fund "
   ]
  },
  {
   "cell_type": "code",
   "execution_count": null,
   "metadata": {
    "collapsed": true
   },
   "outputs": [],
   "source": []
  }
 ],
 "metadata": {
  "kernelspec": {
   "display_name": "Python 3",
   "language": "python",
   "name": "python3"
  },
  "language_info": {
   "codemirror_mode": {
    "name": "ipython",
    "version": 3
   },
   "file_extension": ".py",
   "mimetype": "text/x-python",
   "name": "python",
   "nbconvert_exporter": "python",
   "pygments_lexer": "ipython3",
   "version": "3.5.3"
  }
 },
 "nbformat": 4,
 "nbformat_minor": 2
}

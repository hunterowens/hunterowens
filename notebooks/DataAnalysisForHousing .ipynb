{
 "cells": [
  {
   "cell_type": "markdown",
   "metadata": {},
   "source": [
    "# AB 1568 Data Research \n",
    "\n",
    "- What happened to the money dedicated to CRAs, approximately $1.7b?\n",
    "- If EIFDs raised sales taxes how likely are eligible voters to support MORE taxes? (Stage whisper: how much more sales tax are folks willing to pay? L.A. Co. is at 9.75%) **Effect of Sales tax on growth/housing?** \n",
    "- How big are EIFD-eligible areas in the most affected counties. How many people need to sign up? \n",
    "- Percentage of counties eligible for EIFD \n",
    "- Estimate effects of rent on sample EIFD \n",
    "- Possible amount raised for highest EIFDS \n"
   ]
  },
  {
   "cell_type": "code",
   "execution_count": 1,
   "metadata": {
    "collapsed": true
   },
   "outputs": [],
   "source": [
    "import pandas as pd"
   ]
  },
  {
   "cell_type": "markdown",
   "metadata": {},
   "source": [
    "* EFID-elidblge are in SB 375 Infill locations. \n",
    "\n",
    "```html\n",
    "21061.3.  \"Infill site\" means a site in an urbanized area that\n",
    "meets either of the following criteria:\n",
    "   (a) The site has not been previously developed for urban uses and\n",
    "both of the following apply:\n",
    "   (1) The site is immediately adjacent to parcels that are developed\n",
    "with qualified urban uses, or at least 75 percent of the perimeter\n",
    "of the site adjoins parcels that are developed with qualified urban\n",
    "uses, and the remaining 25 percent of the site adjoins parcels that\n",
    "have previously been developed for qualified urban uses.\n",
    "   (2) No parcel within the site has been created within the past 10\n",
    "years unless the parcel was created as a result of the plan of a\n",
    "redevelopment agency.\n",
    "   (b) The site has been previously developed for qualified urban\n",
    "uses.\n",
    "```"
   ]
  },
  {
   "cell_type": "code",
   "execution_count": null,
   "metadata": {
    "collapsed": true
   },
   "outputs": [],
   "source": []
  }
 ],
 "metadata": {
  "kernelspec": {
   "display_name": "Python 3",
   "language": "python",
   "name": "python3"
  },
  "language_info": {
   "codemirror_mode": {
    "name": "ipython",
    "version": 3
   },
   "file_extension": ".py",
   "mimetype": "text/x-python",
   "name": "python",
   "nbconvert_exporter": "python",
   "pygments_lexer": "ipython3",
   "version": "3.5.3"
  }
 },
 "nbformat": 4,
 "nbformat_minor": 2
}

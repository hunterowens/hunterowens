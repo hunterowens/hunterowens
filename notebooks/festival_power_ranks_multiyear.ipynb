{
 "cells": [
  {
   "cell_type": "code",
   "execution_count": 1,
   "metadata": {
    "collapsed": true
   },
   "outputs": [],
   "source": [
    "import pandas as pd\n",
    "%matplotlib inline\n",
    "import matplotlib\n",
    "matplotlib.style.use('ggplot')"
   ]
  },
  {
   "cell_type": "markdown",
   "metadata": {},
   "source": [
    "As you may have seen, I'm back through 2008 on the Big 3 (Governor's Ball has only been multiple days for the last 4 years, so I stopped after that). I'd like to do a graph over time of the % of unique bands for each festival. I don't know if there's a quick code way to do that, but I can also just count off the spreadsheet. I'm going to go back to 2005, when Lolla started as a destination fest."
   ]
  },
  {
   "cell_type": "code",
   "execution_count": 19,
   "metadata": {
    "collapsed": false
   },
   "outputs": [],
   "source": [
    "years = range(2005,2017)\n",
    "festivals = ['COACHELLA', 'GOVBALL', 'BONNAROO', 'LOLLA']"
   ]
  },
  {
   "cell_type": "code",
   "execution_count": 22,
   "metadata": {
    "collapsed": true
   },
   "outputs": [],
   "source": [
    "def load_df_year(year):\n",
    "    \"\"\"Given a year, return the cleaned df\"\"\"\n",
    "    # Data clean and setup\n",
    "    # df2016.drop([0,1], inplace=True)\n",
    "    # df2016.drop(['AVG RANK','# OF FESTS', 'PWR RANKING', 'Unnamed: 4'], axis=1)\n",
    "    df = pd.read_excel('/Users/hunterowens/Downloads/Festivals.xlsx', sheet=str(year))\n",
    "    df.set_index('ARTIST', inplace=True)"
   ]
  },
  {
   "cell_type": "code",
   "execution_count": 23,
   "metadata": {
    "collapsed": false
   },
   "outputs": [
    {
     "data": {
      "text/plain": [
       "[None, None, None, None, None, None, None, None, None, None, None, None]"
      ]
     },
     "execution_count": 23,
     "metadata": {},
     "output_type": "execute_result"
    }
   ],
   "source": [
    "[load_df_year(year) for year in years]"
   ]
  },
  {
   "cell_type": "code",
   "execution_count": 20,
   "metadata": {
    "collapsed": true
   },
   "outputs": [],
   "source": [
    "def compute_percentage_of_lineup_in_other_festivals(lineup, df): \n",
    "    \"\"\"Given a lineup from d[FESTIVAL_NAME], tell me what percentage is in another festival \"\"\"\n",
    "    sum_lineup = df[lineup].count()\n",
    "    all_artists_from_other_fests = df.drop(lineup, axis=1).dropna(how='all').index.get_values()\n",
    "    fest_lineup_list = df[lineup].dropna().index.get_values()\n",
    "    common_artists_sum = len(set(all_artists_from_other_fests).intersection(fest_lineup_list))\n",
    "    percentage = common_artists_sum / sum_lineup\n",
    "    return percentage"
   ]
  }
 ],
 "metadata": {
  "kernelspec": {
   "display_name": "Python 3",
   "language": "python",
   "name": "python3"
  },
  "language_info": {
   "codemirror_mode": {
    "name": "ipython",
    "version": 3
   },
   "file_extension": ".py",
   "mimetype": "text/x-python",
   "name": "python",
   "nbconvert_exporter": "python",
   "pygments_lexer": "ipython3",
   "version": "3.5.1"
  }
 },
 "nbformat": 4,
 "nbformat_minor": 0
}

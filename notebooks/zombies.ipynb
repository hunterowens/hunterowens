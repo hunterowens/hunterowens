{
 "metadata": {
  "name": "zombies"
 },
 "nbformat": 3,
 "nbformat_minor": 0,
 "worksheets": [
  {
   "cells": [
    {
     "cell_type": "code",
     "collapsed": false,
     "input": [
      "import pandas as pd\n",
      "\n",
      "kills_df = pd.read_json(\"https://www.uchicagohvz.org/game/1/data/kills/\")\n",
      "kills_df.to_csv(\"./zombies_kills.csv\")\n",
      "df = pd.read_csv(\"./zombies_kills.csv\", index_col=1, parse_dates=True)"
     ],
     "language": "python",
     "metadata": {},
     "outputs": [],
     "prompt_number": 68
    },
    {
     "cell_type": "code",
     "collapsed": false,
     "input": [
      "df.head(5)"
     ],
     "language": "python",
     "metadata": {},
     "outputs": [
      {
       "html": [
        "<div style=\"max-height:1000px;max-width:1500px;overflow:auto;\">\n",
        "<table border=\"1\" class=\"dataframe\">\n",
        "  <thead>\n",
        "    <tr style=\"text-align: right;\">\n",
        "      <th></th>\n",
        "      <th>Unnamed: 0</th>\n",
        "      <th>id</th>\n",
        "      <th>killer</th>\n",
        "      <th>location</th>\n",
        "      <th>points</th>\n",
        "      <th>victim</th>\n",
        "    </tr>\n",
        "    <tr>\n",
        "      <th>date</th>\n",
        "      <th></th>\n",
        "      <th></th>\n",
        "      <th></th>\n",
        "      <th></th>\n",
        "      <th></th>\n",
        "      <th></th>\n",
        "    </tr>\n",
        "  </thead>\n",
        "  <tbody>\n",
        "    <tr>\n",
        "      <th>2013-10-15 23:47:30.818000</th>\n",
        "      <td> 0</td>\n",
        "      <td> 239</td>\n",
        "      <td>       Shenyang Mao</td>\n",
        "      <td> [41.7896488842118, -87.5997018814087]</td>\n",
        "      <td> 1</td>\n",
        "      <td>         Rahul Sinha</td>\n",
        "    </tr>\n",
        "    <tr>\n",
        "      <th>2013-10-15 23:43:24.595000</th>\n",
        "      <td> 1</td>\n",
        "      <td> 238</td>\n",
        "      <td> Michael Procassini</td>\n",
        "      <td> [41.7894888963805, -87.5999540090561]</td>\n",
        "      <td> 1</td>\n",
        "      <td>        Mary Barclay</td>\n",
        "    </tr>\n",
        "    <tr>\n",
        "      <th>2013-10-15 23:34:04.067000</th>\n",
        "      <td> 2</td>\n",
        "      <td> 237</td>\n",
        "      <td>       Wesley Jones</td>\n",
        "      <td> [41.7894009029031, -87.5992459058762]</td>\n",
        "      <td> 1</td>\n",
        "      <td> Stanley Breitweiser</td>\n",
        "    </tr>\n",
        "    <tr>\n",
        "      <th>2013-10-15 23:32:53.405000</th>\n",
        "      <td> 3</td>\n",
        "      <td> 236</td>\n",
        "      <td>          Seth Arar</td>\n",
        "      <td> [41.7896888811073, -87.5992941856384]</td>\n",
        "      <td> 1</td>\n",
        "      <td>        Wesley Jones</td>\n",
        "    </tr>\n",
        "    <tr>\n",
        "      <th>2013-10-15 23:22:55.788000</th>\n",
        "      <td> 4</td>\n",
        "      <td> 235</td>\n",
        "      <td>          Seth Arar</td>\n",
        "      <td> [41.7893049098809, -87.5993478298187]</td>\n",
        "      <td> 1</td>\n",
        "      <td>            Yida Cai</td>\n",
        "    </tr>\n",
        "  </tbody>\n",
        "</table>\n",
        "<p>5 rows \u00d7 6 columns</p>\n",
        "</div>"
       ],
       "output_type": "pyout",
       "prompt_number": 69,
       "text": [
        "                            Unnamed: 0   id              killer  \\\n",
        "date                                                              \n",
        "2013-10-15 23:47:30.818000           0  239        Shenyang Mao   \n",
        "2013-10-15 23:43:24.595000           1  238  Michael Procassini   \n",
        "2013-10-15 23:34:04.067000           2  237        Wesley Jones   \n",
        "2013-10-15 23:32:53.405000           3  236           Seth Arar   \n",
        "2013-10-15 23:22:55.788000           4  235           Seth Arar   \n",
        "\n",
        "                                                         location  points  \\\n",
        "date                                                                        \n",
        "2013-10-15 23:47:30.818000  [41.7896488842118, -87.5997018814087]       1   \n",
        "2013-10-15 23:43:24.595000  [41.7894888963805, -87.5999540090561]       1   \n",
        "2013-10-15 23:34:04.067000  [41.7894009029031, -87.5992459058762]       1   \n",
        "2013-10-15 23:32:53.405000  [41.7896888811073, -87.5992941856384]       1   \n",
        "2013-10-15 23:22:55.788000  [41.7893049098809, -87.5993478298187]       1   \n",
        "\n",
        "                                         victim  \n",
        "date                                             \n",
        "2013-10-15 23:47:30.818000          Rahul Sinha  \n",
        "2013-10-15 23:43:24.595000         Mary Barclay  \n",
        "2013-10-15 23:34:04.067000  Stanley Breitweiser  \n",
        "2013-10-15 23:32:53.405000         Wesley Jones  \n",
        "2013-10-15 23:22:55.788000             Yida Cai  \n",
        "\n",
        "[5 rows x 6 columns]"
       ]
      }
     ],
     "prompt_number": 69
    },
    {
     "cell_type": "code",
     "collapsed": false,
     "input": [
      "df2 = df[df.index!=pd.NaT]\n",
      "df2['n'] = 1\n",
      "df2.n.resample('H', how=\"sum\")\n",
      "plot(df2.n.resample('H', how=\"sum\"))\n"
     ],
     "language": "python",
     "metadata": {},
     "outputs": [
      {
       "output_type": "pyout",
       "prompt_number": 72,
       "text": [
        "[<matplotlib.lines.Line2D at 0x106fe9ad0>]"
       ]
      },
      {
       "output_type": "display_data",
       "png": "[encoded data removed]"
      }
     ],
     "prompt_number": 72
    },
    {
     "cell_type": "code",
     "collapsed": false,
     "input": [],
     "language": "python",
     "metadata": {},
     "outputs": []
    }
   ],
   "metadata": {}
  }
 ]
}
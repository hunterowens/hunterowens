{
 "cells": [
  {
   "cell_type": "code",
   "execution_count": 55,
   "metadata": {
    "collapsed": false
   },
   "outputs": [],
   "source": [
    "weeks = range(1,11)\n",
    "max_apperances = 5\n",
    "import numpy as np"
   ]
  },
  {
   "cell_type": "code",
   "execution_count": 43,
   "metadata": {
    "collapsed": false
   },
   "outputs": [],
   "source": [
    "judges = [\"Hunter\", \"Lib\", \"Matthew\", \n",
    "          \"Paul\", \"Freddie\", \"Taylor\",\n",
    "          \"Griffin\", \"Regina\", \"Elizabeth\"]"
   ]
  },
  {
   "cell_type": "code",
   "execution_count": 44,
   "metadata": {
    "collapsed": false
   },
   "outputs": [],
   "source": [
    "cant_go = {'Hunter': [3],\n",
    "           'Regina': [1],\n",
    "           'Paul': [10]}"
   ]
  },
  {
   "cell_type": "code",
   "execution_count": 50,
   "metadata": {
    "collapsed": false
   },
   "outputs": [],
   "source": [
    "import datetime\n",
    "def generate_tuesdays(start_date=datetime.date(2016,3,29)):\n",
    "    \"\"\"Generates a list of tuesdays for 10 weeks starting with start date\"\"\"\n",
    "    ret = {}\n",
    "    for week in weeks:\n",
    "        ret[week] = (start_date + datetime.timedelta(7 * week) - datetime.timedelta(7))\n",
    "    return ret"
   ]
  },
  {
   "cell_type": "code",
   "execution_count": 122,
   "metadata": {
    "collapsed": false
   },
   "outputs": [],
   "source": [
    "def select_judge(judges, week):\n",
    "    \"\"\"Returns a judge valid for the week\"\"\"\n",
    "    judge = np.random.choice(judges)\n",
    "    try:\n",
    "        judge_can_go = week not in cant_go[judge]\n",
    "        print(judge_can_go)\n",
    "    except KeyError:\n",
    "        return judge\n",
    "    if judge_can_go:\n",
    "        return judge\n",
    "    else:\n",
    "        prijudges.remove(judge))\n",
    "        ## select_judge(judges.remove(judge), week)"
   ]
  },
  {
   "cell_type": "code",
   "execution_count": 123,
   "metadata": {
    "collapsed": false
   },
   "outputs": [
    {
     "name": "stdout",
     "output_type": "stream",
     "text": [
      "False\n",
      "None\n"
     ]
    }
   ],
   "source": [
    "select_judge([\"Regina\", \"Hunter\",\"Matthew\"], 1)"
   ]
  },
  {
   "cell_type": "code",
   "execution_count": 83,
   "metadata": {
    "collapsed": false
   },
   "outputs": [],
   "source": [
    "def generate_theme_round(judges, weeks):\n",
    "    theme_round = {}\n",
    "    for week in weeks:\n",
    "        judge = np.random.choice(judges)\n",
    "        \n",
    "            "
   ]
  },
  {
   "cell_type": "code",
   "execution_count": 54,
   "metadata": {
    "collapsed": false
   },
   "outputs": [
    {
     "name": "stdout",
     "output_type": "stream",
     "text": [
      "{1: datetime.date(2016, 3, 29), 2: datetime.date(2016, 4, 5), 3: datetime.date(2016, 4, 12), 4: datetime.date(2016, 4, 19), 5: datetime.date(2016, 4, 26), 6: datetime.date(2016, 5, 3), 7: datetime.date(2016, 5, 10), 8: datetime.date(2016, 5, 17), 9: datetime.date(2016, 5, 24), 10: datetime.date(2016, 5, 31)}\n"
     ]
    }
   ],
   "source": [
    "generate_theme_round(judges, generate_tuesdays()):    "
   ]
  },
  {
   "cell_type": "code",
   "execution_count": null,
   "metadata": {
    "collapsed": true
   },
   "outputs": [],
   "source": [
    "def generate_solution(weeks, tuesdays, judges):\n",
    "    \"\"\"Generates all possible solutions for judges\"\"\"\n",
    "    "
   ]
  },
  {
   "cell_type": "code",
   "execution_count": null,
   "metadata": {
    "collapsed": true
   },
   "outputs": [],
   "source": []
  }
 ],
 "metadata": {
  "kernelspec": {
   "display_name": "Python 3",
   "language": "python",
   "name": "python3"
  },
  "language_info": {
   "codemirror_mode": {
    "name": "ipython",
    "version": 3
   },
   "file_extension": ".py",
   "mimetype": "text/x-python",
   "name": "python",
   "nbconvert_exporter": "python",
   "pygments_lexer": "ipython3",
   "version": "3.5.1"
  }
 },
 "nbformat": 4,
 "nbformat_minor": 0
}

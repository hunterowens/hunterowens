{
 "cells": [
  {
   "cell_type": "code",
   "execution_count": 55,
   "metadata": {
    "collapsed": false
   },
   "outputs": [],
   "source": [
    "weeks = range(1,11)\n",
    "max_apperances = 5\n",
    "import numpy as np\n",
    "max_apperances_lib = 3"
   ]
  },
  {
   "cell_type": "code",
   "execution_count": 175,
   "metadata": {
    "collapsed": false
   },
   "outputs": [],
   "source": [
    "judges_raw = [\"Hunter\", \"Lib\", \"Matthew\", \n",
    "          \"Paul\", \"Freddie\", \"Taylor\",\n",
    "          \"Griffin\", \"Regina\", \"Elizabeth\"]"
   ]
  },
  {
   "cell_type": "code",
   "execution_count": 176,
   "metadata": {
    "collapsed": false
   },
   "outputs": [],
   "source": [
    "cant_go = {'Hunter': [3],\n",
    "           'Regina': [1],\n",
    "           'Paul': [10],\n",
    "           \"Lib\": [],\n",
    "           'Matthew': [],\n",
    "           'Freddie': [],\n",
    "           'Taylor': [],\n",
    "           'Griffin': [],\n",
    "           'Elizabeth': []}"
   ]
  },
  {
   "cell_type": "code",
   "execution_count": 50,
   "metadata": {
    "collapsed": false
   },
   "outputs": [],
   "source": [
    "import datetime\n",
    "def generate_tuesdays(start_date=datetime.date(2016,3,29)):\n",
    "    \"\"\"Generates a list of tuesdays for 10 weeks starting with start date\"\"\"\n",
    "    ret = {}\n",
    "    for week in weeks:\n",
    "        ret[week] = (start_date + datetime.timedelta(7 * week) - datetime.timedelta(7))\n",
    "    return ret"
   ]
  },
  {
   "cell_type": "code",
   "execution_count": 159,
   "metadata": {
    "collapsed": false
   },
   "outputs": [],
   "source": [
    "def select_judge(judges, week):\n",
    "    \"\"\"Returns a judge valid for the week\"\"\"\n",
    "    judge = np.random.choice(judges)\n",
    "    judge_can_go = week not in cant_go[judge]\n",
    "    if judge_can_go:\n",
    "        return judge\n",
    "    else:\n",
    "        judges.remove(judge)\n",
    "        return select_judge(judges, week)"
   ]
  },
  {
   "cell_type": "code",
   "execution_count": 160,
   "metadata": {
    "collapsed": false
   },
   "outputs": [
    {
     "data": {
      "text/plain": [
       "'Hunter'"
      ]
     },
     "execution_count": 160,
     "metadata": {},
     "output_type": "execute_result"
    }
   ],
   "source": [
    "select_judge([\"Regina\", \"Hunter\",\"Matthew\"], 1)"
   ]
  },
  {
   "cell_type": "code",
   "execution_count": 177,
   "metadata": {
    "collapsed": false
   },
   "outputs": [],
   "source": [
    "def generate_theme_round(judges, weeks):\n",
    "    theme_round = {}\n",
    "    for week in weeks:\n",
    "        try:\n",
    "            judge = select_judge(judges, week)\n",
    "            theme_round[week] = judge\n",
    "            judges.remove(judge)\n",
    "        except ValueError:\n",
    "            theme_round[week] = \"Andrew\"\n",
    "    return theme_round"
   ]
  },
  {
   "cell_type": "code",
   "execution_count": 178,
   "metadata": {
    "collapsed": false
   },
   "outputs": [],
   "source": [
    "theme_round = generate_theme_round(judges_raw, weeks) "
   ]
  },
  {
   "cell_type": "code",
   "execution_count": null,
   "metadata": {
    "collapsed": true
   },
   "outputs": [],
   "source": [
    "tej"
   ]
  }
 ],
 "metadata": {
  "kernelspec": {
   "display_name": "Python 3",
   "language": "python",
   "name": "python3"
  },
  "language_info": {
   "codemirror_mode": {
    "name": "ipython",
    "version": 3
   },
   "file_extension": ".py",
   "mimetype": "text/x-python",
   "name": "python",
   "nbconvert_exporter": "python",
   "pygments_lexer": "ipython3",
   "version": "3.5.1"
  }
 },
 "nbformat": 4,
 "nbformat_minor": 0
}

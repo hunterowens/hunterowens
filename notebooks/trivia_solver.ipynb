{
 "cells": [
  {
   "cell_type": "code",
   "execution_count": 195,
   "metadata": {
    "collapsed": false
   },
   "outputs": [],
   "source": [
    "weeks = range(1,11)\n",
    "max_apperances = 5\n",
    "import numpy as np\n",
    "max_apperances_lib = 3"
   ]
  },
  {
   "cell_type": "code",
   "execution_count": 196,
   "metadata": {
    "collapsed": false
   },
   "outputs": [],
   "source": [
    "cant_go = {'Hunter': [3],\n",
    "           'Regina': [1],\n",
    "           'Paul': [10],\n",
    "           \"Lib\": [],\n",
    "           'Matthew': [],\n",
    "           'Freddy': [],\n",
    "           'Taylor': [],\n",
    "           'Griffin': [],\n",
    "           'Elizabeth': []}"
   ]
  },
  {
   "cell_type": "code",
   "execution_count": 197,
   "metadata": {
    "collapsed": false
   },
   "outputs": [],
   "source": [
    "import datetime\n",
    "def generate_tuesdays(start_date=datetime.date(2016,3,29)):\n",
    "    \"\"\"Generates a list of tuesdays for 10 weeks starting with start date\"\"\"\n",
    "    ret = {}\n",
    "    for week in weeks:\n",
    "        ret[week] = (start_date + datetime.timedelta(7 * week) - datetime.timedelta(7))\n",
    "    return ret"
   ]
  },
  {
   "cell_type": "code",
   "execution_count": 198,
   "metadata": {
    "collapsed": false
   },
   "outputs": [],
   "source": [
    "def select_judge(judges, week):\n",
    "    \"\"\"Returns a judge valid for the week\"\"\"\n",
    "    judge = np.random.choice(judges)\n",
    "    judge_can_go = week not in cant_go[judge]\n",
    "    if judge_can_go:\n",
    "        return judge\n",
    "    else:\n",
    "        judges.remove(judge)\n",
    "        return select_judge(judges, week)"
   ]
  },
  {
   "cell_type": "code",
   "execution_count": 199,
   "metadata": {
    "collapsed": false
   },
   "outputs": [
    {
     "data": {
      "text/plain": [
       "'Hunter'"
      ]
     },
     "execution_count": 199,
     "metadata": {},
     "output_type": "execute_result"
    }
   ],
   "source": [
    "select_judge([\"Regina\", \"Hunter\",\"Matthew\"], 1)"
   ]
  },
  {
   "cell_type": "code",
   "execution_count": 200,
   "metadata": {
    "collapsed": false
   },
   "outputs": [],
   "source": [
    "def generate_theme_round(judges, weeks):\n",
    "    theme_round = {}\n",
    "    for week in weeks:\n",
    "        try:\n",
    "            judge = select_judge(judges, week)\n",
    "            theme_round[week] = judge\n",
    "            judges.remove(judge)\n",
    "        except ValueError:\n",
    "            theme_round[week] = \"Andrew\"\n",
    "    return theme_round"
   ]
  },
  {
   "cell_type": "code",
   "execution_count": 201,
   "metadata": {
    "collapsed": false
   },
   "outputs": [],
   "source": [
    "judges_raw = [\"Hunter\", \"Lib\", \"Matthew\", \n",
    "          \"Paul\", \"Freddy\", \"Taylor\",\n",
    "          \"Griffin\", \"Regina\", \"Elizabeth\"]\n",
    "theme_round = generate_theme_round(judges_raw, weeks) "
   ]
  },
  {
   "cell_type": "code",
   "execution_count": 202,
   "metadata": {
    "collapsed": false
   },
   "outputs": [],
   "source": [
    "def pick_week(judges, week):\n",
    "    \"\"\"Picks 4 judges for the week\"\"\"\n",
    "    lineup = []\n",
    "    while len(lineup) < 4:\n",
    "        judge = select_judge(judges, week)\n",
    "        lineup.append(judge)"
   ]
  },
  {
   "cell_type": "code",
   "execution_count": 203,
   "metadata": {
    "collapsed": false
   },
   "outputs": [
    {
     "ename": "ValueError",
     "evalue": "a must be non-empty",
     "output_type": "error",
     "traceback": [
      "\u001b[0;31m---------------------------------------------------------------------------\u001b[0m",
      "\u001b[0;31mValueError\u001b[0m                                Traceback (most recent call last)",
      "\u001b[0;32m<ipython-input-203-512f3cacc756>\u001b[0m in \u001b[0;36m<module>\u001b[0;34m()\u001b[0m\n\u001b[0;32m----> 1\u001b[0;31m \u001b[0mpick_week\u001b[0m\u001b[0;34m(\u001b[0m\u001b[0mjudges_raw\u001b[0m\u001b[0;34m,\u001b[0m \u001b[0;36m1\u001b[0m\u001b[0;34m)\u001b[0m\u001b[0;34m\u001b[0m\u001b[0m\n\u001b[0m",
      "\u001b[0;32m<ipython-input-202-8e403283e0e7>\u001b[0m in \u001b[0;36mpick_week\u001b[0;34m(judges, week)\u001b[0m\n\u001b[1;32m      3\u001b[0m     \u001b[0mlineup\u001b[0m \u001b[0;34m=\u001b[0m \u001b[0;34m[\u001b[0m\u001b[0;34m]\u001b[0m\u001b[0;34m\u001b[0m\u001b[0m\n\u001b[1;32m      4\u001b[0m     \u001b[0;32mwhile\u001b[0m \u001b[0mlen\u001b[0m\u001b[0;34m(\u001b[0m\u001b[0mlineup\u001b[0m\u001b[0;34m)\u001b[0m \u001b[0;34m<\u001b[0m \u001b[0;36m4\u001b[0m\u001b[0;34m:\u001b[0m\u001b[0;34m\u001b[0m\u001b[0m\n\u001b[0;32m----> 5\u001b[0;31m         \u001b[0mjudge\u001b[0m \u001b[0;34m=\u001b[0m \u001b[0mselect_judge\u001b[0m\u001b[0;34m(\u001b[0m\u001b[0mjudges\u001b[0m\u001b[0;34m,\u001b[0m \u001b[0mweek\u001b[0m\u001b[0;34m)\u001b[0m\u001b[0;34m\u001b[0m\u001b[0m\n\u001b[0m\u001b[1;32m      6\u001b[0m         \u001b[0mlineup\u001b[0m\u001b[0;34m.\u001b[0m\u001b[0mappend\u001b[0m\u001b[0;34m(\u001b[0m\u001b[0mjudge\u001b[0m\u001b[0;34m)\u001b[0m\u001b[0;34m\u001b[0m\u001b[0m\n",
      "\u001b[0;32m<ipython-input-198-cd552e5f987f>\u001b[0m in \u001b[0;36mselect_judge\u001b[0;34m(judges, week)\u001b[0m\n\u001b[1;32m      1\u001b[0m \u001b[0;32mdef\u001b[0m \u001b[0mselect_judge\u001b[0m\u001b[0;34m(\u001b[0m\u001b[0mjudges\u001b[0m\u001b[0;34m,\u001b[0m \u001b[0mweek\u001b[0m\u001b[0;34m)\u001b[0m\u001b[0;34m:\u001b[0m\u001b[0;34m\u001b[0m\u001b[0m\n\u001b[1;32m      2\u001b[0m     \u001b[0;34m\"\"\"Returns a judge valid for the week\"\"\"\u001b[0m\u001b[0;34m\u001b[0m\u001b[0m\n\u001b[0;32m----> 3\u001b[0;31m     \u001b[0mjudge\u001b[0m \u001b[0;34m=\u001b[0m \u001b[0mnp\u001b[0m\u001b[0;34m.\u001b[0m\u001b[0mrandom\u001b[0m\u001b[0;34m.\u001b[0m\u001b[0mchoice\u001b[0m\u001b[0;34m(\u001b[0m\u001b[0mjudges\u001b[0m\u001b[0;34m)\u001b[0m\u001b[0;34m\u001b[0m\u001b[0m\n\u001b[0m\u001b[1;32m      4\u001b[0m     \u001b[0mjudge_can_go\u001b[0m \u001b[0;34m=\u001b[0m \u001b[0mweek\u001b[0m \u001b[0;32mnot\u001b[0m \u001b[0;32min\u001b[0m \u001b[0mcant_go\u001b[0m\u001b[0;34m[\u001b[0m\u001b[0mjudge\u001b[0m\u001b[0;34m]\u001b[0m\u001b[0;34m\u001b[0m\u001b[0m\n\u001b[1;32m      5\u001b[0m     \u001b[0;32mif\u001b[0m \u001b[0mjudge_can_go\u001b[0m\u001b[0;34m:\u001b[0m\u001b[0;34m\u001b[0m\u001b[0m\n",
      "\u001b[0;32mmtrand.pyx\u001b[0m in \u001b[0;36mmtrand.RandomState.choice (numpy/random/mtrand/mtrand.c:10406)\u001b[0;34m()\u001b[0m\n",
      "\u001b[0;31mValueError\u001b[0m: a must be non-empty"
     ]
    }
   ],
   "source": [
    "pick_week(judges_raw, 1)"
   ]
  },
  {
   "cell_type": "code",
   "execution_count": null,
   "metadata": {
    "collapsed": true
   },
   "outputs": [],
   "source": []
  }
 ],
 "metadata": {
  "kernelspec": {
   "display_name": "Python 3",
   "language": "python",
   "name": "python3"
  },
  "language_info": {
   "codemirror_mode": {
    "name": "ipython",
    "version": 3
   },
   "file_extension": ".py",
   "mimetype": "text/x-python",
   "name": "python",
   "nbconvert_exporter": "python",
   "pygments_lexer": "ipython3",
   "version": "3.5.1"
  }
 },
 "nbformat": 4,
 "nbformat_minor": 0
}

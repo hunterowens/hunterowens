{
 "metadata": {
  "name": "",
  "signature": "sha256:d37b27f6dad4cf6c2b8c92de1423a6e084a597e645cac3f50fb489ec914c655b"
 },
 "nbformat": 3,
 "nbformat_minor": 0,
 "worksheets": [
  {
   "cells": [
    {
     "cell_type": "code",
     "collapsed": false,
     "input": [
      "import pandas as pd"
     ],
     "language": "python",
     "metadata": {},
     "outputs": [],
     "prompt_number": 1
    },
    {
     "cell_type": "code",
     "collapsed": false,
     "input": [
      "url = \"https://gist.githubusercontent.com/hunterowens/10649493/raw/5c430952728e92db657fd34b73db306524ac88ac/renmin.csv\"\n",
      "data = pd.read_csv(url)"
     ],
     "language": "python",
     "metadata": {},
     "outputs": [],
     "prompt_number": 51
    },
    {
     "cell_type": "code",
     "collapsed": false,
     "input": [
      "data.head(5)"
     ],
     "language": "python",
     "metadata": {},
     "outputs": [
      {
       "html": [
        "<div style=\"max-height:1000px;max-width:1500px;overflow:auto;\">\n",
        "<table border=\"1\" class=\"dataframe\">\n",
        "  <thead>\n",
        "    <tr style=\"text-align: right;\">\n",
        "      <th></th>\n",
        "      <th>type_of_connection</th>\n",
        "      <th>ping</th>\n",
        "      <th>download</th>\n",
        "      <th>upload</th>\n",
        "    </tr>\n",
        "  </thead>\n",
        "  <tbody>\n",
        "    <tr>\n",
        "      <th>0</th>\n",
        "      <td>              CMCC Paid China Moible</td>\n",
        "      <td>   0</td>\n",
        "      <td> 26.35</td>\n",
        "      <td> 32.360</td>\n",
        "    </tr>\n",
        "    <tr>\n",
        "      <th>1</th>\n",
        "      <td>                         Renmin WIFI</td>\n",
        "      <td>  16</td>\n",
        "      <td>  6.24</td>\n",
        "      <td>  1.590</td>\n",
        "    </tr>\n",
        "    <tr>\n",
        "      <th>2</th>\n",
        "      <td>                       Personal WIFI</td>\n",
        "      <td>   2</td>\n",
        "      <td> 42.96</td>\n",
        "      <td> 49.020</td>\n",
        "    </tr>\n",
        "    <tr>\n",
        "      <th>3</th>\n",
        "      <td>                  Personal WIFI+cVPN</td>\n",
        "      <td> 453</td>\n",
        "      <td>  1.01</td>\n",
        "      <td>  0.007</td>\n",
        "    </tr>\n",
        "    <tr>\n",
        "      <th>4</th>\n",
        "      <td> Personal WIFI+OpenVPN/Digital Ocean</td>\n",
        "      <td> 443</td>\n",
        "      <td>  0.05</td>\n",
        "      <td>  0.330</td>\n",
        "    </tr>\n",
        "  </tbody>\n",
        "</table>\n",
        "<p>5 rows \u00d7 4 columns</p>\n",
        "</div>"
       ],
       "metadata": {},
       "output_type": "pyout",
       "prompt_number": 52,
       "text": [
        "                    type_of_connection  ping  download  upload\n",
        "0               CMCC Paid China Moible     0     26.35  32.360\n",
        "1                          Renmin WIFI    16      6.24   1.590\n",
        "2                        Personal WIFI     2     42.96  49.020\n",
        "3                   Personal WIFI+cVPN   453      1.01   0.007\n",
        "4  Personal WIFI+OpenVPN/Digital Ocean   443      0.05   0.330\n",
        "\n",
        "[5 rows x 4 columns]"
       ]
      }
     ],
     "prompt_number": 52
    },
    {
     "cell_type": "code",
     "collapsed": false,
     "input": [
      "download_speed = data.ix[0:2].set_index('type_of_connection').download                                  "
     ],
     "language": "python",
     "metadata": {},
     "outputs": [],
     "prompt_number": 55
    },
    {
     "cell_type": "code",
     "collapsed": false,
     "input": [
      "download_speed.plot(kind=\"bar\")"
     ],
     "language": "python",
     "metadata": {},
     "outputs": [
      {
       "metadata": {},
       "output_type": "pyout",
       "prompt_number": 60,
       "text": [
        "<matplotlib.axes.AxesSubplot at 0x1084792d0>"
       ]
      }
     ],
     "prompt_number": 60
    },
    {
     "cell_type": "code",
     "collapsed": false,
     "input": [],
     "language": "python",
     "metadata": {},
     "outputs": []
    }
   ],
   "metadata": {}
  }
 ]
}
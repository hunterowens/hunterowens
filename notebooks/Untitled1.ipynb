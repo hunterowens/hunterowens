{
 "metadata": {
  "name": "I tried and here yet I failed."
 },
 "nbformat": 3,
 "nbformat_minor": 0,
 "worksheets": []
}

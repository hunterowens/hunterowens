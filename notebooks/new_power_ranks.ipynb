{
 "cells": [
  {
   "cell_type": "code",
   "execution_count": 1,
   "metadata": {
    "collapsed": true
   },
   "outputs": [],
   "source": [
    "import pandas as pd"
   ]
  },
  {
   "cell_type": "markdown",
   "metadata": {},
   "source": [
    "Things We should look at \n",
    "- how homogenous are today's festivals?\n",
    "- what are the festivals that stand out as most unique? most median?\n",
    "- what bands are the most \"promiscuous\" festival acts?\n",
    "- are there other interesting patterns that indicate \"behind the scenes\" factors, such as shared booking/promoters, etc.?\n",
    "- if you made a \"consensus\" festival for 2016, what would it look like? (would be great to design a fake poster for this)\n"
   ]
  },
  {
   "cell_type": "code",
   "execution_count": 18,
   "metadata": {
    "collapsed": true
   },
   "outputs": [],
   "source": [
    "df = pd.read_csv('./2016 Festivals - ByOrder.csv')"
   ]
  },
  {
   "cell_type": "code",
   "execution_count": 21,
   "metadata": {
    "collapsed": false
   },
   "outputs": [],
   "source": [
    "df.set_index('ARTIST', inplace=True)"
   ]
  },
  {
   "cell_type": "markdown",
   "metadata": {},
   "source": [
    "## Homogentity Score\n",
    "- How similar to the avg festival is this festival \n",
    "- Computed Value is the Percentage of the Festival that appears in another fesitival "
   ]
  },
  {
   "cell_type": "code",
   "execution_count": 147,
   "metadata": {
    "collapsed": false
   },
   "outputs": [],
   "source": [
    "def compute_percentage_of_lineup_in_other_festivals(lineup, df): \n",
    "    \"\"\"Given a lineup from d[FESTIVAL_NAME], tell me what percentage is in another festival \"\"\"\n",
    "    sum_lineup = df[lineup].count()\n",
    "    all_artists_from_other_fests = df.drop(lineup, axis=1).dropna(how='all').index.get_values()\n",
    "    fest_lineup_list = df[lineup].dropna().index.get_values()\n",
    "    common_artists_sum = len(set(all_artists_from_other_fests).intersection(fest_lineup_list))\n",
    "    percentage = common_artists_sum / sum_lineup\n",
    "    return percentage\n",
    "    "
   ]
  },
  {
   "cell_type": "code",
   "execution_count": 149,
   "metadata": {
    "collapsed": false
   },
   "outputs": [
    {
     "data": {
      "text/plain": [
       "0.45962732919254656"
      ]
     },
     "execution_count": 149,
     "metadata": {},
     "output_type": "execute_result"
    }
   ],
   "source": [
    "compute_percentage_of_lineup_in_other_festivals('COACHELLA', df)"
   ]
  },
  {
   "cell_type": "code",
   "execution_count": 155,
   "metadata": {
    "collapsed": false
   },
   "outputs": [],
   "source": [
    "d = {}\n",
    "for column in df.columns.get_values():\n",
    "    d[column] = compute_percentage_of_lineup_in_other_festivals(column, df)"
   ]
  },
  {
   "cell_type": "code",
   "execution_count": 161,
   "metadata": {
    "collapsed": false
   },
   "outputs": [
    {
     "data": {
      "text/html": [
       "<div>\n",
       "<table border=\"1\" class=\"dataframe\">\n",
       "  <thead>\n",
       "    <tr style=\"text-align: right;\">\n",
       "      <th></th>\n",
       "      <th>0</th>\n",
       "    </tr>\n",
       "  </thead>\n",
       "  <tbody>\n",
       "    <tr>\n",
       "      <th>GOVBALL</th>\n",
       "      <td>0.757576</td>\n",
       "    </tr>\n",
       "    <tr>\n",
       "      <th>SUNFEST</th>\n",
       "      <td>0.226415</td>\n",
       "    </tr>\n",
       "    <tr>\n",
       "      <th>BOSCALLING</th>\n",
       "      <td>0.782609</td>\n",
       "    </tr>\n",
       "    <tr>\n",
       "      <th>SASQUATCH</th>\n",
       "      <td>0.525253</td>\n",
       "    </tr>\n",
       "    <tr>\n",
       "      <th>FORECASTLE</th>\n",
       "      <td>0.594595</td>\n",
       "    </tr>\n",
       "    <tr>\n",
       "      <th>BUNBURY</th>\n",
       "      <td>0.511628</td>\n",
       "    </tr>\n",
       "    <tr>\n",
       "      <th>SHAKYKNEES</th>\n",
       "      <td>0.578947</td>\n",
       "    </tr>\n",
       "    <tr>\n",
       "      <th>COACHELLA</th>\n",
       "      <td>0.459627</td>\n",
       "    </tr>\n",
       "    <tr>\n",
       "      <th>FIREFLY</th>\n",
       "      <td>0.603604</td>\n",
       "    </tr>\n",
       "    <tr>\n",
       "      <th>BONNAROO</th>\n",
       "      <td>0.650485</td>\n",
       "    </tr>\n",
       "    <tr>\n",
       "      <th>HANGOUT</th>\n",
       "      <td>0.698630</td>\n",
       "    </tr>\n",
       "    <tr>\n",
       "      <th>JAZZFEST</th>\n",
       "      <td>0.194444</td>\n",
       "    </tr>\n",
       "    <tr>\n",
       "      <th>OSHEAGA</th>\n",
       "      <td>0.622449</td>\n",
       "    </tr>\n",
       "    <tr>\n",
       "      <th>LOLLA</th>\n",
       "      <td>0.631579</td>\n",
       "    </tr>\n",
       "  </tbody>\n",
       "</table>\n",
       "</div>"
      ],
      "text/plain": [
       "                   0\n",
       "GOVBALL     0.757576\n",
       "SUNFEST     0.226415\n",
       "BOSCALLING  0.782609\n",
       "SASQUATCH   0.525253\n",
       "FORECASTLE  0.594595\n",
       "BUNBURY     0.511628\n",
       "SHAKYKNEES  0.578947\n",
       "COACHELLA   0.459627\n",
       "FIREFLY     0.603604\n",
       "BONNAROO    0.650485\n",
       "HANGOUT     0.698630\n",
       "JAZZFEST    0.194444\n",
       "OSHEAGA     0.622449\n",
       "LOLLA       0.631579"
      ]
     },
     "execution_count": 161,
     "metadata": {},
     "output_type": "execute_result"
    }
   ],
   "source": [
    "pd.DataFrame.from_dict(d, orient='Index')"
   ]
  },
  {
   "cell_type": "code",
   "execution_count": null,
   "metadata": {
    "collapsed": true
   },
   "outputs": [],
   "source": []
  }
 ],
 "metadata": {
  "kernelspec": {
   "display_name": "Python 3",
   "language": "python",
   "name": "python3"
  },
  "language_info": {
   "codemirror_mode": {
    "name": "ipython",
    "version": 3
   },
   "file_extension": ".py",
   "mimetype": "text/x-python",
   "name": "python",
   "nbconvert_exporter": "python",
   "pygments_lexer": "ipython3",
   "version": "3.5.1"
  }
 },
 "nbformat": 4,
 "nbformat_minor": 0
}

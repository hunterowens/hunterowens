{
 "cells": [
  {
   "cell_type": "code",
   "execution_count": 28,
   "metadata": {
    "collapsed": false
   },
   "outputs": [],
   "source": [
    "import pandas as pd\n",
    "import numpy as np\n",
    "%matplotlib inline\n",
    "import matplotlib\n",
    "matplotlib.style.use('ggplot')"
   ]
  },
  {
   "cell_type": "markdown",
   "metadata": {},
   "source": [
    "Things We should look at \n",
    "- how homogenous are today's festivals?\n",
    "- what are the festivals that stand out as most unique? most median?\n",
    "- what bands are the most \"promiscuous\" festival acts?\n",
    "- are there other interesting patterns that indicate \"behind the scenes\" factors, such as shared booking/promoters, etc.?\n",
    "- if you made a \"consensus\" festival for 2016, what would it look like? (would be great to design a fake poster for this)\n"
   ]
  },
  {
   "cell_type": "code",
   "execution_count": 2,
   "metadata": {
    "collapsed": false
   },
   "outputs": [],
   "source": [
    "df = pd.read_csv('/Users/hunterowens/Downloads/Festivals - 2016 (1).csv')"
   ]
  },
  {
   "cell_type": "code",
   "execution_count": 3,
   "metadata": {
    "collapsed": false
   },
   "outputs": [],
   "source": [
    "df.drop([0,1,2], inplace=True)\n",
    "df.drop(['AVG RANK','# OF FESTS', 'PWR RANKING', 'Unnamed: 4',\n",
    "        'ACL', 'EAUXCLAIRE','Unnamed: 26','BUMBERSHT']\n",
    "        , axis=1, inplace=True)\n",
    "df.set_index('ARTIST', inplace=True)"
   ]
  },
  {
   "cell_type": "markdown",
   "metadata": {},
   "source": [
    "## Homogentity Score\n",
    "- How similar to the avg festival is this festival \n",
    "- Computed Value is the Percentage of the Festival that appears in another fesitival "
   ]
  },
  {
   "cell_type": "code",
   "execution_count": 4,
   "metadata": {
    "collapsed": false
   },
   "outputs": [],
   "source": [
    "def compute_percentage_of_lineup_in_other_festivals(lineup, df): \n",
    "    \"\"\"Given a lineup from d[FESTIVAL_NAME], tell me what percentage is in another festival \"\"\"\n",
    "    sum_lineup = df[lineup].count()\n",
    "    all_artists_from_other_fests = df.drop(lineup, axis=1).dropna(how='all').index.get_values()\n",
    "    fest_lineup_list = df[lineup].dropna().index.get_values()\n",
    "    common_artists_sum = len(set(all_artists_from_other_fests).intersection(fest_lineup_list))\n",
    "    percentage = common_artists_sum / sum_lineup\n",
    "    return percentage"
   ]
  },
  {
   "cell_type": "code",
   "execution_count": 5,
   "metadata": {
    "collapsed": false
   },
   "outputs": [],
   "source": [
    "d = {}\n",
    "for column in df.columns.get_values():\n",
    "    d[column] = 1 - compute_percentage_of_lineup_in_other_festivals(column, df)"
   ]
  },
  {
   "cell_type": "code",
   "execution_count": 6,
   "metadata": {
    "collapsed": false
   },
   "outputs": [
    {
     "data": {
      "text/plain": [
       "<matplotlib.axes._subplots.AxesSubplot at 0x105dd80f0>"
      ]
     },
     "execution_count": 6,
     "metadata": {},
     "output_type": "execute_result"
    },
    {
     "data": {
      "image/png": "[encoded data removed]",
      "text/plain": [
       "<matplotlib.figure.Figure at 0x10a923a90>"
      ]
     },
     "metadata": {},
     "output_type": "display_data"
    }
   ],
   "source": [
    "percentage_fest_df = pd.DataFrame.from_dict(d, orient='Index')\n",
    "percentage_fest_df.columns = ['Percentage']\n",
    "percentage_fest_df.sort_values(by='Percentage').plot(kind='Bar',\n",
    "                                                     title=\"Percentage of Unique Bands\",\n",
    "                                                     ylim=(0,1))"
   ]
  },
  {
   "cell_type": "markdown",
   "metadata": {},
   "source": [
    "## Percentage of Unique Bands in Percentiles of Lineup "
   ]
  },
  {
   "cell_type": "code",
   "execution_count": 286,
   "metadata": {
    "collapsed": false
   },
   "outputs": [],
   "source": [
    "def compute_percentage_of_lineup_in_other_festivals_percentile(lineup, df, range_inclusive=(0,15)): \n",
    "    \"\"\"Given a lineup from d[FESTIVAL_NAME], tell me what percentage is in another festival. \n",
    "    Given a tuple range of numbers \"\"\"\n",
    "    # get the sum\n",
    "    sum_lineup = df[lineup].count()\n",
    "    s = df[lineup].dropna().astype(int)\n",
    "    fest_lineup_list = s.where(s >= range_inclusive[0]).where(s <= range_inclusive[1]).dropna().index.get_values()\n",
    "    all_artists_from_other_fests = df.drop(lineup, axis=1).dropna(how='all').index.get_values()\n",
    "    common_artists_sum = len(set(all_artists_from_other_fests).intersection(fest_lineup_list))\n",
    "    percentage = common_artists_sum / sum_lineup\n",
    "    return percentage"
   ]
  },
  {
   "cell_type": "code",
   "execution_count": 327,
   "metadata": {
    "collapsed": false
   },
   "outputs": [],
   "source": [
    "d = {}\n",
    "for column in df.columns.get_values():\n",
    "    cuts = [int(v) for v in pd.qcut(df[column].dropna().astype(int), 4, retbins=True)[1]]\n",
    "    bins = [x for x in itertools.combinations(cuts, r=2)]\n",
    "    bins = [bins[0],bins[4],bins[7],bins[9]]\n",
    "    d[column] = [1 - compute_percentage_of_lineup_in_other_festivals_percentile(column, df, range_inclusive=(x)) \n",
    "                 for x in bins]\n",
    "                     \n",
    "percentage_fest_df = pd.DataFrame.from_dict(d, orient='Index')\n",
    "percentage_fest_df.columns = ['Top 25%','25-50%','50-75%','75-100%']\n",
    "#percentage_fest_df.columns = ['Percentage']\n",
    "#percentage_fest_df.sort_values(by='Percentage').plot(kind='Bar',\n",
    "#                                                     title=\"Percentage of Unique Bands Top %25 of Bill\",\n",
    "#                                                     ylim=(0,1))"
   ]
  },
  {
   "cell_type": "code",
   "execution_count": 347,
   "metadata": {
    "collapsed": false
   },
   "outputs": [
    {
     "data": {
      "text/html": [
       "<div>\n",
       "<table border=\"1\" class=\"dataframe\">\n",
       "  <thead>\n",
       "    <tr style=\"text-align: right;\">\n",
       "      <th></th>\n",
       "      <th>Top 25%</th>\n",
       "      <th>25-50%</th>\n",
       "      <th>50-75%</th>\n",
       "      <th>75-100%</th>\n",
       "    </tr>\n",
       "  </thead>\n",
       "  <tbody>\n",
       "    <tr>\n",
       "      <th>SHAKYKNEES</th>\n",
       "      <td>0.842105</td>\n",
       "      <td>0.789474</td>\n",
       "      <td>0.789474</td>\n",
       "      <td>0.894737</td>\n",
       "    </tr>\n",
       "    <tr>\n",
       "      <th>FYF</th>\n",
       "      <td>0.823529</td>\n",
       "      <td>0.843137</td>\n",
       "      <td>0.882353</td>\n",
       "      <td>0.843137</td>\n",
       "    </tr>\n",
       "    <tr>\n",
       "      <th>GLASTO</th>\n",
       "      <td>0.851351</td>\n",
       "      <td>0.864865</td>\n",
       "      <td>0.891892</td>\n",
       "      <td>0.837838</td>\n",
       "    </tr>\n",
       "    <tr>\n",
       "      <th>OSHEAGA</th>\n",
       "      <td>0.775510</td>\n",
       "      <td>0.806122</td>\n",
       "      <td>0.816327</td>\n",
       "      <td>0.846939</td>\n",
       "    </tr>\n",
       "    <tr>\n",
       "      <th>FIREFLY</th>\n",
       "      <td>0.801802</td>\n",
       "      <td>0.783784</td>\n",
       "      <td>0.846847</td>\n",
       "      <td>0.936937</td>\n",
       "    </tr>\n",
       "    <tr>\n",
       "      <th>OUTSIDELDS</th>\n",
       "      <td>0.767123</td>\n",
       "      <td>0.767123</td>\n",
       "      <td>0.821918</td>\n",
       "      <td>0.794521</td>\n",
       "    </tr>\n",
       "    <tr>\n",
       "      <th>FORECASTLE</th>\n",
       "      <td>0.805556</td>\n",
       "      <td>0.805556</td>\n",
       "      <td>0.805556</td>\n",
       "      <td>0.805556</td>\n",
       "    </tr>\n",
       "    <tr>\n",
       "      <th>BOSCALLING</th>\n",
       "      <td>0.782609</td>\n",
       "      <td>0.695652</td>\n",
       "      <td>0.782609</td>\n",
       "      <td>0.869565</td>\n",
       "    </tr>\n",
       "    <tr>\n",
       "      <th>GOVBALL</th>\n",
       "      <td>0.772727</td>\n",
       "      <td>0.787879</td>\n",
       "      <td>0.787879</td>\n",
       "      <td>0.818182</td>\n",
       "    </tr>\n",
       "    <tr>\n",
       "      <th>WAYHOME</th>\n",
       "      <td>0.760563</td>\n",
       "      <td>0.788732</td>\n",
       "      <td>0.760563</td>\n",
       "      <td>0.830986</td>\n",
       "    </tr>\n",
       "    <tr>\n",
       "      <th>SUNFEST</th>\n",
       "      <td>0.849057</td>\n",
       "      <td>0.924528</td>\n",
       "      <td>0.924528</td>\n",
       "      <td>1.000000</td>\n",
       "    </tr>\n",
       "    <tr>\n",
       "      <th>BUNBURY</th>\n",
       "      <td>0.813953</td>\n",
       "      <td>0.860465</td>\n",
       "      <td>0.860465</td>\n",
       "      <td>0.906977</td>\n",
       "    </tr>\n",
       "    <tr>\n",
       "      <th>JAZZFEST</th>\n",
       "      <td>0.902778</td>\n",
       "      <td>0.958333</td>\n",
       "      <td>0.944444</td>\n",
       "      <td>0.972222</td>\n",
       "    </tr>\n",
       "    <tr>\n",
       "      <th>SASQUATCH</th>\n",
       "      <td>0.787879</td>\n",
       "      <td>0.797980</td>\n",
       "      <td>0.838384</td>\n",
       "      <td>0.939394</td>\n",
       "    </tr>\n",
       "    <tr>\n",
       "      <th>COACHELLA</th>\n",
       "      <td>0.782609</td>\n",
       "      <td>0.844720</td>\n",
       "      <td>0.875776</td>\n",
       "      <td>0.900621</td>\n",
       "    </tr>\n",
       "    <tr>\n",
       "      <th>PANORAMA</th>\n",
       "      <td>0.737705</td>\n",
       "      <td>0.770492</td>\n",
       "      <td>0.786885</td>\n",
       "      <td>0.852459</td>\n",
       "    </tr>\n",
       "    <tr>\n",
       "      <th>HANGOUT</th>\n",
       "      <td>0.794521</td>\n",
       "      <td>0.808219</td>\n",
       "      <td>0.808219</td>\n",
       "      <td>0.849315</td>\n",
       "    </tr>\n",
       "    <tr>\n",
       "      <th>LOLLA</th>\n",
       "      <td>0.783626</td>\n",
       "      <td>0.789474</td>\n",
       "      <td>0.847953</td>\n",
       "      <td>0.883041</td>\n",
       "    </tr>\n",
       "    <tr>\n",
       "      <th>BONNAROO</th>\n",
       "      <td>0.786408</td>\n",
       "      <td>0.825243</td>\n",
       "      <td>0.796117</td>\n",
       "      <td>0.844660</td>\n",
       "    </tr>\n",
       "    <tr>\n",
       "      <th>PITCHFORK</th>\n",
       "      <td>0.767442</td>\n",
       "      <td>0.790698</td>\n",
       "      <td>0.906977</td>\n",
       "      <td>0.906977</td>\n",
       "    </tr>\n",
       "    <tr>\n",
       "      <th>LEVITATION</th>\n",
       "      <td>0.869565</td>\n",
       "      <td>0.869565</td>\n",
       "      <td>0.891304</td>\n",
       "      <td>0.956522</td>\n",
       "    </tr>\n",
       "  </tbody>\n",
       "</table>\n",
       "</div>"
      ],
      "text/plain": [
       "             Top 25%    25-50%    50-75%   75-100%\n",
       "SHAKYKNEES  0.842105  0.789474  0.789474  0.894737\n",
       "FYF         0.823529  0.843137  0.882353  0.843137\n",
       "GLASTO      0.851351  0.864865  0.891892  0.837838\n",
       "OSHEAGA     0.775510  0.806122  0.816327  0.846939\n",
       "FIREFLY     0.801802  0.783784  0.846847  0.936937\n",
       "OUTSIDELDS  0.767123  0.767123  0.821918  0.794521\n",
       "FORECASTLE  0.805556  0.805556  0.805556  0.805556\n",
       "BOSCALLING  0.782609  0.695652  0.782609  0.869565\n",
       "GOVBALL     0.772727  0.787879  0.787879  0.818182\n",
       "WAYHOME     0.760563  0.788732  0.760563  0.830986\n",
       "SUNFEST     0.849057  0.924528  0.924528  1.000000\n",
       "BUNBURY     0.813953  0.860465  0.860465  0.906977\n",
       "JAZZFEST    0.902778  0.958333  0.944444  0.972222\n",
       "SASQUATCH   0.787879  0.797980  0.838384  0.939394\n",
       "COACHELLA   0.782609  0.844720  0.875776  0.900621\n",
       "PANORAMA    0.737705  0.770492  0.786885  0.852459\n",
       "HANGOUT     0.794521  0.808219  0.808219  0.849315\n",
       "LOLLA       0.783626  0.789474  0.847953  0.883041\n",
       "BONNAROO    0.786408  0.825243  0.796117  0.844660\n",
       "PITCHFORK   0.767442  0.790698  0.906977  0.906977\n",
       "LEVITATION  0.869565  0.869565  0.891304  0.956522"
      ]
     },
     "execution_count": 347,
     "metadata": {},
     "output_type": "execute_result"
    }
   ],
   "source": [
    "percentage_fest_df"
   ]
  },
  {
   "cell_type": "markdown",
   "metadata": {},
   "source": [
    "## What about bands\n",
    "- What are the top 10 most promiscious bands? "
   ]
  },
  {
   "cell_type": "code",
   "execution_count": 73,
   "metadata": {
    "collapsed": false
   },
   "outputs": [
    {
     "data": {
      "text/plain": [
       "ARTIST\n",
       "Vince Staples                            13\n",
       "Nathaniel Rateliff & the Night Sweats    10\n",
       "M83                                       9\n",
       "Foals                                     9\n",
       "Grimes                                    9\n",
       "Kurt Vile & The Violators                 8\n",
       "Oh Wonder                                 8\n",
       "LCD Soundsystem                           8\n",
       "Haim                                      8\n",
       "Disclosure                                7\n",
       "Big Grams                                 7\n",
       "Marian Hill                               7\n",
       "Major Lazer                               7\n",
       "CHVRCHES                                  6\n",
       "Miike Snow                                6\n",
       "Silversun Pickups                         6\n",
       "Sufjan Stevens                            6\n",
       "Lany                                      6\n",
       "Børns                                     6\n",
       "Savages                                   6\n",
       "The Last Shadow Puppets                   6\n",
       "Unknown Mortal Orchestra                  6\n",
       "Elle King                                 6\n",
       "The Struts                                6\n",
       "RUFUS DU SOL                              6\n",
       "dtype: int64"
      ]
     },
     "execution_count": 73,
     "metadata": {},
     "output_type": "execute_result"
    }
   ],
   "source": [
    "df.count(axis=1).sort_values(ascending=False).head(25)"
   ]
  },
  {
   "cell_type": "code",
   "execution_count": 10,
   "metadata": {
    "collapsed": false
   },
   "outputs": [
    {
     "data": {
      "text/plain": [
       "Index(['COACHELLA', 'GOVBALL', 'BONNAROO', 'JAZZFEST', 'SUNFEST', 'LEVITATION',\n",
       "       'SHAKYKNEES', 'HANGOUT', 'BOSCALLING', 'SASQUATCH', 'BUNBURY',\n",
       "       'FIREFLY', 'GLASTO', 'FORECASTLE', 'PITCHFORK', 'PANORAMA', 'WAYHOME',\n",
       "       'LOLLA', 'OSHEAGA', 'OUTSIDELDS', 'FYF'],\n",
       "      dtype='object')"
      ]
     },
     "execution_count": 10,
     "metadata": {},
     "output_type": "execute_result"
    }
   ],
   "source": [
    "df.columns"
   ]
  },
  {
   "cell_type": "markdown",
   "metadata": {
    "collapsed": true
   },
   "source": [
    "## Power Rankings\n",
    "* We calculate a power rank based on three factors. \n",
    "* Each act gets a score from 1-100 for a festival appearance, which is essentially percentile rank within fest. \n",
    "* Then, each festival is given a coefficient from 0-1 based on size. \n",
    "\n",
    "Then sum and multiply. \n",
    "\n"
   ]
  },
  {
   "cell_type": "code",
   "execution_count": 39,
   "metadata": {
    "collapsed": false
   },
   "outputs": [
    {
     "data": {
      "text/plain": [
       "0.047619050000000003"
      ]
     },
     "execution_count": 39,
     "metadata": {},
     "output_type": "execute_result"
    }
   ],
   "source": [
    "fest_co = [i + 0.04761905 for i in np.arange(0,1, (1 / df.count().sort_values().count()))]"
   ]
  },
  {
   "cell_type": "code",
   "execution_count": 43,
   "metadata": {
    "collapsed": false
   },
   "outputs": [
    {
     "data": {
      "text/plain": [
       "{'BONNAROO': 0.85714285952380953,\n",
       " 'BOSCALLING': 0.047619050000000003,\n",
       " 'BUNBURY': 0.14285714523809523,\n",
       " 'COACHELLA': 0.95238095476190465,\n",
       " 'FIREFLY': 0.90476190714285709,\n",
       " 'FORECASTLE': 0.095238097619047613,\n",
       " 'FYF': 0.28571428809523808,\n",
       " 'GLASTO': 0.66666666904761906,\n",
       " 'GOVBALL': 0.42857143095238093,\n",
       " 'HANGOUT': 0.57142857380952372,\n",
       " 'JAZZFEST': 0.52380952619047616,\n",
       " 'LEVITATION': 0.23809524047619046,\n",
       " 'LOLLA': 1.0000000023809523,\n",
       " 'OSHEAGA': 0.76190476428571419,\n",
       " 'OUTSIDELDS': 0.61904762142857139,\n",
       " 'PANORAMA': 0.38095238333333331,\n",
       " 'PITCHFORK': 0.19047619285714285,\n",
       " 'SASQUATCH': 0.80952381190476186,\n",
       " 'SHAKYKNEES': 0.71428571666666663,\n",
       " 'SUNFEST': 0.33333333571428569,\n",
       " 'WAYHOME': 0.47619047857142854}"
      ]
     },
     "execution_count": 43,
     "metadata": {},
     "output_type": "execute_result"
    }
   ],
   "source": [
    "festival_co = {}\n",
    "for fest in enumerate(df.count().sort_values().iteritems()):\n",
    "    fest_name = fest[1][0]\n",
    "    pfest_co = fest_co[fest[0]]\n",
    "    festival_co[fest_name] = pfest_co"
   ]
  },
  {
   "cell_type": "code",
   "execution_count": 119,
   "metadata": {
    "collapsed": false
   },
   "outputs": [],
   "source": [
    "def calculate_power_rank(artist):\n",
    "    \"\"\"Calculates the power rankings\"\"\"\n",
    "    artist_series = df.ix[artist]\n",
    "    power_rank = 0\n",
    "    for fest_tuple in artist_series.iteritems():        \n",
    "        if not pd.isnull(fest_tuple[1]): \n",
    "            fest_count = df[fest_tuple[0]].count()\n",
    "            artist_rank = fest_tuple[1]\n",
    "            percentile = 1 - (float(artist_rank) / float(fest_count))\n",
    "            power_rank += percentile * 100 * festival_co[fest_tuple[0]]\n",
    "    return power_rank"
   ]
  },
  {
   "cell_type": "code",
   "execution_count": 120,
   "metadata": {
    "collapsed": false
   },
   "outputs": [],
   "source": [
    "power_ranks = {}\n",
    "for artist in df.index:\n",
    "    power_ranks[artist] = calculate_power_rank(artist)\n",
    "power_rank_df = pd.DataFrame.from_dict(power_ranks, orient='index')\n",
    "power_rank_df = power_rank_df.rename(columns={0: \"powerRank\"})"
   ]
  },
  {
   "cell_type": "code",
   "execution_count": 121,
   "metadata": {
    "collapsed": false
   },
   "outputs": [
    {
     "data": {
      "text/plain": [
       "<matplotlib.axes._subplots.AxesSubplot at 0x1139890f0>"
      ]
     },
     "execution_count": 121,
     "metadata": {},
     "output_type": "execute_result"
    },
    {
     "data": {
      "image/png": "[encoded data removed]",
      "text/plain": [
       "<matplotlib.figure.Figure at 0x1139929e8>"
      ]
     },
     "metadata": {},
     "output_type": "display_data"
    }
   ],
   "source": [
    "power_rank_df['powerRank'].sort_values().plot(kind='hist', title=\"Histogram of Power Ranks\")"
   ]
  },
  {
   "cell_type": "code",
   "execution_count": 122,
   "metadata": {
    "collapsed": false
   },
   "outputs": [
    {
     "data": {
      "text/plain": [
       "<matplotlib.axes._subplots.AxesSubplot at 0x113992710>"
      ]
     },
     "execution_count": 122,
     "metadata": {},
     "output_type": "execute_result"
    },
    {
     "data": {
      "image/png": "[encoded data removed]",
      "text/plain": [
       "<matplotlib.figure.Figure at 0x113b50240>"
      ]
     },
     "metadata": {},
     "output_type": "display_data"
    }
   ],
   "source": [
    "# Top 10\n",
    "power_rank_df['powerRank'].sort_values(ascending=False).head(20).plot(kind=\"bar\", title=\"Fest Power Points by Bands\")"
   ]
  },
  {
   "cell_type": "markdown",
   "metadata": {},
   "source": [
    "## Festivals WAR over Bands \n",
    "* This is each festivals WAR divided by the number of bands in the fest  - basically avg rank"
   ]
  },
  {
   "cell_type": "code",
   "execution_count": 123,
   "metadata": {
    "collapsed": false
   },
   "outputs": [
    {
     "data": {
      "text/plain": [
       "<matplotlib.axes._subplots.AxesSubplot at 0x113d39208>"
      ]
     },
     "execution_count": 123,
     "metadata": {},
     "output_type": "execute_result"
    },
    {
     "data": {
      "image/png": "[encoded data removed]",
      "text/plain": [
       "<matplotlib.figure.Figure at 0x113d41198>"
      ]
     },
     "metadata": {},
     "output_type": "display_data"
    }
   ],
   "source": [
    "festival_rank = {} \n",
    "for festival in df.iteritems():\n",
    "    fest = festival[0]\n",
    "    sum_ranks = 0\n",
    "    for artist in df[fest].dropna().iteritems():\n",
    "        sum_ranks += power_rank_df.ix[artist[0]][0]\n",
    "    festival_rank[fest] = (sum_ranks, sum_ranks / df[fest].count())\n",
    "pd.DataFrame.from_dict(festival_rank, orient='index')[1].sort_values().plot(kind=\"bar\", title=\"Avg Power Rank per Festival Band\")"
   ]
  },
  {
   "cell_type": "code",
   "execution_count": 63,
   "metadata": {
    "collapsed": false
   },
   "outputs": [
    {
     "data": {
      "text/plain": [
       "ARTIST\n",
       "M83                9\n",
       "LCD Soundsystem    8\n",
       "dtype: int64"
      ]
     },
     "execution_count": 63,
     "metadata": {},
     "output_type": "execute_result"
    }
   ],
   "source": [
    "df.ix[['M83','LCD Soundsystem']].transpose().count()"
   ]
  },
  {
   "cell_type": "markdown",
   "metadata": {
    "collapsed": true
   },
   "source": [
    "# CloutScore\n",
    "PowerRank / Number of Fests. "
   ]
  },
  {
   "cell_type": "code",
   "execution_count": 127,
   "metadata": {
    "collapsed": false
   },
   "outputs": [],
   "source": [
    "power_rank_df['cloutscore'] = power_rank_df['powerRank'] / df.transpose().count()\n",
    "power_rank_df['count'] = df.transpose().count()"
   ]
  },
  {
   "cell_type": "code",
   "execution_count": 137,
   "metadata": {
    "collapsed": false
   },
   "outputs": [
    {
     "data": {
      "text/html": [
       "<div>\n",
       "<table border=\"1\" class=\"dataframe\">\n",
       "  <thead>\n",
       "    <tr style=\"text-align: right;\">\n",
       "      <th></th>\n",
       "      <th>powerRank</th>\n",
       "      <th>cloutscore</th>\n",
       "      <th>count</th>\n",
       "    </tr>\n",
       "  </thead>\n",
       "  <tbody>\n",
       "    <tr>\n",
       "      <th>Guns N Roses</th>\n",
       "      <td>94.646555</td>\n",
       "      <td>94.646555</td>\n",
       "      <td>1</td>\n",
       "    </tr>\n",
       "    <tr>\n",
       "      <th>Jack Ü</th>\n",
       "      <td>92.871932</td>\n",
       "      <td>92.871932</td>\n",
       "      <td>1</td>\n",
       "    </tr>\n",
       "    <tr>\n",
       "      <th>Rancid</th>\n",
       "      <td>91.097309</td>\n",
       "      <td>91.097309</td>\n",
       "      <td>1</td>\n",
       "    </tr>\n",
       "    <tr>\n",
       "      <th>James Bay</th>\n",
       "      <td>90.505768</td>\n",
       "      <td>90.505768</td>\n",
       "      <td>1</td>\n",
       "    </tr>\n",
       "    <tr>\n",
       "      <th>Mumford &amp; Sons</th>\n",
       "      <td>89.661090</td>\n",
       "      <td>89.661090</td>\n",
       "      <td>1</td>\n",
       "    </tr>\n",
       "    <tr>\n",
       "      <th>Edward Sharpe and the Magnetic Zeros</th>\n",
       "      <td>89.322686</td>\n",
       "      <td>89.322686</td>\n",
       "      <td>1</td>\n",
       "    </tr>\n",
       "    <tr>\n",
       "      <th>Kings of Leon</th>\n",
       "      <td>88.845989</td>\n",
       "      <td>88.845989</td>\n",
       "      <td>1</td>\n",
       "    </tr>\n",
       "    <tr>\n",
       "      <th>Hardwell</th>\n",
       "      <td>88.304094</td>\n",
       "      <td>88.304094</td>\n",
       "      <td>1</td>\n",
       "    </tr>\n",
       "    <tr>\n",
       "      <th>Martin Garrix</th>\n",
       "      <td>87.719298</td>\n",
       "      <td>87.719298</td>\n",
       "      <td>1</td>\n",
       "    </tr>\n",
       "    <tr>\n",
       "      <th>Volbeat</th>\n",
       "      <td>87.548063</td>\n",
       "      <td>87.548063</td>\n",
       "      <td>1</td>\n",
       "    </tr>\n",
       "    <tr>\n",
       "      <th>Deadmau5</th>\n",
       "      <td>87.215787</td>\n",
       "      <td>87.215787</td>\n",
       "      <td>1</td>\n",
       "    </tr>\n",
       "    <tr>\n",
       "      <th>Die Antwoord</th>\n",
       "      <td>87.134503</td>\n",
       "      <td>87.134503</td>\n",
       "      <td>1</td>\n",
       "    </tr>\n",
       "    <tr>\n",
       "      <th>2 Many DJs</th>\n",
       "      <td>86.956522</td>\n",
       "      <td>86.956522</td>\n",
       "      <td>1</td>\n",
       "    </tr>\n",
       "    <tr>\n",
       "      <th>Death Grips</th>\n",
       "      <td>86.956522</td>\n",
       "      <td>86.956522</td>\n",
       "      <td>1</td>\n",
       "    </tr>\n",
       "    <tr>\n",
       "      <th>St. Germain</th>\n",
       "      <td>85.773440</td>\n",
       "      <td>85.773440</td>\n",
       "      <td>1</td>\n",
       "    </tr>\n",
       "    <tr>\n",
       "      <th>Maceo Plex</th>\n",
       "      <td>85.773440</td>\n",
       "      <td>85.773440</td>\n",
       "      <td>1</td>\n",
       "    </tr>\n",
       "    <tr>\n",
       "      <th>Lush</th>\n",
       "      <td>85.181899</td>\n",
       "      <td>85.181899</td>\n",
       "      <td>1</td>\n",
       "    </tr>\n",
       "    <tr>\n",
       "      <th>Bryson Tiller</th>\n",
       "      <td>84.795322</td>\n",
       "      <td>84.795322</td>\n",
       "      <td>1</td>\n",
       "    </tr>\n",
       "    <tr>\n",
       "      <th>Blink-182</th>\n",
       "      <td>84.770485</td>\n",
       "      <td>84.770485</td>\n",
       "      <td>1</td>\n",
       "    </tr>\n",
       "    <tr>\n",
       "      <th>KSHMR</th>\n",
       "      <td>84.590358</td>\n",
       "      <td>84.590358</td>\n",
       "      <td>1</td>\n",
       "    </tr>\n",
       "  </tbody>\n",
       "</table>\n",
       "</div>"
      ],
      "text/plain": [
       "                                      powerRank  cloutscore  count\n",
       "Guns N Roses                          94.646555   94.646555      1\n",
       "Jack Ü                                92.871932   92.871932      1\n",
       "Rancid                                91.097309   91.097309      1\n",
       "James Bay                             90.505768   90.505768      1\n",
       "Mumford & Sons                        89.661090   89.661090      1\n",
       "Edward Sharpe and the Magnetic Zeros  89.322686   89.322686      1\n",
       "Kings of Leon                         88.845989   88.845989      1\n",
       "Hardwell                              88.304094   88.304094      1\n",
       "Martin Garrix                         87.719298   87.719298      1\n",
       "Volbeat                               87.548063   87.548063      1\n",
       "Deadmau5                              87.215787   87.215787      1\n",
       "Die Antwoord                          87.134503   87.134503      1\n",
       "2 Many DJs                            86.956522   86.956522      1\n",
       "Death Grips                           86.956522   86.956522      1\n",
       "St. Germain                           85.773440   85.773440      1\n",
       "Maceo Plex                            85.773440   85.773440      1\n",
       "Lush                                  85.181899   85.181899      1\n",
       "Bryson Tiller                         84.795322   84.795322      1\n",
       "Blink-182                             84.770485   84.770485      1\n",
       "KSHMR                                 84.590358   84.590358      1"
      ]
     },
     "execution_count": 137,
     "metadata": {},
     "output_type": "execute_result"
    }
   ],
   "source": [
    "power_rank_df.sort_values('cloutscore', ascending=False).head(20)"
   ]
  },
  {
   "cell_type": "code",
   "execution_count": 155,
   "metadata": {
    "collapsed": false
   },
   "outputs": [
    {
     "data": {
      "text/plain": [
       "<matplotlib.axes._subplots.AxesSubplot at 0x11c87eef0>"
      ]
     },
     "execution_count": 155,
     "metadata": {},
     "output_type": "execute_result"
    },
    {
     "data": {
      "image/png": "[encoded data removed]",
      "text/plain": [
       "<matplotlib.figure.Figure at 0x11c7c4668>"
      ]
     },
     "metadata": {},
     "output_type": "display_data"
    }
   ],
   "source": [
    "power_rank_df[power_rank_df['count'] > 2]['cloutscore'].sort_values(ascending=False).head(20).plot(kind='bar',\n",
    "                                                        title=\"Top 20 Cloutscores with three or more festivals\") "
   ]
  },
  {
   "cell_type": "code",
   "execution_count": null,
   "metadata": {
    "collapsed": true
   },
   "outputs": [],
   "source": []
  }
 ],
 "metadata": {
  "kernelspec": {
   "display_name": "Python 3",
   "language": "python",
   "name": "python3"
  },
  "language_info": {
   "codemirror_mode": {
    "name": "ipython",
    "version": 3
   },
   "file_extension": ".py",
   "mimetype": "text/x-python",
   "name": "python",
   "nbconvert_exporter": "python",
   "pygments_lexer": "ipython3",
   "version": "3.5.1"
  }
 },
 "nbformat": 4,
 "nbformat_minor": 0
}

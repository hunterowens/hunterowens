{
 "cells": [
  {
   "cell_type": "code",
   "execution_count": 180,
   "metadata": {
    "collapsed": false
   },
   "outputs": [],
   "source": [
    "import pandas as pd\n",
    "%matplotlib inline\n",
    "import matplotlib\n",
    "matplotlib.style.use('ggplot')"
   ]
  },
  {
   "cell_type": "markdown",
   "metadata": {},
   "source": [
    "Things We should look at \n",
    "- how homogenous are today's festivals?\n",
    "- what are the festivals that stand out as most unique? most median?\n",
    "- what bands are the most \"promiscuous\" festival acts?\n",
    "- are there other interesting patterns that indicate \"behind the scenes\" factors, such as shared booking/promoters, etc.?\n",
    "- if you made a \"consensus\" festival for 2016, what would it look like? (would be great to design a fake poster for this)\n"
   ]
  },
  {
   "cell_type": "code",
   "execution_count": 234,
   "metadata": {
    "collapsed": false
   },
   "outputs": [
    {
     "data": {
      "text/plain": [
       "Index(['ARTIST', 'AVG RANK', '# OF FESTS', 'PWR RANKING', 'Unnamed: 4',\n",
       "       'COACHELLA', 'GOVBALL', 'BONNAROO', 'JAZZFEST', 'SUNFEST', 'SHAKYKNEES',\n",
       "       'HANGOUT', 'BOSCALLING', 'SASQUATCH', 'BUNBURY', 'FIREFLY',\n",
       "       'FORECASTLE', 'LOLLA', 'OSHEAGA', 'Unnamed: 19', 'Unnamed: 20',\n",
       "       'PITCHFORK', 'OUTSIDELDS', 'BUMBERSHT', 'ACL'],\n",
       "      dtype='object')"
      ]
     },
     "execution_count": 234,
     "metadata": {},
     "output_type": "execute_result"
    }
   ],
   "source": [
    "df = pd.read_csv('/Users/hunterowens/Downloads/2016 Festivals - ByOrder.csv')\n",
    "df.columns"
   ]
  },
  {
   "cell_type": "code",
   "execution_count": 230,
   "metadata": {
    "collapsed": false
   },
   "outputs": [],
   "source": [
    "df.drop([0,1], inplace=True)\n",
    "df.drop(['AVG RANK','# OF FESTS', 'PWR RANKING', 'Unnamed: 4', 'Unnamed: 20', ], axis=1, inplace=True)\n",
    "df.set_index('ARTIST', inplace=True)"
   ]
  },
  {
   "cell_type": "markdown",
   "metadata": {},
   "source": [
    "## Homogentity Score\n",
    "- How similar to the avg festival is this festival \n",
    "- Computed Value is the Percentage of the Festival that appears in another fesitival "
   ]
  },
  {
   "cell_type": "code",
   "execution_count": 231,
   "metadata": {
    "collapsed": false
   },
   "outputs": [],
   "source": [
    "def compute_percentage_of_lineup_in_other_festivals(lineup, df): \n",
    "    \"\"\"Given a lineup from d[FESTIVAL_NAME], tell me what percentage is in another festival \"\"\"\n",
    "    sum_lineup = df[lineup].count()\n",
    "    all_artists_from_other_fests = df.drop(lineup, axis=1).dropna(how='all').index.get_values()\n",
    "    fest_lineup_list = df[lineup].dropna().index.get_values()\n",
    "    common_artists_sum = len(set(all_artists_from_other_fests).intersection(fest_lineup_list))\n",
    "    percentage = common_artists_sum / sum_lineup\n",
    "    return percentage"
   ]
  },
  {
   "cell_type": "code",
   "execution_count": 232,
   "metadata": {
    "collapsed": false
   },
   "outputs": [],
   "source": [
    "d = {}\n",
    "for column in df.columns.get_values():\n",
    "    d[column] = compute_percentage_of_lineup_in_other_festivals(column, df)"
   ]
  },
  {
   "cell_type": "code",
   "execution_count": 233,
   "metadata": {
    "collapsed": false
   },
   "outputs": [
    {
     "data": {
      "text/plain": [
       "<matplotlib.axes._subplots.AxesSubplot at 0x112721128>"
      ]
     },
     "execution_count": 233,
     "metadata": {},
     "output_type": "execute_result"
    },
    {
     "data": {
      "image/png": "[encoded data removed]",
      "text/plain": [
       "<matplotlib.figure.Figure at 0x11271bb70>"
      ]
     },
     "metadata": {},
     "output_type": "display_data"
    }
   ],
   "source": [
    "percentage_fest_df = pd.DataFrame.from_dict(d, orient='Index')\n",
    "percentage_fest_df.columns = ['Percentage']\n",
    "percentage_fest_df.sort_values(by='Percentage').plot(kind='Bar',\n",
    "                                                     title=\"Percentage of Unique Bands\",\n",
    "                                                     ylim=(0,1))"
   ]
  },
  {
   "cell_type": "markdown",
   "metadata": {},
   "source": [
    "## Percentage of Unique Bands in Percentiles of Lineup "
   ]
  },
  {
   "cell_type": "markdown",
   "metadata": {},
   "source": [
    "## What about bands\n",
    "- What are the top 10 most promiscious bands? "
   ]
  },
  {
   "cell_type": "code",
   "execution_count": 214,
   "metadata": {
    "collapsed": false
   },
   "outputs": [
    {
     "data": {
      "text/plain": [
       "ARTIST\n",
       "Vince Staples                            9\n",
       "M83                                      7\n",
       "Haim                                     7\n",
       "Nathaniel Rateliff & the Night Sweats    7\n",
       "Disclosure                               6\n",
       "Grimes                                   6\n",
       "Elle King                                6\n",
       "Big Grams                                6\n",
       "Oh Wonder                                5\n",
       "Miike Snow                               5\n",
       "Bully                                    5\n",
       "Walk The Moon                            5\n",
       "Coleman Hell                             5\n",
       "Ellie Goulding                           5\n",
       "Silversun Pickups                        5\n",
       "Marian Hill                              5\n",
       "Foals                                    5\n",
       "Kurt Vile & The Violators                5\n",
       "Death Cab for Cutie                      5\n",
       "Leon Bridges                             5\n",
       "X Ambassadors                            5\n",
       "The Struts                               5\n",
       "Florence + The Machine                   5\n",
       "Louis The Child                          5\n",
       "Børns                                    5\n",
       "dtype: int64"
      ]
     },
     "execution_count": 214,
     "metadata": {},
     "output_type": "execute_result"
    }
   ],
   "source": [
    "df.count(axis=1).sort_values(ascending=False).head(25)"
   ]
  },
  {
   "cell_type": "code",
   "execution_count": 221,
   "metadata": {
    "collapsed": false
   },
   "outputs": [
    {
     "data": {
      "text/plain": [
       "'Index: 759 entries, 1200 to ZZ Top'"
      ]
     },
     "execution_count": 221,
     "metadata": {},
     "output_type": "execute_result"
    }
   ],
   "source": [
    "df.index.summary()"
   ]
  },
  {
   "cell_type": "code",
   "execution_count": null,
   "metadata": {
    "collapsed": true
   },
   "outputs": [],
   "source": []
  }
 ],
 "metadata": {
  "kernelspec": {
   "display_name": "Python 3",
   "language": "python",
   "name": "python3"
  },
  "language_info": {
   "codemirror_mode": {
    "name": "ipython",
    "version": 3
   },
   "file_extension": ".py",
   "mimetype": "text/x-python",
   "name": "python",
   "nbconvert_exporter": "python",
   "pygments_lexer": "ipython3",
   "version": "3.5.1"
  }
 },
 "nbformat": 4,
 "nbformat_minor": 0
}

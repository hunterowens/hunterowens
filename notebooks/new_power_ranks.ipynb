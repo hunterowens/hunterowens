{
 "cells": [
  {
   "cell_type": "code",
   "execution_count": 1,
   "metadata": {
    "collapsed": true
   },
   "outputs": [],
   "source": [
    "import pandas as pd"
   ]
  },
  {
   "cell_type": "markdown",
   "metadata": {},
   "source": [
    "Things We should look at \n",
    "- how homogenous are today's festivals?\n",
    "- what are the festivals that stand out as most unique? most median?\n",
    "- what bands are the most \"promiscuous\" festival acts?\n",
    "- are there other interesting patterns that indicate \"behind the scenes\" factors, such as shared booking/promoters, etc.?\n",
    "- if you made a \"consensus\" festival for 2016, what would it look like? (would be great to design a fake poster for this)\n"
   ]
  },
  {
   "cell_type": "code",
   "execution_count": 18,
   "metadata": {
    "collapsed": true
   },
   "outputs": [],
   "source": [
    "df = pd.read_csv('./2016 Festivals - ByOrder.csv')"
   ]
  },
  {
   "cell_type": "code",
   "execution_count": 21,
   "metadata": {
    "collapsed": false
   },
   "outputs": [],
   "source": [
    "df.set_index('ARTIST', inplace=True)"
   ]
  },
  {
   "cell_type": "markdown",
   "metadata": {},
   "source": [
    "## Homogentity Score\n",
    "- How similar to the avg festival is this festival \n",
    "- Computed Value is the Percentage of the Festival that appears in another fesitival "
   ]
  },
  {
   "cell_type": "code",
   "execution_count": 108,
   "metadata": {
    "collapsed": true
   },
   "outputs": [],
   "source": [
    "def common_elements_num(list1, list2):\n",
    "    return len([element for element in list1 if element in list2])"
   ]
  },
  {
   "cell_type": "code",
   "execution_count": 106,
   "metadata": {
    "collapsed": false
   },
   "outputs": [],
   "source": [
    "def compute_percentage_of_lineup_in_other_festivals(lineup, df, lineup_name): \n",
    "    \"\"\"Given a lineup from df.[FESTIVAL_NAME], tell me what percentage is in another festival \"\"\"\n",
    "    sum_lineup = lineup.count()\n",
    "    all_artists_from_other_fests = df.drop(lineup_name, axis=1).index.get_values()\n",
    "    fest_lineup_list = lineup.dropna().index.get_values()\n",
    "    percentage = intersect / sum_lineup\n",
    "    return percentage\n",
    "    "
   ]
  },
  {
   "cell_type": "code",
   "execution_count": 117,
   "metadata": {
    "collapsed": false
   },
   "outputs": [
    {
     "name": "stdout",
     "output_type": "stream",
     "text": [
      "23\n",
      "23\n"
     ]
    },
    {
     "data": {
      "text/plain": [
       "1.0"
      ]
     },
     "execution_count": 117,
     "metadata": {},
     "output_type": "execute_result"
    }
   ],
   "source": [
    "compute_percentage_of_lineup_in_other_festivals(df.BOSCALLING, df, 'BOSCALLING')"
   ]
  },
  {
   "cell_type": "code",
   "execution_count": 119,
   "metadata": {
    "collapsed": true
   },
   "outputs": [],
   "source": [
    "all_artists_from_other_fests = df.drop('BOSCALLING', axis=1).index.get_values()"
   ]
  },
  {
   "cell_type": "code",
   "execution_count": 121,
   "metadata": {
    "collapsed": false
   },
   "outputs": [
    {
     "data": {
      "text/plain": [
       "array(['Battles', 'Børns', 'Charles Bradley', 'Christine and the Queens',\n",
       "       'City and Colour', 'Courtney Barnett', 'Disclosure', 'Elle King',\n",
       "       'Haim', 'Janelle Monae', 'Lisa Hannigan and Aaron Dessner', 'Lizzo',\n",
       "       'Michael Christmas', 'Miike Snow', 'Odesza', 'Palehound', 'Robyn',\n",
       "       'Sia', 'Sufjan Stevens', 'The Front Bottoms', 'The Vaccines',\n",
       "       'Unknown Mortal Orchestra', 'Vince Staples'], dtype=object)"
      ]
     },
     "execution_count": 121,
     "metadata": {},
     "output_type": "execute_result"
    }
   ],
   "source": [
    "df.BOSCALLING.dropna().index.get_values()"
   ]
  },
  {
   "cell_type": "code",
   "execution_count": 122,
   "metadata": {
    "collapsed": false
   },
   "outputs": [
    {
     "data": {
      "text/plain": [
       "array(['1200', '2 Many DJs', '3LAU', 'A$AP Ferg', 'A$AP Rocky',\n",
       "       'Aaron Neville', 'AC Slater', 'Action Bronson',\n",
       "       'Adam Beyer & Ida Engberg', 'Adam Devine', 'Adia Victoria',\n",
       "       'Adventure Club', 'Against Me!', 'Alabama Shakes',\n",
       "       'Albert Hammond Jr.', 'Alessia Cara', 'Alex G', 'Algiers',\n",
       "       'Alina Baraz', 'Alison Wonderland', 'All Them Witches',\n",
       "       'Alle Farben', 'Allen Stone', 'Alpha Blondy', 'AlunaGeorge',\n",
       "       'Alvvays', 'AMFMs', 'Amine Edge & DANCE', 'Anders Osborne',\n",
       "       'Anderson .Paak', 'Anderson East', 'Andra Day',\n",
       "       'Andrew McMahon in the Wilderness', 'Andy Grammer', 'Arkells',\n",
       "       'Arlo Guthrie', 'Arlo McKinley & The Lonesome Sound',\n",
       "       'Arturo Sandoval', 'At The Drive-In', 'Atlas Genius', 'Audien',\n",
       "       'Audiodamn!', 'Aurora', 'Austin Plaine', 'Autolux', 'Automagik',\n",
       "       'Baauer', 'Bad Royale', 'BADBADNOTGOOD', 'Baio', 'Bakery',\n",
       "       'Band of Horses', 'Banners', 'Barns Courtney', 'Baroness',\n",
       "       'Bas Cozz Omen', 'Bass Drum of Death', 'Bastille', 'Bat For Lashes',\n",
       "       'Battles', 'Bayonne', 'Bayside', 'BBRNS', 'Beach Fossils',\n",
       "       'Beach House', 'Beach Slang', 'Beat Connection', 'Beck', 'Beirut',\n",
       "       'Ben Harper & The Innocent Criminals', 'Better Than Ezra',\n",
       "       'Betty Who', 'Big Freedia', 'Big Gigantic', 'Big Grams',\n",
       "       'Black Coffee', 'Black Pistol Fire', 'Blackberry Smoke',\n",
       "       'Blank Range', 'Blind Pilot', 'Blink-182', 'Bloc Party',\n",
       "       'Blood Orange', 'Bob Moses', 'Bobby Lee Rodgers', 'Bonnie Raitt',\n",
       "       'Boogie', 'Boombox Cartel', 'Boris Brejcha', 'Børns', 'Bot',\n",
       "       'Boy & Bear', 'Boys Noize', 'Boz Scaggs', 'Brandi Carlile',\n",
       "       'Brett Dennen', 'Brian Fallon', 'Briana Marela', 'Bridget Everett',\n",
       "       'Bro Safari', 'Brothers From Another', 'Brothers Osborne',\n",
       "       'Bryson Tiller', 'Buddy Guy', 'Buffy Sainte-Marie', 'Bully',\n",
       "       'Burns', 'Busty And The Bass',\n",
       "       'Butch Trucks & The Freight Train Band', 'Cade',\n",
       "       'Cage The Elephant', 'Cal Scruby', 'Calvin Harris',\n",
       "       'Capital Cities', 'Caribou', 'Carla Morrison', 'Casaveda',\n",
       "       'Casey Veggies', 'Cashmere Cat', 'Cassy',\n",
       "       'Catfish and the Bottlemen', 'Caveboy', 'Caveman', 'Caverns',\n",
       "       'CeCe Winans', 'Chairlift', 'Charles Bradley', 'Charlotte Cardin',\n",
       "       'Cheat Codes', 'Chelsea Wolfe', 'Cherub', 'Chet Faker',\n",
       "       'Chicano Batman', 'Chris Botti', 'Chris Stapleton',\n",
       "       'Christine and the Queens', 'Chronixx', 'CHVRCHES', 'Circa Waves',\n",
       "       'City and Colour', 'Civil Twilight', 'Claptone', 'Classixx',\n",
       "       'Cloves', 'Clutch', 'Coasts', 'Coin', 'Cold War Kids',\n",
       "       'Coleman Hell', 'Con Brio', 'Connell Cruise', 'Conner Youngblood',\n",
       "       'Courtney Barnett', 'Craig Finn', 'Crystal Fighters', 'Cymande',\n",
       "       'Cypress Hill', 'D.R.A.M.', 'Danny Brown', 'Daughter', 'Dave B',\n",
       "       'Davell Crawford', 'David Ramirez', 'Dawg Yawp', 'Day Wave',\n",
       "       'De La Soul', 'De Lux', 'Dead & Company', 'Dead Man String Band',\n",
       "       'Deadmau5', 'Deafheaven', 'Death Cab for Cutie', 'Death Grips',\n",
       "       'Deep Sea Diver', 'Deer Tick', 'Deerhunter', 'Deftones',\n",
       "       'Devon Baldwin', 'Diarrhea Planet', 'Die Antwoord', 'Diet Cig',\n",
       "       'Digable Planets', 'Dilly Dally', 'Dirty Dozen Brass Band',\n",
       "       'Disclosure', 'DJ EZ', 'DJ Koze', 'DJ Mustard', \"DMA's\",\n",
       "       'Don Diablo', 'Dr. Dog', 'Dr. John', 'Dragonette', 'Dreamers',\n",
       "       'Drew Holcomb and The Neighbors', 'Drowners', 'Dua Lipa', 'Dubfire',\n",
       "       'Duke Dumont', 'Dungen', 'Duran Duran', 'Dylan LeBlanc',\n",
       "       'Eagles of Death Metal', 'Earth Wind & Fire',\n",
       "       'Edward Sharpe and the Magnetic Zeros', 'Elephant Stone',\n",
       "       'Eliot Sumner', 'Elle King', 'Ellie Goulding', 'Elliot Root',\n",
       "       'Ellis Marsalis', 'Elvin Bishop', 'Elvis Costello', 'Epik High',\n",
       "       'Ethan Parker Band', 'Evanescence', 'Evian Christ', 'Ex Hex',\n",
       "       'Excision', 'Explosions in the Sky', 'Fakear', 'Father John Misty',\n",
       "       'Fauna Shade', 'Feder', 'Felix Jaehn', 'Femi Kuti & Positive Force',\n",
       "       'Fetty Wap', 'Fidlar', 'Finish Ticket', 'Firekid',\n",
       "       'Fireside Prophets', 'Fitz & The Tantrums', 'Flatbush Zombies',\n",
       "       'Flo Rida', 'Flogging Molly', 'Florence + The Machine',\n",
       "       'Flosstradamus', 'Flume', 'Flux Capacitor', 'Foals', 'Four Tet',\n",
       "       'Foxing', 'Foy Vance', 'Frances',\n",
       "       'Frank Turner & The Sleeping Souls', 'Frightened Rabbit',\n",
       "       'Fur Coat', 'Future', 'G-Eazy', 'G. Love & Special Sauce',\n",
       "       'Galactic', 'Galantis', 'Gallant', 'Gary Clark Jr.', 'Generik',\n",
       "       'George FitzGerald', 'Ghost', 'Gibbz', 'Girlpool', 'Givers',\n",
       "       'Glass Animals', 'GoGo Penguin', 'Goldfinger', 'Goldlink',\n",
       "       'Goldroom', \"Gov't Mule\", 'Grace Love & The Trueloves',\n",
       "       'Grace Potter', 'Gramatik', 'Grand Theft', 'Gregory Porter',\n",
       "       'Grimes', 'Griz', 'Grizfolk', 'Grouplove', 'Guns N Roses', 'Guster',\n",
       "       'HAELOS', 'Haim', 'Haitus Kaiyote', 'Half Deezy', 'Half Moon Run',\n",
       "       'Halsey', 'Hardwell', 'Haute', 'Hayden James', 'HEALTH',\n",
       "       'Herbie Hancock & Wayne Shorter', 'Here Come The Mummies',\n",
       "       'Hermitude', 'Hi-Lo', 'Hibou', 'Hippie Sabotage',\n",
       "       'Holiday Mountain', 'Hollis Brown', 'Holly Miranda',\n",
       "       'Holy White Hounds', 'Honeysuckle', 'Hop Along', 'Horse Thief',\n",
       "       'Houndmouth', 'Hudson Mohawke', 'Huey Lewis and The News',\n",
       "       'Hundred Waters', 'Iamdynamite', 'Ibeyi', 'Ice Cube', 'Illenium',\n",
       "       'Irma Thomas', 'Iska Dhaaf', 'Israel Nash',\n",
       "       \"Ivan Neville's Dumpstaphunk\", 'J. Roddy Walston & The Business',\n",
       "       'J.Cole', 'Jack Garratt', 'Jack Novak', 'Jack Ü', 'Jackal',\n",
       "       'Jahkoy', 'Jai Wolf', 'James Bay', 'James Hersey', 'Jamie xx',\n",
       "       \"Jane's Addiction\", 'Janelle Monae', 'Jarryd James', 'Jason Derulo',\n",
       "       'Jason Isbell', 'Jauz', 'Jazz Cartier', 'Jeremy Loops',\n",
       "       'Jerry Folk', 'Jesse Royal', 'JJ Grey & Mofro', 'Joey Bada$$',\n",
       "       'John Digweed', 'John Hammond', 'John Mark Nelson', 'John Moreland',\n",
       "       'Jon Batiste', 'Jon Bellion', 'Jon Cleary', 'Jonny Lang', 'Joseph',\n",
       "       'Joywave', 'Judah & The Lion', 'Julia Holter', 'Julien Baker',\n",
       "       'Julio Iglesias', 'July Talk', 'Justin Martin', 'Kaleo',\n",
       "       'Kamasi Washington', 'Kaneholler', 'Kanye West', 'Kaytranada',\n",
       "       'Kehlani', 'Kermit Ruffins', 'Kevin Garrett', 'Keys N Krates',\n",
       "       'Kiiara', 'King Gizzard & The Lizard Wizard', 'Kings of Leon',\n",
       "       'Kittens', 'Koa', 'KSHMR', 'Kurt Vile & The Violators', 'La Luz',\n",
       "       'Lamb of God', 'Lana Del Rey', 'Lanco', 'Lane 8', 'Lany', 'Lapsley',\n",
       "       'Laura Stevenson', 'Lauryn Hill', 'Lauv', 'Lazyboy Empire',\n",
       "       'LCD Soundsystem', 'Le Matos', 'Leggy', 'Lemaitre', 'Lenny Kravitz',\n",
       "       'Leon Bridges', 'Lettuce', 'Lewis Del Mar', 'Lido',\n",
       "       'Lindsey Stirling', 'Lisa Hannigan and Aaron Dessner',\n",
       "       'Little Simz', 'Liz Vice', 'Lizzo', 'Local Natives', 'Logic',\n",
       "       'Lolawolf', 'London Souls', 'Lord Huron', 'Los Colognes',\n",
       "       'Lost Frequencies', 'Lost Kings', 'Louis The Child', 'Lucius',\n",
       "       'Lucy Dacus', 'Ludacris', 'Lukas Graham', 'Lunchmoney Lewis',\n",
       "       'Lush', 'Lydia', 'M. Ward', 'M83', 'Mac Demarco', 'Mac Miller',\n",
       "       'Maceo Plex', 'Macklemore & Ryan Lewis', 'Mad Anthony', 'Magic Man',\n",
       "       'Mail The Horse', 'Major and The Monbacks', 'Major Lazer',\n",
       "       'Mano Le Tough', 'Marc Scibilia', 'Marco Carola', 'Marcus Marr',\n",
       "       'Marian Hill', 'Marshmello', 'Martin Garrix', 'Masha', 'Matoma',\n",
       "       'Matt and Kim', 'Matt Calderin Trio', 'Matt Corby', 'Matt Vasquez',\n",
       "       'Matthew Dear', 'Mavis Staples', 'Maxwell', 'Mayer Hawthorne',\n",
       "       'Maze', 'Mbongwana Star', 'Meg Mac', 'Meg Myers', 'Meghan Trainor',\n",
       "       'Melanie Martinez', \"Melody's Echo Chamber\", 'Miami Horror',\n",
       "       'Michael Christmas', 'Michael McDonald', 'Miguel', 'Miike Snow',\n",
       "       'Mija', 'Mike Mineo', 'Mindie Lind', 'Misterwives', 'MØ',\n",
       "       'Modern Baseball', 'Moon Taxi', 'Motel Radio', 'Mothers',\n",
       "       'Mr. Carmack', 'Mudcrutch', 'Muddy Magnolias', 'Mumford & Sons',\n",
       "       'Muna', 'Mura Masa', 'Murder By Death', 'Mutemath',\n",
       "       'My Morning Jacket', 'Mystikal',\n",
       "       'Nahko and Medicine for the People', 'Natalie Prass',\n",
       "       'Nathaniel Rateliff & the Night Sweats', 'Neil Young',\n",
       "       'Nic Fanciulli', 'Nick Jonas', 'Nicole Moudaber & Skin',\n",
       "       'Night Riots', 'Nina Kraviz', 'Nina Las Vegas', 'No Traffik',\n",
       "       'Noah Gundersen', 'Noe', 'Nora En Pure', 'Nosaj Thing', 'Nothing',\n",
       "       'Nothing But Thieves', 'Oddisee', 'Odesza', 'Of Monsters and Men',\n",
       "       'Oh Wonder', 'Oliver Heldens', 'Oscar', 'Ought', 'Palehound',\n",
       "       'Panama Wedding', 'Panic! at the Disco', 'Papadosio',\n",
       "       'Parov Stelar', 'Parquet Courts', 'Parson James', 'Party Favor',\n",
       "       'Passenger', 'Paul Kalkbrenner', 'Paul Simon', 'Pearl Jam', 'Pell',\n",
       "       'Pepper', 'Pete Yorn', 'Phases', 'Phosphorescent',\n",
       "       'Piff The Magic Dragon', 'Pinegrove', 'Polly A.', 'Polyenso',\n",
       "       'Porter Robinson', 'Portugal. The Man', 'Post Malone',\n",
       "       'Potty Mouth', 'Powers', 'PRAYERS', 'Preservation Hall Jazz Band',\n",
       "       'Professor & The Jet Sets', 'Protoje', 'Protomartyr',\n",
       "       'Public Access TV', 'Punch Brothers', 'Purity Ring', 'Pvris',\n",
       "       'Quilt', 'Race Banyon', 'Radiohead', 'Rae Sremmurd', 'Rancid',\n",
       "       'Raury', 'Rayland Baxter', 'Rebirth Brass Band',\n",
       "       'Red Hot Chili Peppers', 'Red Wanting Blue', 'Rhiannon Giddens',\n",
       "       'Rhye', 'Ria Mae', 'Rick Springfield', 'RL Grime', 'Robert DeLong',\n",
       "       'Robyn', 'Rococode', 'Roman Gianarthur', 'Rudimental',\n",
       "       'RUFUS DU SOL', 'Ruler', 'Run The Jewels', 'Ryan Adams', 'Saba',\n",
       "       'Saint Asonia', 'Saint Motel', 'Saintseneca', 'Salt N Pepa',\n",
       "       'Sam Bush Band', 'Sam Feldt', 'Sam Hunt', 'Sam James',\n",
       "       'Sara Watkins', 'Sasha', 'Savages',\n",
       "       \"Scott Bradlee's Postmodern Jukebox\", 'Secret Weapons',\n",
       "       'Seven Lions', 'SG Lewis', 'Shakey Graves', 'Shamir',\n",
       "       'Shannon & The Clams', 'Sharon Jones & The Dap-Kings', 'Sheer Mag',\n",
       "       'Shovels & Rope', 'Sia', 'Sigala', 'Silversun Pickups',\n",
       "       'Sir The Baptist', 'Skate Maloley', 'Skepta', 'Slaptop',\n",
       "       'Slightly Stoopid', 'Slowdive', 'Slumberjack', 'Smino', 'Snails',\n",
       "       'Snakehips', 'Snarky Puppy', 'Snoop Dogg', 'Soak', 'Somo',\n",
       "       'Son Little', 'Sonreal', 'Sons of Mystro', 'SOPHIE', 'Soul Clap',\n",
       "       'Speaker of the House', 'Speedy Ortiz', 'St. Germain', 'St. Lucia',\n",
       "       'St. Paul & The Broken Bones', 'Steely Dan', 'Steep Canyon Rangers',\n",
       "       'Steve Aoki', 'Steve Gunn', 'Stevie Wonder', 'Stick Figure',\n",
       "       'Strand Of Oaks', 'Strangers You Know', 'Sufjan Stevens',\n",
       "       'Summer Cannibals', 'Sun Club', 'Sunflower Bean', 'Swim Deep',\n",
       "       'Sylvan Esso', 'Synapson', 'SZA', 'Tab Benoit', 'Tacocat',\n",
       "       'Taj Mahal Trio', 'Tamaryn', 'Tame Impala', 'Tangerine', 'Tchami',\n",
       "       'Tears For Fears', 'Tedeschi Trucks Band', 'Teen Men', 'Tei Shi',\n",
       "       'Telekinesis', 'Tennyson', 'Tensnake', 'Terence Blanchard',\n",
       "       'The 1975', 'The Arcs', 'The Avett Brothers', 'The Babys',\n",
       "       'The Barr Brothers', 'The Black Angels', 'The Black Madonna',\n",
       "       'The Bright Light Social Hour', 'The Cat Empire',\n",
       "       'The Chainsmokers', 'The Claypool Lennon Delirium', 'The Cure',\n",
       "       'The Damned', 'The Dead Ships', 'The Dear Hunter',\n",
       "       'The Decemberists', 'The Dip', 'The Dirty Dishes', 'The Floozies',\n",
       "       'The Front Bottoms', 'The Greeting Committee', 'The Griswolds',\n",
       "       'The Head and The Heart', 'The Heavy', 'The Heydaze',\n",
       "       'The Hip Abudction', 'The Internet', 'The Isley Brothers',\n",
       "       'The Japanese House', 'The Joy Formidable', 'The Killers',\n",
       "       'The Kills', 'The Knocks', 'The Last Shadow Puppets',\n",
       "       'The Lone Bellow', 'The Lonely Biscuits', 'The Lumineers',\n",
       "       'The Mowglis', 'The Neighbourhood', 'The Noisey Freaks',\n",
       "       'The Oh Hellos', 'The Orwells', 'The Paper Kites', 'The Range',\n",
       "       'The Revivalists', 'The Roots', 'The Royal Concept', 'The Shelters',\n",
       "       'The Soul Rebels', 'The Staves', 'The Strokes', 'The Strumbellas',\n",
       "       'The Struts', 'The Suffers', 'The Sword', 'The Twilight Sad',\n",
       "       'The Underachievers', 'The Vaccines', 'The Vandals', 'The Weeknd',\n",
       "       'The White Panda', 'The Wombats', 'The Wood Brothers',\n",
       "       'Third Eye Blind', 'Thomas Jack', 'Thundercat', 'Thunderpussy',\n",
       "       'Titus Andronicus', 'Todd Terje', 'TOKiMONSTA', 'Tor Miller',\n",
       "       'Tori Lynn', 'Torres', 'Tory Lanez', 'Totem', 'Touchpants',\n",
       "       'Tourist', 'Towkio', 'Train', 'Transviolet',\n",
       "       'Trey Libra FKA Jacob Izrael', 'Trombone Shorty', 'Twin Limb',\n",
       "       'Twin Peaks', 'Two Door Cinema Club', 'Ty Segall', 'Tycho',\n",
       "       'Tyler The Creator', \"Umphrey's McGee\", 'Underworld',\n",
       "       'Unified Highway', 'Unknown Mortal Orchestra', 'Van Morrison',\n",
       "       'Vanic', 'VHS Collection', 'Vic Mensa', 'Vince Staples', 'Volbeat',\n",
       "       'Vulfpeck', 'Wailers', 'Walk The Moon', 'Washed Out',\n",
       "       'Watch The Duck', 'Wavves', 'Waxahatchee', 'WD-Han', 'Ween', 'Wet',\n",
       "       'Whilk & Misky', 'White Denim', 'White Lung', 'Wild Child',\n",
       "       'Wild Nothing', 'William Bolton', 'Wimps', 'Wolf Alice',\n",
       "       'Wolf Parade', 'X Ambassadors', 'Years & Years', 'Yeasayer',\n",
       "       'Yellow Claw', 'Yo La Tengo', 'Young Fathers', 'Young The Giant',\n",
       "       'Zedd', 'Zeds Dead', 'Zella Day', 'ZHU', 'ZZ Top'], dtype=object)"
      ]
     },
     "execution_count": 122,
     "metadata": {},
     "output_type": "execute_result"
    }
   ],
   "source": [
    "all_artists_from_other_fests"
   ]
  },
  {
   "cell_type": "code",
   "execution_count": null,
   "metadata": {
    "collapsed": true
   },
   "outputs": [],
   "source": []
  }
 ],
 "metadata": {
  "kernelspec": {
   "display_name": "Python 3",
   "language": "python",
   "name": "python3"
  },
  "language_info": {
   "codemirror_mode": {
    "name": "ipython",
    "version": 3
   },
   "file_extension": ".py",
   "mimetype": "text/x-python",
   "name": "python",
   "nbconvert_exporter": "python",
   "pygments_lexer": "ipython3",
   "version": "3.5.1"
  }
 },
 "nbformat": 4,
 "nbformat_minor": 0
}

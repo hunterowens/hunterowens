{
 "metadata": {
  "name": "",
  "signature": "sha256:181c2bb2637ca7509c2988ddd82b50228dbbb08a83e05365022c8f039d5218fb"
 },
 "nbformat": 3,
 "nbformat_minor": 0,
 "worksheets": []
}
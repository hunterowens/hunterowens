{
 "metadata": {
  "language": "Julia",
  "name": "",
  "signature": "sha256:c330b55b8761f041ff62c1818a4fd4e95269c2a366980014f3ffbf7d0bef7efb"
 },
 "nbformat": 3,
 "nbformat_minor": 0,
 "worksheets": [
  {
   "cells": [
    {
     "cell_type": "code",
     "collapsed": false,
     "input": [
      "macro timeit(func)"
     ],
     "language": "python",
     "metadata": {},
     "outputs": []
    },
    {
     "cell_type": "markdown",
     "metadata": {},
     "source": [
      "##Fib"
     ]
    },
    {
     "cell_type": "code",
     "collapsed": false,
     "input": [
      "fib(n) = n < 2 ? n : fib(n-1) + fib(n-2)"
     ],
     "language": "python",
     "metadata": {},
     "outputs": [
      {
       "metadata": {},
       "output_type": "pyout",
       "prompt_number": 1,
       "text": [
        "fib (generic function with 1 method)"
       ]
      }
     ],
     "prompt_number": 1
    },
    {
     "cell_type": "code",
     "collapsed": false,
     "input": [],
     "language": "python",
     "metadata": {},
     "outputs": [
      {
       "output_type": "stream",
       "stream": "stdout",
       "text": [
        "10000 loops, best of 3: "
       ]
      },
      {
       "output_type": "stream",
       "stream": "stdout",
       "text": [
        "76.31 \u00b5s per loop\n"
       ]
      }
     ],
     "prompt_number": 14
    },
    {
     "cell_type": "markdown",
     "metadata": {},
     "source": [
      "## Microbenchmark for Julia"
     ]
    },
    {
     "cell_type": "code",
     "collapsed": false,
     "input": [
      "using Base.Test\n",
      "\n",
      "include(\"./perfutil.jl\")\n",
      "\n",
      "## recursive fib ##\n",
      "\n",
      "fib(n) = n < 2 ? n : fib(n-1) + fib(n-2)\n",
      "\n",
      "@test fib(20) == 6765\n",
      "@timeit fib(20) \"fib\" \"Recursive fibonacci\"\n",
      "\n",
      "## parse integer ##\n",
      "\n",
      "function parseintperf(t)\n",
      "    local n, m\n",
      "    for i=1:t\n",
      "        n = rand(Uint32)\n",
      "        s = hex(n)\n",
      "        m = uint32(parseint(Int64,s,16))\n",
      "    end\n",
      "    @test m == n\n",
      "    return n\n",
      "end\n",
      "\n",
      "@timeit parseintperf(1000) \"parse_int\" \"Integer parsing\"\n",
      "\n",
      "## array constructors ##\n",
      "\n",
      "@test all(ones(200,200) .== 1)\n",
      "# @timeit ones(200,200) \"ones\" \"description\"\n",
      "\n",
      "## matmul and transpose ##\n",
      "\n",
      "A = ones(200,200)\n",
      "@test all(A*A' .== 200)\n",
      "# @timeit A*A' \"AtA\" \"description\"\n",
      "\n",
      "## mandelbrot set: complex arithmetic and comprehensions ##\n",
      "\n",
      "function mandel(z)\n",
      "    c = z\n",
      "    maxiter = 80\n",
      "    for n = 1:maxiter\n",
      "        if abs(z) > 2\n",
      "            return n-1\n",
      "        end\n",
      "        z = z^2 + c\n",
      "    end\n",
      "    return maxiter\n",
      "end\n",
      "\n",
      "mandelperf() = [ mandel(complex(r,i)) for i=-1.:.1:1., r=-2.0:.1:0.5 ]\n",
      "@test sum(mandelperf()) == 14791\n",
      "@timeit mandelperf() \"mandel\" \"Calculation of mandelbrot set\"\n",
      "\n",
      "## numeric vector sort ##\n",
      "\n",
      "function qsort!(a,lo,hi)\n",
      "    i, j = lo, hi\n",
      "    while i < hi\n",
      "        pivot = a[(lo+hi)>>>1]\n",
      "        while i <= j\n",
      "            while a[i] < pivot; i += 1; end\n",
      "            while a[j] > pivot; j -= 1; end\n",
      "            if i <= j\n",
      "                a[i], a[j] = a[j], a[i]\n",
      "                i, j = i+1, j-1\n",
      "            end\n",
      "        end\n",
      "        if lo < j; qsort!(a,lo,j); end\n",
      "        lo, j = i, hi\n",
      "    end\n",
      "    return a\n",
      "end\n",
      "\n",
      "sortperf(n) = qsort!(rand(n), 1, n)\n",
      "@test issorted(sortperf(5000))\n",
      "@timeit sortperf(5000) \"quicksort\" \"Sorting of random numbers using quicksort\"\n",
      "\n",
      "## slow pi series ##\n",
      "\n",
      "function pisum()\n",
      "    sum = 0.0\n",
      "    for j = 1:500\n",
      "        sum = 0.0\n",
      "        for k = 1:10000\n",
      "            sum += 1.0/(k*k)\n",
      "        end\n",
      "    end\n",
      "    sum\n",
      "end\n",
      "\n",
      "@test abs(pisum()-1.644834071848065) < 1e-12\n",
      "@timeit pisum() \"pi_sum\" \"Summation of a power series\"\n",
      "\n",
      "## slow pi series, vectorized ##\n",
      "\n",
      "function pisumvec()\n",
      "    s = 0.0\n",
      "    a = [1:10000]\n",
      "    for j = 1:500\n",
      "        s = sum(1./(a.^2))\n",
      "    end\n",
      "    s\n",
      "end\n",
      "\n",
      "#@test abs(pisumvec()-1.644834071848065) < 1e-12\n",
      "#@timeit pisumvec() \"pi_sum_vec\"\n",
      "\n",
      "## random matrix statistics ##\n",
      "\n",
      "function randmatstat(t)\n",
      "    n = 5\n",
      "    v = zeros(t)\n",
      "    w = zeros(t)\n",
      "    for i=1:t\n",
      "        a = randn(n,n)\n",
      "        b = randn(n,n)\n",
      "        c = randn(n,n)\n",
      "        d = randn(n,n)\n",
      "        P = [a b c d]\n",
      "        Q = [a b; c d]\n",
      "        v[i] = trace((P.'*P)^4)\n",
      "        w[i] = trace((Q.'*Q)^4)\n",
      "    end\n",
      "    return (std(v)/mean(v), std(w)/mean(w))\n",
      "end\n",
      "\n",
      "(s1, s2) = randmatstat(1000)\n",
      "@test 0.5 < s1 < 1.0 && 0.5 < s2 < 1.0\n",
      "@timeit randmatstat(1000) \"rand_mat_stat\" \"Statistics on a random matrix\"\n",
      "\n",
      "## largish random number gen & matmul ##\n",
      "\n",
      "@timeit rand(1000,1000)*rand(1000,1000) \"rand_mat_mul\" \"Multiplication of random matrices\"\n",
      "\n",
      "## printfd ##\n",
      "\n",
      "@unix_only begin\n",
      "    function printfd(n)\n",
      "        open(\"/dev/null\",\"w\") do io\n",
      "            for i = 1:n\n",
      "                @printf(io,\"%d %d\\n\",i,i+1)\n",
      "            end\n",
      "        end\n",
      "    end\n",
      "\n",
      "    printfd(1)\n",
      "    @timeit printfd(100000) \"printfd\" \"Printing to a file descriptor\"\n",
      "end"
     ],
     "language": "python",
     "metadata": {},
     "outputs": []
    },
    {
     "cell_type": "code",
     "collapsed": false,
     "input": [
      "#"
     ],
     "language": "python",
     "metadata": {},
     "outputs": []
    }
   ],
   "metadata": {}
  }
 ]
}
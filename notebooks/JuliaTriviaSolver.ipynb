{
 "cells": [
  {
   "cell_type": "code",
   "execution_count": 4,
   "metadata": {
    "collapsed": false
   },
   "outputs": [
    {
     "name": "stderr",
     "output_type": "stream",
     "text": [
      "INFO: Cloning cache of Calculus from git://github.com/johnmyleswhite/Calculus.jl.git\n",
      "INFO: Cloning cache of DataStructures from git://github.com/JuliaLang/DataStructures.jl.git\n",
      "INFO: Cloning cache of ForwardDiff from git://github.com/JuliaDiff/ForwardDiff.jl.git\n",
      "INFO: Cloning cache of JuMP from git://github.com/JuliaOpt/JuMP.jl.git\n",
      "INFO: Cloning cache of Lazy from git://github.com/one-more-minute/Lazy.jl.git\n",
      "INFO: Cloning cache of MacroTools from git://github.com/one-more-minute/MacroTools.jl.git\n",
      "INFO: Cloning cache of MathProgBase from git://github.com/JuliaOpt/MathProgBase.jl.git\n",
      "INFO: Cloning cache of NaNMath from git://github.com/mlubin/NaNMath.jl.git\n",
      "INFO: Cloning cache of ReverseDiffSparse from git://github.com/mlubin/ReverseDiffSparse.jl.git\n",
      "INFO: Installing Calculus v0.1.14\n",
      "INFO: Installing DataStructures v0.4.3\n",
      "INFO: Installing ForwardDiff v0.1.6\n",
      "INFO: Installing JuMP v0.12.1\n",
      "INFO: Installing Lazy v0.10.1\n",
      "INFO: Installing MacroTools v0.3.0\n",
      "INFO: Installing MathProgBase v0.4.2\n",
      "INFO: Installing NaNMath v0.2.0\n",
      "INFO: Installing ReverseDiffSparse v0.5.4\n",
      "INFO: Package database updated\n"
     ]
    }
   ],
   "source": [
    "# Load JuMP\n",
    "Pkg.add(\"JuMP\")\n",
    "using JuMP"
   ]
  },
  {
   "cell_type": "code",
   "execution_count": 6,
   "metadata": {
    "collapsed": false
   },
   "outputs": [
    {
     "ename": "LoadError",
     "evalue": "LoadError: UndefVarError: f not defined\nwhile loading In[6], in expression starting on line 1",
     "output_type": "error",
     "traceback": [
      "LoadError: UndefVarError: f not defined\nwhile loading In[6], in expression starting on line 1",
      ""
     ]
    }
   ],
   "source": []
  },
  {
   "cell_type": "code",
   "execution_count": null,
   "metadata": {
    "collapsed": true
   },
   "outputs": [],
   "source": []
  }
 ],
 "metadata": {
  "kernelspec": {
   "display_name": "Julia 0.4.2",
   "language": "julia",
   "name": "julia-0.4"
  },
  "language_info": {
   "file_extension": ".jl",
   "mimetype": "application/julia",
   "name": "julia",
   "version": "0.4.2"
  }
 },
 "nbformat": 4,
 "nbformat_minor": 0
}

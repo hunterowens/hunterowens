{
 "cells": [
  {
   "cell_type": "code",
   "execution_count": 4,
   "metadata": {
    "collapsed": false
   },
   "outputs": [
    {
     "name": "stderr",
     "output_type": "stream",
     "text": [
      "INFO: Cloning cache of ArrayViews from git://github.com/JuliaLang/ArrayViews.jl.git\n",
      "INFO: Cloning cache of DataArrays from git://github.com/JuliaStats/DataArrays.jl.git\n",
      "INFO: Cloning cache of DataFrames from git://github.com/JuliaStats/DataFrames.jl.git\n",
      "INFO: Cloning cache of Docile from git://github.com/MichaelHatherly/Docile.jl.git\n",
      "INFO: Cloning cache of GZip from git://github.com/JuliaLang/GZip.jl.git\n",
      "INFO: Cloning cache of Reexport from git://github.com/simonster/Reexport.jl.git\n",
      "INFO: Cloning cache of SortingAlgorithms from git://github.com/JuliaLang/SortingAlgorithms.jl.git\n",
      "INFO: Cloning cache of StatsBase from git://github.com/JuliaStats/StatsBase.jl.git\n",
      "INFO: Cloning cache of StatsFuns from git://github.com/JuliaStats/StatsFuns.jl.git\n",
      "INFO: Installing ArrayViews v0.6.4\n",
      "INFO: Installing DataArrays v0.2.20\n",
      "INFO: Installing DataFrames v0.6.10\n",
      "INFO: Installing Docile v0.5.23\n",
      "INFO: Installing GZip v0.2.18\n",
      "INFO: Installing Reexport v0.0.3\n",
      "INFO: Installing SortingAlgorithms v0.0.6\n",
      "INFO: Installing StatsBase v0.8.0\n",
      "INFO: Installing StatsFuns v0.2.0\n",
      "INFO: Package database updated\n",
      "INFO: METADATA is out-of-date — you may not have the latest version of DataFrames\n",
      "INFO: Use `Pkg.update()` to get the latest versions of your packages\n"
     ]
    }
   ],
   "source": [
    "Pkg.add(\"DataFrames\")"
   ]
  },
  {
   "cell_type": "code",
   "execution_count": 5,
   "metadata": {
    "collapsed": false
   },
   "outputs": [
    {
     "name": "stderr",
     "output_type": "stream",
     "text": [
      "INFO: Precompiling module DataFrames...\n"
     ]
    }
   ],
   "source": [
    "using DataFrames"
   ]
  },
  {
   "cell_type": "code",
   "execution_count": 10,
   "metadata": {
    "collapsed": false
   },
   "outputs": [
    {
     "data": {
      "text/plain": [
       "2"
      ]
     },
     "execution_count": 10,
     "metadata": {},
     "output_type": "execute_result"
    }
   ],
   "source": [
    "DataFrame.ninitialize"
   ]
  },
  {
   "cell_type": "code",
   "execution_count": 11,
   "metadata": {
    "collapsed": false
   },
   "outputs": [
    {
     "data": {
      "text/html": [
       "<table class=\"data-frame\"><tr><th></th></tr></table>"
      ],
      "text/plain": [
       "0x0 DataFrames.DataFrame\n"
      ]
     },
     "execution_count": 11,
     "metadata": {},
     "output_type": "execute_result"
    }
   ],
   "source": [
    "df = DataFrame()\n"
   ]
  },
  {
   "cell_type": "code",
   "execution_count": 12,
   "metadata": {
    "collapsed": false
   },
   "outputs": [
    {
     "data": {
      "text/html": [
       "<table class=\"data-frame\"><tr><th></th></tr></table>"
      ],
      "text/plain": [
       "0x0 DataFrames.DataFrame\n"
      ]
     },
     "execution_count": 12,
     "metadata": {},
     "output_type": "execute_result"
    }
   ],
   "source": [
    "df"
   ]
  },
  {
   "cell_type": "code",
   "execution_count": 15,
   "metadata": {
    "collapsed": false
   },
   "outputs": [
    {
     "ename": "LoadError",
     "evalue": "LoadError: MethodError: `setindex!` has no method matching setindex!(::DataFrames.DataFrame, ::Array{Int64,1}, ::Char)\nClosest candidates are:\n  setindex!(::DataFrames.DataFrame, ::Any, ::Any, !Matched::Colon)\n  setindex!(::DataFrames.DataFrame, ::AbstractArray{T,1}, !Matched::Union{Real,Symbol})\n  setindex!(::DataFrames.DataFrame, ::Any, !Matched::Real, !Matched::Union{Real,Symbol})\n  ...\nwhile loading In[15], in expression starting on line 1",
     "output_type": "error",
     "traceback": [
      "LoadError: MethodError: `setindex!` has no method matching setindex!(::DataFrames.DataFrame, ::Array{Int64,1}, ::Char)\nClosest candidates are:\n  setindex!(::DataFrames.DataFrame, ::Any, ::Any, !Matched::Colon)\n  setindex!(::DataFrames.DataFrame, ::AbstractArray{T,1}, !Matched::Union{Real,Symbol})\n  setindex!(::DataFrames.DataFrame, ::Any, !Matched::Real, !Matched::Union{Real,Symbol})\n  ...\nwhile loading In[15], in expression starting on line 1",
      ""
     ]
    }
   ],
   "source": [
    "df['a'] = [1,1,2]"
   ]
  },
  {
   "cell_type": "code",
   "execution_count": 18,
   "metadata": {
    "collapsed": false
   },
   "outputs": [
    {
     "name": "stderr",
     "output_type": "stream",
     "text": [
      "WARNING: Base.String is deprecated, use AbstractString instead.\n",
      "  likely near /Users/hunterowens/.julia/v0.4/RDatasets/src/dataset.jl:1\n",
      "WARNING: Base.String is deprecated, use AbstractString instead.\n",
      "  likely near /Users/hunterowens/.julia/v0.4/RDatasets/src/dataset.jl:1\n",
      "WARNING: Base.String is deprecated, use AbstractString instead.\n",
      "  likely near /Users/hunterowens/.julia/v0.4/RDatasets/src/datasets.jl:1\n"
     ]
    },
    {
     "data": {
      "text/html": [
       "<table class=\"data-frame\"><tr><th></th><th>SepalLength</th><th>SepalWidth</th><th>PetalLength</th><th>PetalWidth</th><th>Species</th></tr><tr><th>1</th><td>5.1</td><td>3.5</td><td>1.4</td><td>0.2</td><td>setosa</td></tr><tr><th>2</th><td>4.9</td><td>3.0</td><td>1.4</td><td>0.2</td><td>setosa</td></tr><tr><th>3</th><td>4.7</td><td>3.2</td><td>1.3</td><td>0.2</td><td>setosa</td></tr><tr><th>4</th><td>4.6</td><td>3.1</td><td>1.5</td><td>0.2</td><td>setosa</td></tr><tr><th>5</th><td>5.0</td><td>3.6</td><td>1.4</td><td>0.2</td><td>setosa</td></tr><tr><th>6</th><td>5.4</td><td>3.9</td><td>1.7</td><td>0.4</td><td>setosa</td></tr><tr><th>7</th><td>4.6</td><td>3.4</td><td>1.4</td><td>0.3</td><td>setosa</td></tr><tr><th>8</th><td>5.0</td><td>3.4</td><td>1.5</td><td>0.2</td><td>setosa</td></tr><tr><th>9</th><td>4.4</td><td>2.9</td><td>1.4</td><td>0.2</td><td>setosa</td></tr><tr><th>10</th><td>4.9</td><td>3.1</td><td>1.5</td><td>0.1</td><td>setosa</td></tr><tr><th>11</th><td>5.4</td><td>3.7</td><td>1.5</td><td>0.2</td><td>setosa</td></tr><tr><th>12</th><td>4.8</td><td>3.4</td><td>1.6</td><td>0.2</td><td>setosa</td></tr><tr><th>13</th><td>4.8</td><td>3.0</td><td>1.4</td><td>0.1</td><td>setosa</td></tr><tr><th>14</th><td>4.3</td><td>3.0</td><td>1.1</td><td>0.1</td><td>setosa</td></tr><tr><th>15</th><td>5.8</td><td>4.0</td><td>1.2</td><td>0.2</td><td>setosa</td></tr><tr><th>16</th><td>5.7</td><td>4.4</td><td>1.5</td><td>0.4</td><td>setosa</td></tr><tr><th>17</th><td>5.4</td><td>3.9</td><td>1.3</td><td>0.4</td><td>setosa</td></tr><tr><th>18</th><td>5.1</td><td>3.5</td><td>1.4</td><td>0.3</td><td>setosa</td></tr><tr><th>19</th><td>5.7</td><td>3.8</td><td>1.7</td><td>0.3</td><td>setosa</td></tr><tr><th>20</th><td>5.1</td><td>3.8</td><td>1.5</td><td>0.3</td><td>setosa</td></tr><tr><th>21</th><td>5.4</td><td>3.4</td><td>1.7</td><td>0.2</td><td>setosa</td></tr><tr><th>22</th><td>5.1</td><td>3.7</td><td>1.5</td><td>0.4</td><td>setosa</td></tr><tr><th>23</th><td>4.6</td><td>3.6</td><td>1.0</td><td>0.2</td><td>setosa</td></tr><tr><th>24</th><td>5.1</td><td>3.3</td><td>1.7</td><td>0.5</td><td>setosa</td></tr><tr><th>25</th><td>4.8</td><td>3.4</td><td>1.9</td><td>0.2</td><td>setosa</td></tr><tr><th>26</th><td>5.0</td><td>3.0</td><td>1.6</td><td>0.2</td><td>setosa</td></tr><tr><th>27</th><td>5.0</td><td>3.4</td><td>1.6</td><td>0.4</td><td>setosa</td></tr><tr><th>28</th><td>5.2</td><td>3.5</td><td>1.5</td><td>0.2</td><td>setosa</td></tr><tr><th>29</th><td>5.2</td><td>3.4</td><td>1.4</td><td>0.2</td><td>setosa</td></tr><tr><th>30</th><td>4.7</td><td>3.2</td><td>1.6</td><td>0.2</td><td>setosa</td></tr><tr><th>&vellip;</th><td>&vellip;</td><td>&vellip;</td><td>&vellip;</td><td>&vellip;</td><td>&vellip;</td></tr></table>"
      ],
      "text/plain": [
       "150x5 DataFrames.DataFrame\n",
       "| Row | SepalLength | SepalWidth | PetalLength | PetalWidth | Species     |\n",
       "|-----|-------------|------------|-------------|------------|-------------|\n",
       "| 1   | 5.1         | 3.5        | 1.4         | 0.2        | \"setosa\"    |\n",
       "| 2   | 4.9         | 3.0        | 1.4         | 0.2        | \"setosa\"    |\n",
       "| 3   | 4.7         | 3.2        | 1.3         | 0.2        | \"setosa\"    |\n",
       "| 4   | 4.6         | 3.1        | 1.5         | 0.2        | \"setosa\"    |\n",
       "| 5   | 5.0         | 3.6        | 1.4         | 0.2        | \"setosa\"    |\n",
       "| 6   | 5.4         | 3.9        | 1.7         | 0.4        | \"setosa\"    |\n",
       "| 7   | 4.6         | 3.4        | 1.4         | 0.3        | \"setosa\"    |\n",
       "| 8   | 5.0         | 3.4        | 1.5         | 0.2        | \"setosa\"    |\n",
       "| 9   | 4.4         | 2.9        | 1.4         | 0.2        | \"setosa\"    |\n",
       "| 10  | 4.9         | 3.1        | 1.5         | 0.1        | \"setosa\"    |\n",
       "| 11  | 5.4         | 3.7        | 1.5         | 0.2        | \"setosa\"    |\n",
       "⋮\n",
       "| 139 | 6.0         | 3.0        | 4.8         | 1.8        | \"virginica\" |\n",
       "| 140 | 6.9         | 3.1        | 5.4         | 2.1        | \"virginica\" |\n",
       "| 141 | 6.7         | 3.1        | 5.6         | 2.4        | \"virginica\" |\n",
       "| 142 | 6.9         | 3.1        | 5.1         | 2.3        | \"virginica\" |\n",
       "| 143 | 5.8         | 2.7        | 5.1         | 1.9        | \"virginica\" |\n",
       "| 144 | 6.8         | 3.2        | 5.9         | 2.3        | \"virginica\" |\n",
       "| 145 | 6.7         | 3.3        | 5.7         | 2.5        | \"virginica\" |\n",
       "| 146 | 6.7         | 3.0        | 5.2         | 2.3        | \"virginica\" |\n",
       "| 147 | 6.3         | 2.5        | 5.0         | 1.9        | \"virginica\" |\n",
       "| 148 | 6.5         | 3.0        | 5.2         | 2.0        | \"virginica\" |\n",
       "| 149 | 6.2         | 3.4        | 5.4         | 2.3        | \"virginica\" |\n",
       "| 150 | 5.9         | 3.0        | 5.1         | 1.8        | \"virginica\" |"
      ]
     },
     "execution_count": 18,
     "metadata": {},
     "output_type": "execute_result"
    }
   ],
   "source": [
    "using RDatasets\n",
    "iris = dataset(\"datasets\", \"iris\")"
   ]
  },
  {
   "cell_type": "code",
   "execution_count": 21,
   "metadata": {
    "collapsed": false
   },
   "outputs": [
    {
     "name": "stderr",
     "output_type": "stream",
     "text": [
      "INFO: Cloning cache of Codecs from git://github.com/dcjones/Codecs.jl.git\n",
      "INFO: Cloning cache of ColorTypes from git://github.com/JuliaGraphics/ColorTypes.jl.git\n",
      "INFO: Cloning cache of Colors from git://github.com/JuliaGraphics/Colors.jl.git\n",
      "INFO: Cloning cache of Compose from git://github.com/dcjones/Compose.jl.git\n",
      "INFO: Cloning cache of Contour from git://github.com/tlycken/Contour.jl.git\n",
      "INFO: Cloning cache of Dates from git://github.com/quinnj/Dates.jl.git\n",
      "INFO: Cloning cache of Distances from git://github.com/JuliaStats/Distances.jl.git\n",
      "INFO: Cloning cache of Distributions from git://github.com/JuliaStats/Distributions.jl.git\n",
      "INFO: Cloning cache of DualNumbers from git://github.com/JuliaDiff/DualNumbers.jl.git\n",
      "INFO: Cloning cache of FixedPointNumbers from git://github.com/JeffBezanson/FixedPointNumbers.jl.git\n",
      "INFO: Cloning cache of FixedSizeArrays from git://github.com/SimonDanisch/FixedSizeArrays.jl.git\n",
      "INFO: Cloning cache of Gadfly from git://github.com/dcjones/Gadfly.jl.git\n",
      "INFO: Cloning cache of Grid from git://github.com/timholy/Grid.jl.git\n",
      "INFO: Cloning cache of Hexagons from git://github.com/dcjones/Hexagons.jl.git\n",
      "INFO: Cloning cache of Iterators from git://github.com/JuliaLang/Iterators.jl.git\n",
      "INFO: Cloning cache of KernelDensity from git://github.com/JuliaStats/KernelDensity.jl.git\n",
      "INFO: Cloning cache of Loess from git://github.com/dcjones/Loess.jl.git\n",
      "INFO: Cloning cache of Measures from git://github.com/dcjones/Measures.jl.git\n",
      "INFO: Cloning cache of Optim from git://github.com/JuliaOpt/Optim.jl.git\n",
      "INFO: Cloning cache of PDMats from git://github.com/JuliaStats/PDMats.jl.git\n",
      "INFO: Cloning cache of Showoff from git://github.com/dcjones/Showoff.jl.git\n",
      "INFO: Cloning cache of WoodburyMatrices from git://github.com/timholy/WoodburyMatrices.jl.git\n",
      "INFO: Installing Codecs v0.1.5\n",
      "INFO: Installing ColorTypes v0.2.1\n",
      "INFO: Installing Colors v0.6.3\n",
      "INFO: Installing Compose v0.4.2\n",
      "INFO: Installing Contour v0.1.0\n",
      "INFO: Installing Dates v0.4.4\n",
      "INFO: Installing Distances v0.3.0\n",
      "INFO: Installing Distributions v0.8.10\n",
      "INFO: Installing DualNumbers v0.2.2\n",
      "INFO: Installing FixedPointNumbers v0.1.2\n",
      "INFO: Installing FixedSizeArrays v0.0.10\n",
      "INFO: Installing Gadfly v0.4.2\n",
      "INFO: Installing Grid v0.4.0\n",
      "INFO: Installing Hexagons v0.0.4\n",
      "INFO: Installing Iterators v0.1.9\n",
      "INFO: Installing KernelDensity v0.1.2\n",
      "INFO: Installing Loess v0.0.6\n",
      "INFO: Installing Measures v0.0.2\n",
      "INFO: Installing Optim v0.4.4\n",
      "INFO: Installing PDMats v0.4.0\n",
      "INFO: Installing Showoff v0.0.6\n",
      "INFO: Installing WoodburyMatrices v0.1.5\n",
      "INFO: Package database updated\n",
      "INFO: METADATA is out-of-date — you may not have the latest version of Gadfly\n",
      "INFO: Use `Pkg.update()` to get the latest versions of your packages\n"
     ]
    },
    {
     "ename": "LoadError",
     "evalue": "LoadError: unknown package Cario\n in error at /opt/homebrew-cask/Caskroom/julia/0.4.2/Julia-0.4.2.app/Contents/Resources/julia/lib/julia/sys.dylib\n [inlined code] from pkg/entry.jl:49\n in anonymous at task.jl:447\nwhile loading In[21], in expression starting on line 2",
     "output_type": "error",
     "traceback": [
      "LoadError: unknown package Cario\n in error at /opt/homebrew-cask/Caskroom/julia/0.4.2/Julia-0.4.2.app/Contents/Resources/julia/lib/julia/sys.dylib\n [inlined code] from pkg/entry.jl:49\n in anonymous at task.jl:447\nwhile loading In[21], in expression starting on line 2",
      "",
      " in sync_end at /opt/homebrew-cask/Caskroom/julia/0.4.2/Julia-0.4.2.app/Contents/Resources/julia/lib/julia/sys.dylib",
      " [inlined code] from task.jl:422",
      " in add at pkg/entry.jl:46",
      " in add at pkg/entry.jl:73",
      " in anonymous at pkg/dir.jl:31",
      " in cd at file.jl:22",
      " in cd at pkg/dir.jl:31",
      " in add at pkg.jl:23"
     ]
    }
   ],
   "source": [
    "Pkg.add(\"Gadfly\")\n",
    "Pkg.add(\"Cario\")\n"
   ]
  },
  {
   "cell_type": "code",
   "execution_count": null,
   "metadata": {
    "collapsed": true
   },
   "outputs": [],
   "source": []
  }
 ],
 "metadata": {
  "kernelspec": {
   "display_name": "Julia 0.4.2",
   "language": "julia",
   "name": "julia-0.4"
  },
  "language_info": {
   "file_extension": ".jl",
   "mimetype": "application/julia",
   "name": "julia",
   "version": "0.4.2"
  }
 },
 "nbformat": 4,
 "nbformat_minor": 0
}

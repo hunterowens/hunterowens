{
 "metadata": {
  "language": "Julia",
  "name": "",
  "signature": "sha256:8f56c849d2034fb98d37642ba2f8e46eccdb89adb3046f212f430f32c651efe5"
 },
 "nbformat": 3,
 "nbformat_minor": 0,
 "worksheets": [
  {
   "cells": [
    {
     "cell_type": "code",
     "collapsed": false,
     "input": [
      "macro timen(ex, n)\n",
      "    quote\n",
      "        local t0 = time_ns()\n",
      "        for i = 1:$(esc(n))\n",
      "            local val = $(esc(ex))\n",
      "        end\n",
      "        local t1 = time_ns()\n",
      "        (t1 - t0) / 1.e9\n",
      "    end\n",
      "end "
     ],
     "language": "python",
     "metadata": {},
     "outputs": [],
     "prompt_number": 11
    },
    {
     "cell_type": "code",
     "collapsed": false,
     "input": [
      "macro timeit(ex)\n",
      "    quote\n",
      "        local val = $(esc(ex))  # Warm up\n",
      "        t = zeros(3)\n",
      "        \n",
      "        # Determine number of loops so that total time > 0.1s.\n",
      "        n = 1\n",
      "        for i = 0:9\n",
      "            n = 10^i\n",
      "            t[1] = @timen $(esc(ex)) n\n",
      "            if t[1] > 0.1\n",
      "                break\n",
      "            end\n",
      "        end\n",
      "\n",
      "        # Two more production runs.\n",
      "        for i = 2:3\n",
      "            t[i] = @timen $(esc(ex)) n\n",
      "        end\n",
      "        best = minimum(t) / n\n",
      "\n",
      "        # Format to nano-, micro- or milliseconds.\n",
      "        if best < 1e-6\n",
      "            best *= 1e9\n",
      "            pre = \"n\"\n",
      "        elseif best < 1e-3\n",
      "            best *= 1e6\n",
      "            pre = \"\\u00b5\"\n",
      "        else\n",
      "            best *= 1e3\n",
      "            pre = \"m\"\n",
      "        end\n",
      "        @printf \"%d loops, best of 3: %4.2f %ss per loop\\n\" n best pre\n",
      "    end\n",
      "end\n"
     ],
     "language": "python",
     "metadata": {},
     "outputs": [],
     "prompt_number": 12
    },
    {
     "cell_type": "code",
     "collapsed": false,
     "input": [
      "fib(n) = n < 2 ? n : fib(n-1) + fib(n-2)"
     ],
     "language": "python",
     "metadata": {},
     "outputs": [
      {
       "metadata": {},
       "output_type": "pyout",
       "prompt_number": 13,
       "text": [
        "fib (generic function with 1 method)"
       ]
      }
     ],
     "prompt_number": 13
    },
    {
     "cell_type": "code",
     "collapsed": false,
     "input": [
      "@timeit fib(20) "
     ],
     "language": "python",
     "metadata": {},
     "outputs": [
      {
       "output_type": "stream",
       "stream": "stdout",
       "text": [
        "10000 loops, best of 3: "
       ]
      },
      {
       "output_type": "stream",
       "stream": "stdout",
       "text": [
        "76.31 \u00b5s per loop\n"
       ]
      }
     ],
     "prompt_number": 14
    },
    {
     "cell_type": "markdown",
     "metadata": {},
     "source": [
      "## Quicksort"
     ]
    },
    {
     "cell_type": "code",
     "collapsed": false,
     "input": [
      "def qsort_kernel(a, lo, hi):\n",
      "    i = lo\n",
      "    j = hi\n",
      "    while i < hi:\n",
      "        pivot = a[(lo+hi) // 2]\n",
      "        while i <= j:\n",
      "            while a[i] < pivot:\n",
      "                i += 1\n",
      "            while a[j] > pivot:\n",
      "                j -= 1\n",
      "            if i <= j:\n",
      "                a[i], a[j] = a[j], a[i]\n",
      "                i += 1\n",
      "                j -= 1\n",
      "        if lo < j:\n",
      "            qsort_kernel(a, lo, j)\n",
      "        lo = i\n",
      "        j = hi\n",
      "    return a"
     ],
     "language": "python",
     "metadata": {},
     "outputs": []
    }
   ],
   "metadata": {}
  }
 ]
}
{
 "metadata": {
  "name": "",
  "signature": "sha256:e2811196c3860803a73659082e8c9955ac2790cb391512e716e081beb7f6e655"
 },
 "nbformat": 3,
 "nbformat_minor": 0,
 "worksheets": [
  {
   "cells": [
    {
     "cell_type": "code",
     "collapsed": false,
     "input": [
      "from numba import jit"
     ],
     "language": "python",
     "metadata": {},
     "outputs": [],
     "prompt_number": 1
    },
    {
     "cell_type": "code",
     "collapsed": false,
     "input": [
      "from numpy import *\n",
      "from numpy.linalg import *\n",
      "import sys\n",
      "import time\n",
      "import random\n",
      "import numpy"
     ],
     "language": "python",
     "metadata": {},
     "outputs": [],
     "prompt_number": 2
    },
    {
     "cell_type": "code",
     "collapsed": false,
     "input": [
      "def fib(n):\n",
      "    if n<2:\n",
      "        return n\n",
      "    return fib(n-1)+fib(n-2)"
     ],
     "language": "python",
     "metadata": {},
     "outputs": [],
     "prompt_number": 3
    },
    {
     "cell_type": "code",
     "collapsed": false,
     "input": [
      "@jit\n",
      "def fib_numba(n):\n",
      "    if n<2:\n",
      "        return n\n",
      "    return fib(n-1)+fib(n-2)"
     ],
     "language": "python",
     "metadata": {},
     "outputs": [],
     "prompt_number": 6
    },
    {
     "cell_type": "code",
     "collapsed": false,
     "input": [
      "%timeit fib(20)\n",
      "%timeit fib_numba(20)"
     ],
     "language": "python",
     "metadata": {},
     "outputs": [
      {
       "output_type": "stream",
       "stream": "stdout",
       "text": [
        "100 loops, best of 3: 3.41 ms per loop\n",
        "100 loops, best of 3: 3.46 ms per loop"
       ]
      },
      {
       "output_type": "stream",
       "stream": "stdout",
       "text": [
        "\n"
       ]
      }
     ],
     "prompt_number": 7
    },
    {
     "cell_type": "markdown",
     "metadata": {},
     "source": [
      "## Quicksort "
     ]
    },
    {
     "cell_type": "code",
     "collapsed": false,
     "input": [
      "def qsort_kernel(a, lo, hi):\n",
      "    i = lo\n",
      "    j = hi\n",
      "    while i < hi:\n",
      "        pivot = a[(lo+hi) // 2]\n",
      "        while i <= j:\n",
      "            while a[i] < pivot:\n",
      "                i += 1\n",
      "            while a[j] > pivot:\n",
      "                j -= 1\n",
      "            if i <= j:\n",
      "                a[i], a[j] = a[j], a[i]\n",
      "                i += 1\n",
      "                j -= 1\n",
      "        if lo < j:\n",
      "            qsort_kernel(a, lo, j)\n",
      "        lo = i\n",
      "        j = hi\n",
      "    return a"
     ],
     "language": "python",
     "metadata": {},
     "outputs": [],
     "prompt_number": 8
    },
    {
     "cell_type": "code",
     "collapsed": false,
     "input": [
      "@jit\n",
      "def qsort_kernel_numba(a, lo, hi):\n",
      "    i = lo\n",
      "    j = hi\n",
      "    while i < hi:\n",
      "        pivot = a[(lo+hi) // 2]\n",
      "        while i <= j:\n",
      "            while a[i] < pivot:\n",
      "                i += 1\n",
      "            while a[j] > pivot:\n",
      "                j -= 1\n",
      "            if i <= j:\n",
      "                a[i], a[j] = a[j], a[i]\n",
      "                i += 1\n",
      "                j -= 1\n",
      "        if lo < j:\n",
      "            qsort_kernel(a, lo, j)\n",
      "        lo = i\n",
      "        j = hi\n",
      "    return a"
     ],
     "language": "python",
     "metadata": {},
     "outputs": [],
     "prompt_number": 9
    },
    {
     "cell_type": "code",
     "collapsed": false,
     "input": [],
     "language": "python",
     "metadata": {},
     "outputs": []
    }
   ],
   "metadata": {}
  }
 ]
}